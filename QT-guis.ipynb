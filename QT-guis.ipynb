{
 "metadata": {
  "name": "",
  "signature": "sha256:896ac5dae9cf63fd7a5dee0a6b3046f1077013148703784153a1b7086ae30cdb"
 },
 "nbformat": 3,
 "nbformat_minor": 0,
 "worksheets": [
  {
   "cells": [
    {
     "cell_type": "heading",
     "level": 1,
     "metadata": {},
     "source": [
      "Import"
     ]
    },
    {
     "cell_type": "code",
     "collapsed": false,
     "input": [
      "### magics\n",
      "%pylab "
     ],
     "language": "python",
     "metadata": {},
     "outputs": [
      {
       "output_type": "stream",
       "stream": "stdout",
       "text": [
        "Using matplotlib backend: Qt4Agg\n",
        "Populating the interactive namespace from numpy and matplotlib\n"
       ]
      },
      {
       "output_type": "stream",
       "stream": "stderr",
       "text": [
        "WARNING: pylab import has clobbered these variables: ['norm', 'rc', 'plot', 'sample', 'text', 'concatenate']\n",
        "`%matplotlib` prevents importing * from pylab and numpy\n"
       ]
      }
     ],
     "prompt_number": 29
    },
    {
     "cell_type": "code",
     "collapsed": false,
     "input": [
      "%reload_ext autoreload\n",
      "%autoreload  2\n",
      "\n",
      "from Functions import *\n",
      "\n",
      "from collections import deque\n",
      "css_styling()\n",
      "import time as ostime\n",
      "import cv2 as cv2\n",
      "import scipy\n",
      "from pyqtgraph.Qt import QtGui, QtCore \n",
      "import pyqtgraph as pg\n",
      "import cPickle as pickle\n",
      "pg.setConfigOptions(antialias=True)\n",
      "import agpy as agf\n",
      "\n",
      "from qt import *"
     ],
     "language": "python",
     "metadata": {},
     "outputs": [
      {
       "output_type": "stream",
       "stream": "stdout",
       "text": [
        "Can't use kdist without the 'coords' package\n",
        "reg_gal2cel requires coords & pyregion\n",
        "posang requires coords\n",
        "Region Photometry requires pyregion\n",
        "Cannot import montage."
       ]
      },
      {
       "output_type": "stream",
       "stream": "stdout",
       "text": [
        "\n",
        "cubes.py requires coords for aper_world2pix and coords_in_image\n",
        "cubes.py requires pyregion for getspec_reg\n",
        "cubes.py requires pywcs for some subimage_integ,aper_wordl2pix,getspec, and coords_in_image\n"
       ]
      }
     ],
     "prompt_number": 2
    },
    {
     "cell_type": "markdown",
     "metadata": {},
     "source": [
      "Matplotlib tweak"
     ]
    },
    {
     "cell_type": "code",
     "collapsed": false,
     "input": [
      "matplotlib.rcParams.update({'font.size': 20})\n",
      "matplotlib.rcParams.update({'figure.figsize': (10.0, 8.0)})"
     ],
     "language": "python",
     "metadata": {},
     "outputs": [],
     "prompt_number": 3
    },
    {
     "cell_type": "markdown",
     "metadata": {},
     "source": [
      "Paralle set up"
     ]
    },
    {
     "cell_type": "code",
     "collapsed": false,
     "input": [
      "from IPython.parallel import Client\n",
      "css_styling()\n",
      "rc = Client()\n",
      "dview = rc[:]\n",
      "%px clear"
     ],
     "language": "python",
     "metadata": {},
     "outputs": [
      {
       "output_type": "stream",
       "stream": "stdout",
       "text": [
        "[stdout:0] \u001b[H\u001b[2J\n",
        "[stdout:1] \u001b[H\u001b[2J\n",
        "[stdout:2] \u001b[H\u001b[2J\n",
        "[stdout:3] \u001b[H\u001b[2J\n"
       ]
      }
     ],
     "prompt_number": 4
    },
    {
     "cell_type": "markdown",
     "metadata": {},
     "source": [
      "Importing on engines"
     ]
    },
    {
     "cell_type": "code",
     "collapsed": false,
     "input": [
      "with dview.sync_imports():\n",
      "    import time as tm\n",
      "    import numpy as np\n",
      "    import matplotlib.pyplot as plt \n",
      "    import pandas as pd\n",
      "    from scipy.ndimage import measurements as meas\n",
      "    from scipy.ndimage import center_of_mass\n",
      "    from scipy.ndimage import median_filter\n",
      "    from scipy.signal import medfilt\n",
      "    import os\n",
      "    from scipy.optimize import curve_fit\n",
      "    from matplotlib.patches import Ellipse\n",
      "    import Image\n",
      "    %px %load_ext autoreload\n",
      "    %px %autoreload 2 \n",
      "    from Functions import  SPring8_image, gauss_function, parse_headers, Version, pandify_header"
     ],
     "language": "python",
     "metadata": {},
     "outputs": [
      {
       "output_type": "stream",
       "stream": "stdout",
       "text": [
        "importing time on engine(s)\n",
        "importing numpy on engine(s)\n",
        "importing matplotlib.pyplot on engine(s)\n",
        "importing pandas on engine(s)\n",
        "importing measurements from scipy.ndimage on engine(s)\n",
        "importing center_of_mass from scipy.ndimage on engine(s)"
       ]
      },
      {
       "output_type": "stream",
       "stream": "stdout",
       "text": [
        "\n",
        "importing median_filter from scipy.ndimage on engine(s)\n",
        "importing medfilt from scipy.signal on engine(s)"
       ]
      },
      {
       "output_type": "stream",
       "stream": "stdout",
       "text": [
        "\n",
        "importing os on engine(s)\n",
        "importing curve_fit from scipy.optimize on engine(s)\n",
        "importing Ellipse from matplotlib.patches on engine(s)\n",
        "importing Image on engine(s)\n",
        "importing Again from zmq.error on engine(s)\n",
        "importing strerror,zmq_errno from zmq.backend on engine(s)\n",
        "importing SPring8_image,gauss_function,parse_headers,Version,pandify_header from Functions on engine(s)"
       ]
      },
      {
       "output_type": "stream",
       "stream": "stdout",
       "text": [
        "\n"
       ]
      }
     ],
     "prompt_number": 5
    },
    {
     "cell_type": "heading",
     "level": 2,
     "metadata": {},
     "source": [
      "Create directory map"
     ]
    },
    {
     "cell_type": "code",
     "collapsed": false,
     "input": [
      "# parse file on disk\n",
      "sample = \"InAs0799\"\n",
      "name = sample+\"time4\"\n",
      "files = !ls ./pilatus/$sample/$name/*.tif\n",
      "if len(files) ==1 :\n",
      "    print 'typo'\n",
      "# push files to parallel engines \n",
      "puhsed_files = dview.push(dict(files=files))\n",
      "pushed_functions = dview.push(dict(SPring8_image = SPring8_image,\n",
      "                                    gauss_function=gauss_function,\n",
      "                                    parse_headers = parse_headers))\n"
     ],
     "language": "python",
     "metadata": {},
     "outputs": [],
     "prompt_number": 94
    },
    {
     "cell_type": "markdown",
     "metadata": {},
     "source": [
      "load times"
     ]
    },
    {
     "cell_type": "code",
     "collapsed": false,
     "input": [
      "if \"0800\" in sample:\n",
      "    lines = 1\n",
      "if \"time1\" in name:\n",
      "    lines = 0 \n",
      "else:\n",
      "    lines = 2 \n",
      "    \n",
      "spec_df = load_spec_log(name, 2)\n",
      "time = spec_df.Time.values"
     ],
     "language": "python",
     "metadata": {},
     "outputs": [],
     "prompt_number": 95
    },
    {
     "cell_type": "heading",
     "level": 2,
     "metadata": {},
     "source": [
      "load headers"
     ]
    },
    {
     "cell_type": "code",
     "collapsed": false,
     "input": [
      "samples = list( flatten( dview.map_sync(lambda x: parse_headers(x,2),files)))"
     ],
     "language": "python",
     "metadata": {},
     "outputs": [],
     "prompt_number": 96
    },
    {
     "cell_type": "code",
     "collapsed": false,
     "input": [
      "for i in samples:\n",
      "    try:\n",
      "         i.NIG\n",
      "    except:\n",
      "        print 'error'"
     ],
     "language": "python",
     "metadata": {},
     "outputs": [],
     "prompt_number": 97
    },
    {
     "cell_type": "code",
     "collapsed": false,
     "input": [
      "data_df = pandify_header(samples)\n",
      "data_df['Time'] = spec_df.Time.values"
     ],
     "language": "python",
     "metadata": {},
     "outputs": [],
     "prompt_number": 98
    },
    {
     "cell_type": "code",
     "collapsed": false,
     "input": [
      "data_df.head()"
     ],
     "language": "python",
     "metadata": {},
     "outputs": [
      {
       "html": [
        "<div style=\"max-height:1000px;max-width:1500px;overflow:auto;\">\n",
        "<table border=\"1\" class=\"dataframe\">\n",
        "  <thead>\n",
        "    <tr style=\"text-align: right;\">\n",
        "      <th></th>\n",
        "      <th>NIG</th>\n",
        "      <th>name</th>\n",
        "      <th>Monitor</th>\n",
        "      <th>Timestamp</th>\n",
        "      <th>Time</th>\n",
        "    </tr>\n",
        "  </thead>\n",
        "  <tbody>\n",
        "    <tr>\n",
        "      <th>13</th>\n",
        "      <td> 0.000283</td>\n",
        "      <td> ./pilatus/InAs0799/InAs0799time4/InAs0799time4...</td>\n",
        "      <td> 12948</td>\n",
        "      <td> NaN</td>\n",
        "      <td> 0.003235</td>\n",
        "    </tr>\n",
        "    <tr>\n",
        "      <th>14</th>\n",
        "      <td> 0.000283</td>\n",
        "      <td> ./pilatus/InAs0799/InAs0799time4/InAs0799time4...</td>\n",
        "      <td> 12244</td>\n",
        "      <td> NaN</td>\n",
        "      <td> 0.911483</td>\n",
        "    </tr>\n",
        "    <tr>\n",
        "      <th>16</th>\n",
        "      <td> 0.000000</td>\n",
        "      <td> ./pilatus/InAs0799/InAs0799time4/InAs0799time4...</td>\n",
        "      <td> 12273</td>\n",
        "      <td> NaN</td>\n",
        "      <td> 2.844520</td>\n",
        "    </tr>\n",
        "    <tr>\n",
        "      <th>22</th>\n",
        "      <td> 0.000286</td>\n",
        "      <td> ./pilatus/InAs0799/InAs0799time4/InAs0799time4...</td>\n",
        "      <td> 13031</td>\n",
        "      <td> NaN</td>\n",
        "      <td> 9.026830</td>\n",
        "    </tr>\n",
        "    <tr>\n",
        "      <th>23</th>\n",
        "      <td> 0.000285</td>\n",
        "      <td> ./pilatus/InAs0799/InAs0799time4/InAs0799time4...</td>\n",
        "      <td> 12980</td>\n",
        "      <td> NaN</td>\n",
        "      <td> 9.942640</td>\n",
        "    </tr>\n",
        "  </tbody>\n",
        "</table>\n",
        "</div>"
       ],
       "metadata": {},
       "output_type": "pyout",
       "prompt_number": 106,
       "text": [
        "         NIG                                               name  Monitor  \\\n",
        "13  0.000283  ./pilatus/InAs0799/InAs0799time4/InAs0799time4...    12948   \n",
        "14  0.000283  ./pilatus/InAs0799/InAs0799time4/InAs0799time4...    12244   \n",
        "16  0.000000  ./pilatus/InAs0799/InAs0799time4/InAs0799time4...    12273   \n",
        "22  0.000286  ./pilatus/InAs0799/InAs0799time4/InAs0799time4...    13031   \n",
        "23  0.000285  ./pilatus/InAs0799/InAs0799time4/InAs0799time4...    12980   \n",
        "\n",
        "   Timestamp      Time  \n",
        "13       NaN  0.003235  \n",
        "14       NaN  0.911483  \n",
        "16       NaN  2.844520  \n",
        "22       NaN  9.026830  \n",
        "23       NaN  9.942640  "
       ]
      }
     ],
     "prompt_number": 106
    },
    {
     "cell_type": "heading",
     "level": 2,
     "metadata": {},
     "source": [
      "Load shutter dump"
     ]
    },
    {
     "cell_type": "code",
     "collapsed": false,
     "input": [
      "filename = str(name) + 'shutter' + \".p\"\n",
      "try:\n",
      "    on_off = pickle.load( open(filename, \"rb\"))\n",
      "except:\n",
      "    on_off = [0.0,1.0]"
     ],
     "language": "python",
     "metadata": {},
     "outputs": [],
     "prompt_number": 107
    },
    {
     "cell_type": "markdown",
     "metadata": {},
     "source": [
      "load all the images in a list ordered by time"
     ]
    },
    {
     "cell_type": "code",
     "collapsed": false,
     "input": [
      "data_list= []\n",
      "#  errorr =  should add the erorrs !!\n",
      "for i, t , index, monitor in zip(data_df.name,data_df.Time,range(0,len(data_df.Time)), data_df.Monitor):\n",
      "    image = SPring8_image(i)\n",
      "    image.read_detector(2)\n",
      "    image = (image.img)\n",
      "    image = image[70:125,90:370]\n",
      "    image = image / monitor\n",
      "    data_list.append(rot90(flipud((image)),3))  # messy to make the image look correct!\n",
      "    \n",
      "data_array = array(data_list)"
     ],
     "language": "python",
     "metadata": {},
     "outputs": [],
     "prompt_number": 108
    },
    {
     "cell_type": "markdown",
     "metadata": {},
     "source": [
      "If needed dump them to disk.."
     ]
    },
    {
     "cell_type": "code",
     "collapsed": false,
     "input": [
      "# pickle.dump(data_array, open(str(name) + 'image_slice' + \".p\", \"wb\"))"
     ],
     "language": "python",
     "metadata": {},
     "outputs": [],
     "prompt_number": 109
    },
    {
     "cell_type": "code",
     "collapsed": false,
     "input": [
      "try:\n",
      "    on_off = pickle.load(open(name+'ON_offs'+'.csv','rb'))\n",
      "except Exception as e:\n",
      "    print e\n",
      "    print \"probably first run\""
     ],
     "language": "python",
     "metadata": {},
     "outputs": [
      {
       "output_type": "stream",
       "stream": "stdout",
       "text": [
        "[Errno 2] No such file or directory: 'InAs0799time4ON_offs.csv'\n",
        "probably first run\n"
       ]
      }
     ],
     "prompt_number": 110
    },
    {
     "cell_type": "heading",
     "level": 2,
     "metadata": {},
     "source": [
      "PQ plot"
     ]
    },
    {
     "cell_type": "code",
     "collapsed": false,
     "input": [
      "app = pg.mkQApp()\n",
      "# Create window with two ImageView widgets\n",
      "win = QtGui.QMainWindow()\n",
      "win.resize(800, 1000)\n",
      "win.setWindowTitle('DataSlicing sample:{0}'.format(name))\n",
      "cw = QtGui.QWidget()\n",
      "win.setCentralWidget(cw)\n",
      "\n",
      "# layout\n",
      "l = QtGui.QGridLayout()\n",
      "l.setRowStretch(0, 5)\n",
      "l.setRowStretch(2, 3)\n",
      "l.setRowStretch(3, 3)\n",
      "l.setRowStretch(4, 3)\n",
      "l.setRowStretch(5, 3)\n",
      "\n",
      "\n",
      "cw.setLayout(l)\n",
      "\n",
      "\n",
      "\n",
      "\n",
      "# main image display\n",
      "dummy_plot = pg.PlotItem(title='Pilatus image')\n",
      "dummy_plot.enableAutoRange()\n",
      "imv1 = pg.ImageView(view=dummy_plot)\n",
      "\n",
      "# create number of rois:\n",
      "rois = [pg.PolyLineROI(\n",
      "    [[170, 20], [170, 40], [250, 40], [250, 20]], closed=True, pen='y'),\n",
      "    pg.PolyLineROI([[250, 0], [250, 50], [280, 50], [280, 0]],\n",
      "                   closed=True, pen='r'),\n",
      "    pg.PolyLineROI([[140, 20], [140, 40], [155, 40], [155, 20]],\n",
      "                   closed=True, pen='g'),  # WZ\n",
      "    pg.PolyLineROI([[125, 20], [125, 40], [140, 40], [140, 20]],\n",
      "                   closed=True, pen=(255, 0, 123)),  # bkg left\n",
      "    pg.PolyLineROI([[155, 20], [155, 40], [170, 40], [170, 20]],\n",
      "                   closed=True, pen=(255, 200, 123))  # bkg  right\n",
      "]  # [x,y]\n",
      "\n",
      "# get rois\n",
      "roi1, roi2, roi3, roi4, roi5 = rois\n",
      "\n",
      "# add rois to main image\n",
      "[imv1.addItem(roi) for roi in rois]\n",
      "\n",
      "\n",
      "# create number of plots\n",
      "dummy_plots = [pg.PlotItem(title='roi image 1'),\n",
      "               pg.PlotItem(title='roi image 2'),\n",
      "               pg.PlotItem(title='roi image 3'),\n",
      "               pg.PlotItem(title='roi image 4'),\n",
      "               pg.PlotItem(title='roi image 5'), ]\n",
      "# enable auto scale\n",
      "[dummy_plot_i.enableAutoRange() for dummy_plot_i in dummy_plots]\n",
      "# create the images using dummy as view\n",
      "images = [pg.ImageView(view=i) for i in dummy_plots]\n",
      "# unpack images widgets\n",
      "imv2,  imv3,  imv4, imv5, imv6 = images\n",
      "\n",
      "\n",
      "#  roi image display plots\n",
      "plots = [pg.PlotWidget() for i in rois]\n",
      "[plot.enableAutoRange() for plot in plots]\n",
      "\n",
      "# unpack  plot widgets\n",
      "pw, pw2, pw3, pw4, pw5 = plots\n",
      "\n",
      "# plot for line cut in first row\n",
      "pw6 = pg.PlotWidget()\n",
      "pw6.enableAutoRange()\n",
      "pw6.setLabel('left', \"Intensity\", units='a.u.')\n",
      "pw6.setLabel('bottom', \"position\", units='pixel')\n",
      "pw6.setLogMode(x=False, y=True)\n",
      "\n",
      "# plot for bacrkound pressure\n",
      "pw7 = pg.PlotWidget()\n",
      "pw7.enableAutoRange()\n",
      "pw7.setLabel('left', \"Background Pressure\", units='a.u.')\n",
      "pw7.setLabel('bottom', \"position\", units='s')\n",
      "pw7.setLogMode(x=False, y=False)\n",
      "\n",
      "\n",
      "# customize plots\n",
      "for i in plots:\n",
      "    i.setLabel('left', \"Intensity\", units='a.u.')\n",
      "    i.setLabel('bottom', \"Time\", units='s')\n",
      "    i.setLogMode(x=False, y=False)\n",
      "\n",
      "\n",
      "# add widgets\n",
      "# fromRow, int fromColumn, int rowSpan, int columnSpan\n",
      "\n",
      "\n",
      "details = True\n",
      "    \n",
      "if details:\n",
      "    l.setRowStretch(1, 1)\n",
      "    l.setRowStretch(6, 3)\n",
      "    l.addWidget(imv1, 0, 0, 1, 3)\n",
      "    l.addWidget(pw6, 0, 3, 1, 2)\n",
      "\n",
      "    for image, i in zip(images, range(5)):\n",
      "        l.addWidget(image, 1, i, 1, 1)\n",
      "\n",
      "    l.addWidget(pw, 2, 0, 1, 5)\n",
      "    l.addWidget(pw2, 3, 0, 1, 5)\n",
      "    l.addWidget(pw3, 4, 0, 1, 5)\n",
      "    l.addWidget(pw4, 5, 0, 1, 5)\n",
      "    l.addWidget(pw7, 6, 0, 1, 5)\n",
      "if not details:\n",
      "    l.setRowStretch(0, 1)\n",
      "    l.setRowStretch(1, 2)\n",
      "    l.setRowStretch(5, 10)\n",
      "    l.addWidget(imv1, 0, 0, 1, 5)\n",
      "    l.addWidget(pw, 1, 0, 1, 5)\n",
      "    l.addWidget(pw2, 2, 0, 1, 5)\n",
      "    l.addWidget(pw3, 3, 0, 1, 5)\n",
      "    l.addWidget(pw4, 4, 0, 1, 5)\n",
      "    l.addWidget(pw7, 5, 0, 1, 5)\n",
      "\n",
      "\n",
      "\n",
      "\n",
      "# plot NIG\n",
      "pw7.plot(data_df.Time[data_df.NIG != 0.0 ], data_df.NIG[data_df.NIG != 0.0])\n",
      "\n",
      "# add text to main widget to see the timestamp!\n",
      "\n",
      "text = pg.TextItem('Time: ' + str(data_df.Time[imv1.currentIndex]))\n",
      "dummy_plot.addItem(text)\n",
      "text.setPos(260, 10)\n",
      "\n",
      "\n",
      "# define update  image function for  each roi\n",
      "def update_1():\n",
      "    global data_array, imv1, pw, roi\n",
      "    d4 = roi1.getArrayRegion(\n",
      "        data_array[imv1.currentIndex], imv1.imageItem, axes=(0, 1))\n",
      "    imv2.setImage(d4)\n",
      "\n",
      "\n",
      "def update_2():\n",
      "    global data_array, imv1, pw, roi\n",
      "    d4 = roi2.getArrayRegion(\n",
      "        data_array[imv1.currentIndex], imv1.imageItem, axes=(0, 1))\n",
      "    imv3.setImage(d4)\n",
      "\n",
      "\n",
      "def update_3():\n",
      "    global data_array, imv1, pw, roi\n",
      "    d4 = roi3.getArrayRegion(\n",
      "        data_array[imv1.currentIndex], imv1.imageItem, axes=(0, 1))\n",
      "    imv4.setImage(d4)\n",
      "\n",
      "\n",
      "def update_4():\n",
      "    global data_array, imv1, pw, roi\n",
      "    d4 = roi4.getArrayRegion(\n",
      "        data_array[imv1.currentIndex], imv1.imageItem, axes=(0, 1))\n",
      "    imv5.setImage(d4)\n",
      "\n",
      "\n",
      "def update_5():\n",
      "    global data_array, imv1, pw, roi\n",
      "    d4 = roi5.getArrayRegion(\n",
      "        data_array[imv1.currentIndex], imv1.imageItem, axes=(0, 1))\n",
      "    imv6.setImage(d4)\n",
      "\n",
      "# add functions to list for easy calling\n",
      "\n",
      "update_image = [update_1, update_2, update_3, update_4, update_5]\n",
      "\n",
      "\n",
      "derive = False\n",
      "\n",
      "\n",
      "def update_sum_plot_0():\n",
      "    'yellow roi'\n",
      "    global data_array, imv1, plots, roi1, plot1, on_off\n",
      "    datas = deque()\n",
      "    for i in range(0, len(data_array)):\n",
      "        datas.append(sum(roi1.getArrayRegion(data_array[i],\n",
      "                                             imv1.imageItem, axes=(0, 1))))\n",
      "    raw_data = datas\n",
      "    if derive == True:\n",
      "        plot1.plot(\n",
      "            data_df.Time, savitzky_golay(list(datas), 15, 2, 1), clear=True, pen=None, symbol='o',\n",
      "            symbolPen=None, symbolSize=3, symbolBrush=roi1.pen.color())\n",
      "    else:\n",
      "        plot1.plot(data_df.Time, datas, clear=True, pen=None, symbol='o',\n",
      "                   symbolPen=None, symbolSize=3, symbolBrush=roi1.pen.color())\n",
      "    for on, off in zip(on_off[:-1:2], on_off[1::2]):\n",
      "        region = pg.LinearRegionItem(values=[on, off], movable=False)\n",
      "        plot1.addItem(region, ignoreBounds=True)\n",
      "    return raw_data\n",
      "\n",
      "\n",
      "def update_sum_plot_1():\n",
      "    'red roi'\n",
      "    global data_array, imv1, plots, roi2, plot2, on_off\n",
      "    datas = deque()\n",
      "    for i in range(0, len(data_array)):\n",
      "        datas.append(sum(roi2.getArrayRegion(data_array[i],\n",
      "                                             imv1.imageItem, axes=(0, 1))))\n",
      "    raw_data = datas\n",
      "    if derive == True:\n",
      "        plot2.plot(\n",
      "            data_df.Time, savitzky_golay(list(datas), 15, 2, 1), clear=True, pen=None, symbol='o',\n",
      "            symbolPen=None, symbolSize=3, symbolBrush=roi2.pen.color())\n",
      "    else:\n",
      "        plot2.plot(data_df.Time, list(datas), clear=True, pen=None, symbol='o',\n",
      "                   symbolPen=None, symbolSize=3, symbolBrush=roi2.pen.color())\n",
      "    for on, off in zip(on_off[:-1:2], on_off[1::2]):\n",
      "        region = pg.LinearRegionItem(values=[on, off], movable=False)\n",
      "        plot2.addItem(region, ignoreBounds=True)\n",
      "    return raw_data\n",
      "\n",
      "\n",
      "def update_sum_plot_2():\n",
      "    \"update WZ \"\n",
      "    global data_array, imv1, plots, roi3, plot3, on_off\n",
      "    datas = deque()\n",
      "    for i in range(0, len(data_array)):\n",
      "        datas.append(sum(roi3.getArrayRegion(data_array[i],\n",
      "                                             imv1.imageItem, axes=(0, 1))))\n",
      "    raw_data = datas\n",
      "    datas = pd.rolling_mean(pd.Series(datas), 3)\n",
      "    if derive == True:\n",
      "        plot3.plot(\n",
      "            data_df.Time, savitzky_golay(list(datas), 15, 2, 1), clear=True, pen=None, symbol='o',\n",
      "            symbolPen=None, symbolSize=3, symbolBrush=roi3.pen.color())\n",
      "    else:\n",
      "        plot3.plot(data_df.Time, list(datas), clear=True, pen=None, symbol='o',\n",
      "                   symbolPen=None, symbolSize=3, symbolBrush=roi3.pen.color())\n",
      "    for on, off in zip(on_off[:-1:2], on_off[1::2]):\n",
      "        region = pg.LinearRegionItem(values=[on, off], movable=False)\n",
      "        plot3.addItem(region, ignoreBounds=True)\n",
      "    plot3.setLabel('top', \"update green\", units=None)\n",
      "    return raw_data\n",
      "\n",
      "\n",
      "def update_sum_plot_4():\n",
      "    'ttrash function disregard'\n",
      "    global data_array, imv1, plots, roi4, plot4, on_off\n",
      "    datas = deque()\n",
      "    for i in range(0, len(data_array)):\n",
      "        datas.append(sum(roi4.getArrayRegion(data_array[i],\n",
      "                                             imv1.imageItem, axes=(0, 1))))\n",
      "    raw_data = datas\n",
      "    plot5.plot(data_df.Time, datas, clear=True, pen=None, symbol='o',\n",
      "               symbolPen=None, symbolSize=3, symbolBrush=roi4.pen.color())\n",
      "    for on, off in zip(on_off[:-1:2], on_off[1::2]):\n",
      "        region = pg.LinearRegionItem(values=[on, off], movable=False)\n",
      "        plot5.addItem(region, ignoreBounds=True)\n",
      "    return None\n",
      "\n",
      "\n",
      "def update_sum_plot_3():\n",
      "    \"update both tails of wz and return  raw_data_right, raw_data_left \"\n",
      "    global data_array, imv1, plots, roi5, plot5, roi4, on_off\n",
      "    datas = deque()\n",
      "    for on, off in zip(on_off[:-1:2], on_off[1::2]):\n",
      "        region = pg.LinearRegionItem(values=[on, off], movable=False)\n",
      "        plot4.addItem(region, ignoreBounds=True)\n",
      "    # get data\n",
      "    for i in range(0, len(data_array)):\n",
      "        datas.append(sum(roi5.getArrayRegion(data_array[i],\n",
      "                                             imv1.imageItem, axes=(0, 1))))\n",
      "    raw_data_right = datas\n",
      "    # plot data\n",
      "    plot4.plot(data_df.Time, datas, clear=True, pen=None, symbol='o',\n",
      "               symbolPen=None, symbolSize=3, symbolBrush=roi5.pen.color())\n",
      "    # get data\n",
      "    datas = deque()\n",
      "    for i in range(0, len(data_array)):\n",
      "        datas.append(sum(roi4.getArrayRegion(data_array[i],\n",
      "                                             imv1.imageItem, axes=(0, 1))))\n",
      "    raw_data_left = datas\n",
      "    # plot data\n",
      "    plot4.plot(data_df.Time, datas, pen=None, symbol='o',\n",
      "               symbolPen=None, symbolSize=3, symbolBrush=roi4.pen.color())\n",
      "    for on, off in zip(on_off[:-1:2], on_off[1::2]):\n",
      "        region = pg.LinearRegionItem(values=[on, off], movable=False)\n",
      "        plot4.addItem(region, ignoreBounds=True)\n",
      "    plot4.setLabel('top', \"tails\", units=None)\n",
      "    return raw_data_right, raw_data_left\n",
      "\n",
      "update_plots = [update_sum_plot_0, update_sum_plot_1,\n",
      "                update_sum_plot_2, update_sum_plot_3, update_sum_plot_4]\n",
      "\n",
      "\n",
      "def update_index_text():\n",
      "    global data_array, imv1, text\n",
      "    textstr = 'Time: ' + str(data_df.Time[imv1.currentIndex])\n",
      "    text.setText(textstr)\n",
      "    return textstr\n",
      "\n",
      "# add vline for on _off list\n",
      "\n",
      "regions = []\n",
      "for on, off in zip(on_off[:-1:2], on_off[1::2]):\n",
      "    region = pg.LinearRegionItem(values=[on, off], movable=True)\n",
      "    pw7.addItem(region, ignoreBounds=True)\n",
      "    regions.append(region)\n",
      "\n",
      "\n",
      "# def plot_on_off():\n",
      "#     global on_off, plots, regions\n",
      "#     for plot in plots:\n",
      "#         for region in zip(on_off[:-1:2], on_off[1::2]):\n",
      "#             region_fix = pg.LinearRegionItem(values=[on,off], movable=False)\n",
      "#             plot.addItem(region_fix, ignoreBounds=True)\n",
      "def update_on_off():\n",
      "    global on_off, plots, regions\n",
      "\n",
      "    for plot in plots:\n",
      "        items = plot.items()\n",
      "        for i in items:\n",
      "            if type(i) == pg.graphicsItems.LinearRegionItem.LinearRegionItem:\n",
      "                plot.removeItem(i)\n",
      "        for region_i in regions:\n",
      "            a = (region_i.getRegion()[0], region_i.getRegion()[1])\n",
      "            region = pg.LinearRegionItem(values=[a[0], a[1]], movable=False)\n",
      "            plot.addItem(region, ignoreBounds=True)\n",
      "\n",
      "    on_off = []\n",
      "    items = plot.items()  # pick last plot in loop\n",
      "    for i in items:\n",
      "        if type(i) == pg.graphicsItems.LinearRegionItem.LinearRegionItem:\n",
      "            a = (i.getRegion()[0], i.getRegion()[1])\n",
      "            on_off.append(a[0])\n",
      "            on_off.append(a[1])\n",
      "\n",
      "    roi_f = open(name + 'ON_offs' + '.csv', 'wb')\n",
      "    pickle.dump(on_off, roi_f)\n",
      "    return on_off\n",
      "\n",
      "\n",
      "# connect region on nig update to update all the other plots\n",
      "for region_i in regions:\n",
      "    region_i.sigRegionChangeFinished.connect(update_on_off)\n",
      "\n",
      "\n",
      "# roi = pg.LineROI([[10, 64], [120,64]], pen='r')\n",
      "roi = pg.LineSegmentROI([[10, 64], [120, 64]], pen='r')\n",
      "roii = pg.LineSegmentROI([[10, 64], [120, 64]], pen='b')\n",
      "\n",
      "imv1.addItem(roi)\n",
      "imv1.addItem(roii)\n",
      "\n",
      "\n",
      "def update():\n",
      "    global data_array, imv1, pw6, roi, roii\n",
      "    pw6.clear()\n",
      "\n",
      "    d2 = roi.getArrayRegion(data_array, imv1.imageItem, axes=(1, 2))\n",
      "    d10 = roii.getArrayRegion(data_array, imv1.imageItem, axes=(1, 2))\n",
      "\n",
      "    min_x_i = (roi.getSceneHandlePositions()[0][1]).x()\n",
      "    min_x_ii = (roii.getSceneHandlePositions()[0][1]).x()\n",
      "    max_x_i = (roi.getSceneHandlePositions()[1][1]).x()\n",
      "    max_x_ii = (roii.getSceneHandlePositions()[1][1]).x()\n",
      "    x_i = linspace(min_x_i, max_x_i, len(d2[imv1.currentIndex]))\n",
      "    x_ii = linspace(min_x_ii, max_x_ii, len(d10[imv1.currentIndex]))\n",
      "    pw6.plot(x_i, d2[imv1.currentIndex], pen=roi.pen)\n",
      "    pw6.plot(x_ii, d10[imv1.currentIndex], pen=roii.pen)\n",
      "\n",
      "\n",
      "# connect  roi shape change\n",
      "plot1, plot2, plot3, plot4, plot5 = plots\n",
      "\n",
      "roi1.sigRegionChangeFinished.connect(update_sum_plot_0)\n",
      "roi2.sigRegionChangeFinished.connect(update_sum_plot_1)\n",
      "roi3.sigRegionChangeFinished.connect(update_sum_plot_2)\n",
      "roi4.sigRegionChangeFinished.connect(update_sum_plot_3)\n",
      "roi5.sigRegionChangeFinished.connect(update_sum_plot_4)\n",
      "roi.sigRegionChanged.connect(update)\n",
      "roii.sigRegionChanged.connect(update)\n",
      "\n",
      "# connect to time changes\n",
      "\n",
      "imv1.sigTimeChanged.connect(update_1)\n",
      "imv1.sigTimeChanged.connect(update_2)\n",
      "imv1.sigTimeChanged.connect(update_3)\n",
      "imv1.sigTimeChanged.connect(update_4)\n",
      "imv1.sigTimeChanged.connect(update_5)\n",
      "imv1.sigTimeChanged.connect(update)\n",
      "\n",
      "# intialized the image\n",
      "imv1.setImage((data_array), xvals=data_df.Time)\n",
      "\n",
      "\n",
      "# link time axis\n",
      "for p in plots:\n",
      "    p.setXLink(plots[0])\n",
      "\n",
      "\n",
      "# add bakground pressure plot\n",
      "for i in update_plots:\n",
      "    i()\n",
      "\n",
      "\n",
      "\n",
      "win.show()\n"
     ],
     "language": "python",
     "metadata": {},
     "outputs": [],
     "prompt_number": 112
    },
    {
     "cell_type": "markdown",
     "metadata": {},
     "source": [
      "Get the arrays from the ROIs."
     ]
    },
    {
     "cell_type": "code",
     "collapsed": false,
     "input": [
      "tail_right, tail_left = array(update_sum_plot_3())\n",
      "WZ = array(update_sum_plot_2())\n",
      "CTR = array(update_sum_plot_0())\n",
      "TW = array(update_sum_plot_1())"
     ],
     "language": "python",
     "metadata": {},
     "outputs": [],
     "prompt_number": 113
    },
    {
     "cell_type": "markdown",
     "metadata": {},
     "source": [
      "Calculate backround as average of two tails and subtract from WZ"
     ]
    },
    {
     "cell_type": "code",
     "collapsed": false,
     "input": [
      "TW = TW[TW>0.2]\n",
      "CTR = CTR[TW>0.2]\n",
      "WZ = WZ [TW>0.2]"
     ],
     "language": "python",
     "metadata": {},
     "outputs": [],
     "prompt_number": 114
    },
    {
     "cell_type": "code",
     "collapsed": false,
     "input": [
      "summary_18_03[name+'WZ'] =  WZ\n",
      "summary_18_03[name+'CTR'] =  CTR\n",
      "summary_18_03[name+'TW'] =  TW"
     ],
     "language": "python",
     "metadata": {},
     "outputs": [],
     "prompt_number": 117
    },
    {
     "cell_type": "code",
     "collapsed": false,
     "input": [
      "pg.plot(data_df.Time, WZ)"
     ],
     "language": "python",
     "metadata": {},
     "outputs": [
      {
       "metadata": {},
       "output_type": "pyout",
       "prompt_number": 116,
       "text": [
        "<pyqtgraph.graphicsWindows.PlotWindow at 0x3012af28>"
       ]
      }
     ],
     "prompt_number": 116
    },
    {
     "cell_type": "code",
     "collapsed": false,
     "input": [
      "data_df = data_df[TW>0.2]"
     ],
     "language": "python",
     "metadata": {},
     "outputs": [],
     "prompt_number": 56
    },
    {
     "cell_type": "code",
     "collapsed": false,
     "input": [
      "bkg = (tail_right + tail_left) / 2\n",
      "WZ_bkg_subtracted = WZ-bkg"
     ],
     "language": "python",
     "metadata": {},
     "outputs": [],
     "prompt_number": 57
    },
    {
     "cell_type": "code",
     "collapsed": false,
     "input": [
      "win2, l,btn  = plot_window()\n",
      "\n",
      "def update_on_off_win2():\n",
      "    \"\"\"\n",
      "    update linear region item in all the plots in windows\n",
      "    plots is a list of the plot widget added to a window\n",
      "    \"\"\"\n",
      "    global plots, on_off,  regions\n",
      "    for plot in plots:\n",
      "        items = plot.items()\n",
      "        for i in items:\n",
      "            if type(i) == pg.graphicsItems.LinearRegionItem.LinearRegionItem:\n",
      "                plot.removeItem(i)\n",
      "        for region_i in regions:\n",
      "            a = (region_i.getRegion()[0], region_i.getRegion()[1])\n",
      "            region = pg.LinearRegionItem(\n",
      "                values=[a[0], a[1]], movable=False,  brush=pg.mkBrush(255, 250, 250, 30))\n",
      "            plot.addItem(region, ignoreBounds=True)"
     ],
     "language": "python",
     "metadata": {},
     "outputs": [],
     "prompt_number": 58
    },
    {
     "cell_type": "code",
     "collapsed": false,
     "input": [
      "# first row\n",
      "p = pg.PlotWidget(title=\"Intensities curves\")\n",
      "p.showGrid(x=True, y=True)\n",
      "#legend \n",
      "leg = pg.LegendItem((100,60), offset=(70,30))  # args are (size, offset)\n",
      "leg.setParentItem(p.plotItem.graphicsItem())\n",
      "l.addWidget(p)\n",
      "#second row \n",
      "p2 = pg.PlotWidget(title=\"derivatives curves\")\n",
      "p2.showGrid(x=True, y=True)\n",
      "#legend\n",
      "leg2 = pg.LegendItem((100,60), offset=(70,30))  # args are (size, offset)\n",
      "leg2.setParentItem(p2.plotItem.graphicsItem())\n",
      "l.addWidget(p2)\n",
      "\n",
      "# first row plots \n",
      "plot1 = p.plot(data_df.Time, norm(WZ_bkg_subtracted), pen=(255,0,0))\n",
      "leg.addItem(plot1, 'Wz-Bkg')\n",
      "\n",
      "plot2 = p.plot(data_df.Time, norm(CTR), pen=(0,255,0))\n",
      "leg.addItem(plot2, 'CTR')\n",
      "\n",
      "plot3 = p.plot(data_df.Time, norm(TW), pen=(0,0,255))\n",
      "leg.addItem(plot3, 'TW')\n",
      "\n",
      "\n",
      "# second row plots \n",
      "\n",
      "\n",
      "plot3 = p2.plot(data_df.Time,\n",
      "                savitzky_golay(WZ_bkg_subtracted,15,2,1),\n",
      "                pen=(255,0,0))\n",
      "leg2.addItem(plot3, 'd(WZ)/dt')\n",
      "\n",
      "plot4 = p2.plot(data_df.Time,\n",
      "                savitzky_golay(CTR,15,2,1),\n",
      "                pen=(0,255,0))\n",
      "leg2.addItem(plot4, 'd(CTR)/dt')\n",
      "\n",
      "plot5 = p2.plot(data_df.Time,\n",
      "                savitzky_golay(TW,15,2,1),\n",
      "                pen=(0,0,255))\n",
      "leg2.addItem(plot5, 'd(TW)/dt')\n",
      "\n",
      "\n",
      "plots = [p,p2]\n",
      "\n",
      "\n",
      "\n",
      "btn.clicked.connect(update_on_off_win2)\n",
      "\n",
      "win2.show()"
     ],
     "language": "python",
     "metadata": {},
     "outputs": [
      {
       "ename": "Exception",
       "evalue": "When passing two unnamed arguments, both must be a list or array of values. (got <class 'pandas.core.series.Series'>, <type 'numpy.float64'>)",
       "output_type": "pyerr",
       "traceback": [
        "\u001b[1;31m---------------------------------------------------------------------------\u001b[0m\n\u001b[1;31mException\u001b[0m                                 Traceback (most recent call last)",
        "\u001b[1;32m<ipython-input-105-0841853fb1f6>\u001b[0m in \u001b[0;36m<module>\u001b[1;34m()\u001b[0m\n\u001b[0;32m     15\u001b[0m \u001b[1;33m\u001b[0m\u001b[0m\n\u001b[0;32m     16\u001b[0m \u001b[1;31m# first row plots\u001b[0m\u001b[1;33m\u001b[0m\u001b[1;33m\u001b[0m\u001b[0m\n\u001b[1;32m---> 17\u001b[1;33m \u001b[0mplot1\u001b[0m \u001b[1;33m=\u001b[0m \u001b[0mp\u001b[0m\u001b[1;33m.\u001b[0m\u001b[0mplot\u001b[0m\u001b[1;33m(\u001b[0m\u001b[0mdata_df\u001b[0m\u001b[1;33m.\u001b[0m\u001b[0mTime\u001b[0m\u001b[1;33m,\u001b[0m \u001b[0mnorm\u001b[0m\u001b[1;33m(\u001b[0m\u001b[0mWZ_bkg_subtracted\u001b[0m\u001b[1;33m)\u001b[0m\u001b[1;33m,\u001b[0m \u001b[0mpen\u001b[0m\u001b[1;33m=\u001b[0m\u001b[1;33m(\u001b[0m\u001b[1;36m255\u001b[0m\u001b[1;33m,\u001b[0m\u001b[1;36m0\u001b[0m\u001b[1;33m,\u001b[0m\u001b[1;36m0\u001b[0m\u001b[1;33m)\u001b[0m\u001b[1;33m)\u001b[0m\u001b[1;33m\u001b[0m\u001b[0m\n\u001b[0m\u001b[0;32m     18\u001b[0m \u001b[0mleg\u001b[0m\u001b[1;33m.\u001b[0m\u001b[0maddItem\u001b[0m\u001b[1;33m(\u001b[0m\u001b[0mplot1\u001b[0m\u001b[1;33m,\u001b[0m \u001b[1;34m'Wz-Bkg'\u001b[0m\u001b[1;33m)\u001b[0m\u001b[1;33m\u001b[0m\u001b[0m\n\u001b[0;32m     19\u001b[0m \u001b[1;33m\u001b[0m\u001b[0m\n",
        "\u001b[1;32m/usr/local/lib/python2.7/dist-packages/pyqtgraph/graphicsItems/PlotItem/PlotItem.pyc\u001b[0m in \u001b[0;36mplot\u001b[1;34m(self, *args, **kargs)\u001b[0m\n\u001b[0;32m    637\u001b[0m             \u001b[0mself\u001b[0m\u001b[1;33m.\u001b[0m\u001b[0mclear\u001b[0m\u001b[1;33m(\u001b[0m\u001b[1;33m)\u001b[0m\u001b[1;33m\u001b[0m\u001b[0m\n\u001b[0;32m    638\u001b[0m \u001b[1;33m\u001b[0m\u001b[0m\n\u001b[1;32m--> 639\u001b[1;33m         \u001b[0mitem\u001b[0m \u001b[1;33m=\u001b[0m \u001b[0mPlotDataItem\u001b[0m\u001b[1;33m(\u001b[0m\u001b[1;33m*\u001b[0m\u001b[0margs\u001b[0m\u001b[1;33m,\u001b[0m \u001b[1;33m**\u001b[0m\u001b[0mkargs\u001b[0m\u001b[1;33m)\u001b[0m\u001b[1;33m\u001b[0m\u001b[0m\n\u001b[0m\u001b[0;32m    640\u001b[0m \u001b[1;33m\u001b[0m\u001b[0m\n\u001b[0;32m    641\u001b[0m         \u001b[1;32mif\u001b[0m \u001b[0mparams\u001b[0m \u001b[1;32mis\u001b[0m \u001b[0mNone\u001b[0m\u001b[1;33m:\u001b[0m\u001b[1;33m\u001b[0m\u001b[0m\n",
        "\u001b[1;32m/usr/local/lib/python2.7/dist-packages/pyqtgraph/graphicsItems/PlotDataItem.pyc\u001b[0m in \u001b[0;36m__init__\u001b[1;34m(self, *args, **kargs)\u001b[0m\n\u001b[0;32m    163\u001b[0m             \u001b[1;34m'data'\u001b[0m\u001b[1;33m:\u001b[0m \u001b[0mNone\u001b[0m\u001b[1;33m,\u001b[0m\u001b[1;33m\u001b[0m\u001b[0m\n\u001b[0;32m    164\u001b[0m         }\n\u001b[1;32m--> 165\u001b[1;33m         \u001b[0mself\u001b[0m\u001b[1;33m.\u001b[0m\u001b[0msetData\u001b[0m\u001b[1;33m(\u001b[0m\u001b[1;33m*\u001b[0m\u001b[0margs\u001b[0m\u001b[1;33m,\u001b[0m \u001b[1;33m**\u001b[0m\u001b[0mkargs\u001b[0m\u001b[1;33m)\u001b[0m\u001b[1;33m\u001b[0m\u001b[0m\n\u001b[0m\u001b[0;32m    166\u001b[0m \u001b[1;33m\u001b[0m\u001b[0m\n\u001b[0;32m    167\u001b[0m     \u001b[1;32mdef\u001b[0m \u001b[0mimplements\u001b[0m\u001b[1;33m(\u001b[0m\u001b[0mself\u001b[0m\u001b[1;33m,\u001b[0m \u001b[0minterface\u001b[0m\u001b[1;33m=\u001b[0m\u001b[0mNone\u001b[0m\u001b[1;33m)\u001b[0m\u001b[1;33m:\u001b[0m\u001b[1;33m\u001b[0m\u001b[0m\n",
        "\u001b[1;32m/usr/local/lib/python2.7/dist-packages/pyqtgraph/graphicsItems/PlotDataItem.pyc\u001b[0m in \u001b[0;36msetData\u001b[1;34m(self, *args, **kargs)\u001b[0m\n\u001b[0;32m    369\u001b[0m             \u001b[0mseq\u001b[0m \u001b[1;33m=\u001b[0m \u001b[1;33m(\u001b[0m\u001b[1;34m'listOfValues'\u001b[0m\u001b[1;33m,\u001b[0m \u001b[1;34m'MetaArray'\u001b[0m\u001b[1;33m,\u001b[0m \u001b[1;34m'empty'\u001b[0m\u001b[1;33m)\u001b[0m\u001b[1;33m\u001b[0m\u001b[0m\n\u001b[0;32m    370\u001b[0m             \u001b[1;32mif\u001b[0m \u001b[0mdataType\u001b[0m\u001b[1;33m(\u001b[0m\u001b[0margs\u001b[0m\u001b[1;33m[\u001b[0m\u001b[1;36m0\u001b[0m\u001b[1;33m]\u001b[0m\u001b[1;33m)\u001b[0m \u001b[1;32mnot\u001b[0m \u001b[1;32min\u001b[0m \u001b[0mseq\u001b[0m \u001b[1;32mor\u001b[0m  \u001b[0mdataType\u001b[0m\u001b[1;33m(\u001b[0m\u001b[0margs\u001b[0m\u001b[1;33m[\u001b[0m\u001b[1;36m1\u001b[0m\u001b[1;33m]\u001b[0m\u001b[1;33m)\u001b[0m \u001b[1;32mnot\u001b[0m \u001b[1;32min\u001b[0m \u001b[0mseq\u001b[0m\u001b[1;33m:\u001b[0m\u001b[1;33m\u001b[0m\u001b[0m\n\u001b[1;32m--> 371\u001b[1;33m                 \u001b[1;32mraise\u001b[0m \u001b[0mException\u001b[0m\u001b[1;33m(\u001b[0m\u001b[1;34m'When passing two unnamed arguments, both must be a list or array of values. (got %s, %s)'\u001b[0m \u001b[1;33m%\u001b[0m \u001b[1;33m(\u001b[0m\u001b[0mstr\u001b[0m\u001b[1;33m(\u001b[0m\u001b[0mtype\u001b[0m\u001b[1;33m(\u001b[0m\u001b[0margs\u001b[0m\u001b[1;33m[\u001b[0m\u001b[1;36m0\u001b[0m\u001b[1;33m]\u001b[0m\u001b[1;33m)\u001b[0m\u001b[1;33m)\u001b[0m\u001b[1;33m,\u001b[0m \u001b[0mstr\u001b[0m\u001b[1;33m(\u001b[0m\u001b[0mtype\u001b[0m\u001b[1;33m(\u001b[0m\u001b[0margs\u001b[0m\u001b[1;33m[\u001b[0m\u001b[1;36m1\u001b[0m\u001b[1;33m]\u001b[0m\u001b[1;33m)\u001b[0m\u001b[1;33m)\u001b[0m\u001b[1;33m)\u001b[0m\u001b[1;33m)\u001b[0m\u001b[1;33m\u001b[0m\u001b[0m\n\u001b[0m\u001b[0;32m    372\u001b[0m             \u001b[1;32mif\u001b[0m \u001b[1;32mnot\u001b[0m \u001b[0misinstance\u001b[0m\u001b[1;33m(\u001b[0m\u001b[0margs\u001b[0m\u001b[1;33m[\u001b[0m\u001b[1;36m0\u001b[0m\u001b[1;33m]\u001b[0m\u001b[1;33m,\u001b[0m \u001b[0mnp\u001b[0m\u001b[1;33m.\u001b[0m\u001b[0mndarray\u001b[0m\u001b[1;33m)\u001b[0m\u001b[1;33m:\u001b[0m\u001b[1;33m\u001b[0m\u001b[0m\n\u001b[0;32m    373\u001b[0m                 \u001b[0mx\u001b[0m \u001b[1;33m=\u001b[0m \u001b[0mnp\u001b[0m\u001b[1;33m.\u001b[0m\u001b[0marray\u001b[0m\u001b[1;33m(\u001b[0m\u001b[0margs\u001b[0m\u001b[1;33m[\u001b[0m\u001b[1;36m0\u001b[0m\u001b[1;33m]\u001b[0m\u001b[1;33m)\u001b[0m\u001b[1;33m\u001b[0m\u001b[0m\n",
        "\u001b[1;31mException\u001b[0m: When passing two unnamed arguments, both must be a list or array of values. (got <class 'pandas.core.series.Series'>, <type 'numpy.float64'>)"
       ]
      }
     ],
     "prompt_number": 105
    },
    {
     "cell_type": "markdown",
     "metadata": {},
     "source": [
      "Save ROis"
     ]
    },
    {
     "cell_type": "markdown",
     "metadata": {},
     "source": [
      "##  time resolution of NIG "
     ]
    },
    {
     "cell_type": "code",
     "collapsed": false,
     "input": [
      "# a = pg.plot(data_df.Time[data_df.NIG != 0.0], data_df.NIG[data_df.NIG != 0.0],  pen=None, symbol='o',\n",
      "#                    symbolPen=None, symbolSize=3)\n",
      "# a.showGrid(True,True)"
     ],
     "language": "python",
     "metadata": {},
     "outputs": []
    },
    {
     "cell_type": "code",
     "collapsed": false,
     "input": [
      "writetodisk = True\n",
      "if writetodisk:\n",
      "    print('Writing...')\n",
      "    roi_f = open(name+'roi_pos_qt'+'.csv','wb')\n",
      "    for roi in rois:\n",
      "        for i in roi.getLocalHandlePositions():\n",
      "            roi_f.writelines(str(i)+'\\n')\n",
      "        roi_f.writelines('#newroi#'+'\\n') \n",
      "\n",
      "    roi_f.flush()\n",
      "    print(\"..Done !\")"
     ],
     "language": "python",
     "metadata": {},
     "outputs": []
    },
    {
     "cell_type": "markdown",
     "metadata": {},
     "source": [
      "Update plot with new on _offss"
     ]
    },
    {
     "cell_type": "heading",
     "level": 2,
     "metadata": {},
     "source": [
      "static nice plot"
     ]
    },
    {
     "cell_type": "code",
     "collapsed": false,
     "input": [
      "fig, ax = plt.subplots(figsize=(15, 10))\n",
      "fig.subplots_adjust(right=0.75)\n",
      "WZ_Color = '#C02942'\n",
      "TW_Color = '#69D2E7'\n",
      "WZ_color_Data = \"#00A0B0\"\n",
      "TW_Color_Data = \"#F38630\"\n",
      "CTR_color  = \"#C11515\"\n",
      "# WZ\n",
      "ax.plot(data_df.Time, WZ_bkg_subtracted, '.', c=WZ_color_Data, label=r'$I_{WZ} $')\n",
      "ax2 = ax.twinx()\n",
      "ax2.plot(data_df.Time, TW, '.', c=TW_Color_Data, label=r'$I_{TW} $')\n",
      "color_ticks(fig)\n",
      "#CTR  \n",
      "#create off set axis spine\n",
      "offset = 60\n",
      "ax3 = ax.twinx()\n",
      "\n",
      "y\n",
      "\n",
      "ax3.spines['right'].set_position(('axes', 1.1))\n",
      "ax3.set_frame_on(True)\n",
      "ax3.patch.set_visible(False)\n",
      "\n",
      "ax3.plot(data_df.Time, CTR, '.', c=CTR_color, label=r'$I_{CTR} $')\n",
      "ax3.plot(data_df.Time, savitzky_golay(CTR,11,2), '-', c=CTR_color, label=r'$I_{CTR} $')\n",
      "color_ticks(fig)\n",
      "shade(on_off,ax)"
     ],
     "language": "python",
     "metadata": {},
     "outputs": [],
     "prompt_number": 26
    },
    {
     "cell_type": "code",
     "collapsed": false,
     "input": [
      "!git add 'QT-guis.ipynb'\n",
      "!git commit  -m 'working on poster'"
     ],
     "language": "python",
     "metadata": {},
     "outputs": [
      {
       "output_type": "stream",
       "stream": "stdout",
       "text": [
        "[parllelpimp 3e38482] working on poster\r\n",
        " 1 file changed, 341 insertions(+), 115 deletions(-)\r\n"
       ]
      }
     ],
     "prompt_number": 153
    },
    {
     "cell_type": "code",
     "collapsed": false,
     "input": [
      "try:\n",
      "    print summary_18_03.keys()\n",
      "except:\n",
      "    'idioooott'"
     ],
     "language": "python",
     "metadata": {},
     "outputs": [
      {
       "metadata": {},
       "output_type": "pyout",
       "prompt_number": 118,
       "text": [
        "['InAs0799time1aTW',\n",
        " 'InAs0799time1TW',\n",
        " 'InAs0799time3WZ',\n",
        " 'InAs0799time4TW',\n",
        " 'InAs0799time3TW',\n",
        " 'InAs0799time2WZ',\n",
        " 'InAs0799time1WZ',\n",
        " 'InAs0799time4CTR',\n",
        " 'InAs0799time3CTR',\n",
        " 'InAs0799time1CTR',\n",
        " 'InAs0799time1aWZ',\n",
        " 'InAs0799time2TW',\n",
        " 'InAs0799time2CTR',\n",
        " 'InAs0799time4WZ',\n",
        " 'InAs0799time1aCTR']"
       ]
      }
     ],
     "prompt_number": 118
    },
    {
     "cell_type": "code",
     "collapsed": false,
     "input": [
      "### matplotlib custom\n",
      "\n",
      "rc('font',**{'size'   : 20})\n",
      "\n",
      "\n",
      "# In[174]:\n",
      "\n",
      "names = ['InAs0799time1a','InAs0799time2', 'InAs0799time3','InAs0799time4']\n",
      "\n",
      "\n",
      "# In[175]:\n",
      "\n",
      "fig,ax = subplots(figsize=(15,4))\n",
      "time = []\n",
      "int_wz= []\n",
      "on_offs = [] \n",
      "###\n",
      "data, parameters_dict, on_off, offset_list = loadme(names[0])\n",
      "data = pd.DataFrame(summary_18_03['InAs0799time1aTW'], columns=['Int_WZ'])\n",
      "spec_df = load_spec_log(names[0])\n",
      "data['Time'] = spec_df.Time.values\n",
      "x1 = data.Time\n",
      "y1=  data.Int_WZ\n",
      "ax.plot(x1, y1,'grey' )\n",
      "shade(on_off,ax,lim=300)\n",
      "time.append(x1)\n",
      "int_wz.append(y1)\n",
      "\n",
      "#########\n",
      "\n",
      "on_offs.append(on_off+x1[0])\n",
      "\n",
      "\n",
      "# In[176]:\n",
      "data, parameters_dict, on_off, offset_list = loadme(names[1])\n",
      "data = pd.DataFrame(summary_18_03['InAs0799time2TW'], columns=['Int_WZ'])\n",
      "spec_df = load_spec_log(names[1])\n",
      "data['Time'] = spec_df.Time.values\n",
      "data =  data[data.Int_WZ > 300 ]\n",
      "x2=  data.Time + array(x1)[-1]\n",
      "y2 =  ( array(y1)[-1] - data.Int_WZ[0]) + data.Int_WZ\n",
      "ax.plot(x2,  y2,'grey' )\n",
      "on_off = on_off + x2[0]\n",
      "shade(on_off,ax,lim=300)\n",
      "time.append(x2)\n",
      "int_wz.append(y2)\n",
      "on_offs.append(on_off)\n",
      "fig\n",
      "\n",
      "\n",
      "# In[177]:\n",
      "\n",
      "on_offs\n",
      "\n",
      "\n",
      "# In[178]:\n",
      "\n",
      "data, parameters_dict, on_off, offset_list = loadme(names[2])\n",
      "data = pd.DataFrame(summary_18_03['InAs0799time3TW'], columns=['Int_WZ'])\n",
      "spec_df = load_spec_log(names[2])\n",
      "data['Time'] = spec_df.Time.values\n",
      "\n",
      "\n",
      "x3 = data.Time + array(x2)[-1]\n",
      "\n",
      "y3 = (array(y2)[-1]- data.Int_WZ[0]) + data.Int_WZ\n",
      "\n",
      "ax.plot(x3,  y3, 'gray' )\n",
      "\n",
      "on_off = on_off + x3[0]\n",
      "shade(on_off,ax,lim=300)\n",
      "time.append(x3)\n",
      "int_wz.append(y3)\n",
      "\n",
      "on_offs.append(on_off)\n",
      "\n",
      "\n",
      "# In[179]:\n",
      "\n",
      "data, parameters_dict, on_off, offset_list = loadme(names[3])\n",
      "data = pd.DataFrame(summary_18_03['InAs0799time4TW'], columns=['Int_WZ'])\n",
      "spec_df = load_spec_log(names[3])\n",
      "data['Time'] = spec_df.Time.values\n",
      "\n",
      "x4 = data.Time + array(x3)[-1]\n",
      "y4 = (array(y3)[-1]- data.Int_WZ[0]) + data.Int_WZ\n",
      "ax.plot(x4, y4 ,'gray' )\n",
      "\n",
      "ax.set_xlabel('Time(s)')\n",
      "\n",
      "on_off = on_off + x4[0]\n",
      "shade(on_off,ax,lim=3000)\n",
      "ax.set_xlim(0,x4.max())\n",
      "ax.set_ylim(y1.min()-1,y4.max()+10)\n",
      "time.append(x4)\n",
      "int_wz.append(y4)\n",
      "fig \n",
      "ax.set_ylabel('Intensity (a.u)')\n",
      "on_offs.append(on_off)\n",
      "\n",
      "\n",
      "on_offs = list(flatten(on_offs))\n",
      "\n",
      "\n",
      "\n",
      "# In[170]:\n",
      "\n",
      "time = numpy.concatenate([x1,x2,x3,x4])\n",
      "int_wz = numpy.concatenate([y1,y2,y3,y4])\n"
     ],
     "language": "python",
     "metadata": {},
     "outputs": [
      {
       "output_type": "stream",
       "stream": "stdout",
       "text": [
        "data frame loaded\n",
        "parameters_dict loaded\n",
        "on_off dump found, using it !\n",
        "on off loaded\n",
        "offset_list done\n",
        "data frame loaded\n",
        "parameters_dict loaded\n",
        "on_off dump found, using it !\n",
        "on off loaded\n",
        "offset_list done\n",
        "data frame loaded\n",
        "parameters_dict loaded\n",
        "on_off dump found, using it !\n",
        "on off loaded\n",
        "offset_list done\n",
        "data frame loaded"
       ]
      },
      {
       "output_type": "stream",
       "stream": "stdout",
       "text": [
        "\n",
        "parameters_dict loaded\n",
        "on_off dump found, using it !\n",
        "on off loaded\n",
        "offset_list done\n"
       ]
      }
     ],
     "prompt_number": 149
    },
    {
     "cell_type": "code",
     "collapsed": false,
     "input": [
      "pickle.dump(summary_18_03, open('sumamry0799_ctr_wz_wz.rb', 'wb'))"
     ],
     "language": "python",
     "metadata": {},
     "outputs": [],
     "prompt_number": 150
    },
    {
     "cell_type": "code",
     "collapsed": false,
     "input": [
      "!git add sumamry0799_ctr_wz_wz.rb"
     ],
     "language": "python",
     "metadata": {},
     "outputs": [],
     "prompt_number": 151
    },
    {
     "cell_type": "code",
     "collapsed": false,
     "input": [
      "!git commit -m 'adedd file with summary of intensities, code is messy due to poster due soon' "
     ],
     "language": "python",
     "metadata": {},
     "outputs": [
      {
       "output_type": "stream",
       "stream": "stdout",
       "text": [
        "[parllelpimp f257857] adedd file with summary of intensities, code is messy due to poster due soon\r\n",
        " 1 file changed, 197 insertions(+)\r\n",
        " create mode 100644 sumamry0799_ctr_wz_wz.rb\r\n"
       ]
      }
     ],
     "prompt_number": 152
    },
    {
     "cell_type": "code",
     "collapsed": false,
     "input": [],
     "language": "python",
     "metadata": {},
     "outputs": []
    }
   ],
   "metadata": {}
  }
 ]
}