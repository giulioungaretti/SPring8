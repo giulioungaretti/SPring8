{
 "metadata": {
  "name": ""
 },
 "nbformat": 3,
 "nbformat_minor": 0,
 "worksheets": [
  {
   "cells": [
    {
     "cell_type": "code",
     "collapsed": false,
     "input": [
      "%pylab \n",
      "from matplotlib import rc\n",
      "rc('font',**{'size'   : 15})\n",
      "%load_ext autoreload\n",
      "%autoreload 2\n",
      "from quickplot import *\n",
      "import quantities as pq"
     ],
     "language": "python",
     "metadata": {},
     "outputs": [
      {
       "output_type": "stream",
       "stream": "stdout",
       "text": [
        "Using matplotlib backend: Qt4Agg\n",
        "Populating the interactive namespace from numpy and matplotlib\n",
        "The autoreload extension is already loaded. To reload it, use:\n",
        "  %reload_ext autoreload\n"
       ]
      },
      {
       "output_type": "stream",
       "stream": "stderr",
       "text": [
        "WARNING: pylab import has clobbered these variables: ['norm', 'power', 'random', 'fft', 'linalg', 'info']\n",
        "`%pylab --no-import-all` prevents importing * from pylab and numpy\n"
       ]
      }
     ],
     "prompt_number": 68
    },
    {
     "cell_type": "code",
     "collapsed": false,
     "input": [
      "%run grow_times.py"
     ],
     "language": "python",
     "metadata": {},
     "outputs": [
      {
       "output_type": "stream",
       "stream": "stdout",
       "text": [
        "data frame loaded\n",
        "parameters_dict loaded\n",
        "on_off dump found, using it !\n",
        "on off loaded\n",
        "offset_list done\n",
        "data frame loaded"
       ]
      },
      {
       "output_type": "stream",
       "stream": "stdout",
       "text": [
        "\n",
        "parameters_dict loaded\n",
        "on_off dump found, using it !\n",
        "on off loaded\n",
        "offset_list done\n",
        "data frame loaded"
       ]
      },
      {
       "output_type": "stream",
       "stream": "stdout",
       "text": [
        "\n",
        "parameters_dict loaded\n",
        "on_off dump found, using it !\n",
        "on off loaded\n",
        "offset_list done\n"
       ]
      }
     ],
     "prompt_number": 39
    },
    {
     "cell_type": "code",
     "collapsed": false,
     "input": [
      "time3 = array([193,225,259,292,316,347,398,444,495,548,606,699,839,875,893,908,986,996,1105,1132,1152,1184])\n",
      "delta_time_3 = time3[1:]-time3[:-1]\n",
      "print delta_time_3.sum()"
     ],
     "language": "python",
     "metadata": {},
     "outputs": [
      {
       "output_type": "stream",
       "stream": "stdout",
       "text": [
        "991\n"
       ]
      }
     ],
     "prompt_number": 109
    },
    {
     "cell_type": "code",
     "collapsed": false,
     "input": [
      "time2 = array([87,527])\n",
      "delta_time_2 = time2[1:]-time2[:-1]\n",
      "print delta_time_2#.sum()"
     ],
     "language": "python",
     "metadata": {},
     "outputs": [
      {
       "output_type": "stream",
       "stream": "stdout",
       "text": [
        "[440]\n"
       ]
      }
     ],
     "prompt_number": 110
    },
    {
     "cell_type": "code",
     "collapsed": false,
     "input": [
      "time1 = array([390,674])\n",
      "delta_time_1 = time1[1:]-time1[:-1]\n",
      "print delta_time_1.sum()"
     ],
     "language": "python",
     "metadata": {},
     "outputs": [
      {
       "output_type": "stream",
       "stream": "stdout",
       "text": [
        "284\n"
       ]
      }
     ],
     "prompt_number": 111
    },
    {
     "cell_type": "code",
     "collapsed": false,
     "input": [
      "# growth time in second\n",
      "growht_time = pq.UncertainQuantity( (delta_time_3.sum() + delta_time_1.sum() + delta_time_2.sum() ), pq.second,10)\n",
      "print growht_time"
     ],
     "language": "python",
     "metadata": {},
     "outputs": [
      {
       "output_type": "stream",
       "stream": "stdout",
       "text": [
        "1715.0 s\n",
        "+/-10 s (1 sigma)\n"
       ]
      }
     ],
     "prompt_number": 112
    },
    {
     "cell_type": "code",
     "collapsed": false,
     "input": [
      "tem_data =pd.DataFrame.from_csv('./TEM/Results_0799.csv',sep=';')\n",
      "mean_len = pq.UncertainQuantity(tem_data.Length.mean(), pq.micron, tem_data.Length.std()   / len(tem_data.Length ))"
     ],
     "language": "python",
     "metadata": {},
     "outputs": [],
     "prompt_number": 113
    },
    {
     "cell_type": "code",
     "collapsed": false,
     "input": [
      "print r'mean Length = {0}'.format(mean_len)"
     ],
     "language": "python",
     "metadata": {},
     "outputs": [
      {
       "output_type": "stream",
       "stream": "stdout",
       "text": [
        "mean Length = 0.819416666667 um\n",
        "+/-0.015292248083 um (1 sigma)\n"
       ]
      }
     ],
     "prompt_number": 114
    },
    {
     "cell_type": "code",
     "collapsed": false,
     "input": [
      "growht_rate = mean_len / growht_time\n",
      "print 'growth rate = {0} '.format(growht_rate.rescale(pq.nm/pq.second))"
     ],
     "language": "python",
     "metadata": {},
     "outputs": [
      {
       "output_type": "stream",
       "stream": "stdout",
       "text": [
        "growth rate = 0.477793974733 nm/s\n",
        "+/-0.00934185689917 nm/s (1 sigma) \n"
       ]
      }
     ],
     "prompt_number": 115
    },
    {
     "cell_type": "code",
     "collapsed": false,
     "input": [],
     "language": "python",
     "metadata": {},
     "outputs": []
    }
   ],
   "metadata": {}
  }
 ]
}