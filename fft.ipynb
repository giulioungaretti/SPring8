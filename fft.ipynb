{
 "metadata": {
  "name": ""
 },
 "nbformat": 3,
 "nbformat_minor": 0,
 "worksheets": [
  {
   "cells": [
    {
     "cell_type": "code",
     "collapsed": false,
     "input": [
      "%pylab \n",
      "from Functions import *\n",
      "from scipy.fftpack import rfft, fft \n",
      "import numpy as np"
     ],
     "language": "python",
     "metadata": {},
     "outputs": [
      {
       "output_type": "stream",
       "stream": "stdout",
       "text": [
        "Using matplotlib backend: Qt4Agg\n",
        "Populating the interactive namespace from numpy and matplotlib\n"
       ]
      },
      {
       "output_type": "stream",
       "stream": "stderr",
       "text": [
        "WARNING: pylab import has clobbered these variables: ['norm', 'fft', 'rfft']\n",
        "`%pylab --no-import-all` prevents importing * from pylab and numpy\n"
       ]
      }
     ],
     "prompt_number": 18
    },
    {
     "cell_type": "code",
     "collapsed": false,
     "input": [
      "name = 'InAs0799time3'\n",
      "data, parameters_dict, on_off, offset_list = loadme(name)"
     ],
     "language": "python",
     "metadata": {},
     "outputs": [
      {
       "output_type": "stream",
       "stream": "stdout",
       "text": [
        "data frame loaded\n",
        "parameters_dict loaded\n",
        "on_off dump found, using it !\n",
        "on off loaded\n",
        "offset_list done\n"
       ]
      }
     ],
     "prompt_number": 19
    },
    {
     "cell_type": "code",
     "collapsed": false,
     "input": [
      "x = data.index.values\n",
      "y = data.Int_WZ.values\n",
      "plot(x,smooth_deriv(y))\n",
      "y_fft = rfft(y)\n",
      "\n",
      "####\n",
      "\n",
      "fig,[ax1,ax2] = subplots(2,1,figsize=(10,8))\n",
      "ax1.plot(x,y)\n",
      "ax2.plot(x,y_fft)\n",
      "\n",
      "\n",
      "# ax2.set_xlim(0,100)"
     ],
     "language": "python",
     "metadata": {},
     "outputs": [
      {
       "metadata": {},
       "output_type": "pyout",
       "prompt_number": 20,
       "text": [
        "[<matplotlib.lines.Line2D at 0x5abefd0>]"
       ]
      }
     ],
     "prompt_number": 20
    },
    {
     "cell_type": "code",
     "collapsed": false,
     "input": [
      "d_y = derive(y)\n",
      "s_d_y = smooth_deriv(y)\n",
      "d_y_fft = fft(d_y)\n",
      "s_d_y_fft = fft(s_d_y)\n",
      "\n",
      "####\n",
      "\n",
      "fig,[ax1,ax2] = subplots(2,1,figsize=(10,8))\n",
      "ax1.plot(x,d_y )\n",
      "ax1.plot(x,s_d_y)\n",
      "\n",
      "ax2.plot(x,d_y_fft,'-')\n",
      "ax2.plot(x,s_d_y_fft,'r-')"
     ],
     "language": "python",
     "metadata": {},
     "outputs": [
      {
       "metadata": {},
       "output_type": "pyout",
       "prompt_number": 24,
       "text": [
        "[<matplotlib.lines.Line2D at 0x5c79dd0>]"
       ]
      }
     ],
     "prompt_number": 24
    },
    {
     "cell_type": "code",
     "collapsed": false,
     "input": [
      "fig = figure()\n",
      "plot(x,s_d_y,'b-')\n",
      "test= ifft(s_d_y_fft[x < 700])\n",
      "xx = linspace(min(x),max(x),len(test))\n",
      "\n",
      "plot(xx,test,'k-')\n",
      "\n"
     ],
     "language": "python",
     "metadata": {},
     "outputs": [
      {
       "metadata": {},
       "output_type": "pyout",
       "prompt_number": 23,
       "text": [
        "[<matplotlib.lines.Line2D at 0x64af6d0>]"
       ]
      }
     ],
     "prompt_number": 23
    },
    {
     "cell_type": "code",
     "collapsed": false,
     "input": [
      "def derive(values):\n",
      "    '''\n",
      "    calculate the first derivative of the value array\n",
      "    and smooth it with SG alghoritm with default windows\n",
      "    of 15 points and poly degree of 3\n",
      "    '''\n",
      "    temp_array = np.diff(values)\n",
      "    y = np.insert(temp_array, 0, 0)\n",
      "    return y"
     ],
     "language": "python",
     "metadata": {},
     "outputs": [],
     "prompt_number": 13
    },
    {
     "cell_type": "code",
     "collapsed": false,
     "input": [],
     "language": "python",
     "metadata": {},
     "outputs": [],
     "prompt_number": 13
    },
    {
     "cell_type": "code",
     "collapsed": false,
     "input": [],
     "language": "python",
     "metadata": {},
     "outputs": []
    }
   ],
   "metadata": {}
  }
 ]
}