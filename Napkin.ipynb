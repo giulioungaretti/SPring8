{
 "metadata": {
  "name": "",
  "signature": "sha256:f6842c5a2a4d15077b75690f0ba78c97d65a83d779684794f679d3ccfac39c70"
 },
 "nbformat": 3,
 "nbformat_minor": 0,
 "worksheets": [
  {
   "cells": [
    {
     "cell_type": "markdown",
     "metadata": {},
     "source": [
      "Import"
     ]
    },
    {
     "cell_type": "code",
     "collapsed": false,
     "input": [
      "### magics\n",
      "%pylab "
     ],
     "language": "python",
     "metadata": {},
     "outputs": [
      {
       "output_type": "stream",
       "stream": "stdout",
       "text": [
        "Using matplotlib backend: Agg\n",
        "Populating the interactive namespace from numpy and matplotlib\n"
       ]
      }
     ],
     "prompt_number": 2
    },
    {
     "cell_type": "code",
     "collapsed": false,
     "input": [
      "%reload_ext autoreload\n",
      "%autoreload  2\n",
      "\n",
      "from Functions import *\n",
      "\n",
      "from collections import deque\n",
      "css_styling()\n",
      "import time as ostime\n",
      "import cv2 as cv2\n",
      "import scipy\n",
      "\n",
      "from pyqtgraph.Qt import QtGui, QtCore \n",
      "import pyqtgraph as pg\n",
      "\n",
      "import cPickle as pickle\n",
      "pg.setConfigOptions(antialias=True)\n",
      "\n",
      "import agpy as agf"
     ],
     "language": "python",
     "metadata": {},
     "outputs": [
      {
       "output_type": "stream",
       "stream": "stdout",
       "text": [
        "Can't use kdist without the 'coords' package\n",
        "reg_gal2cel requires coords & pyregion\n",
        "posang requires coords\n",
        "Region Photometry requires pyregion\n",
        "Cannot import montage."
       ]
      },
      {
       "output_type": "stream",
       "stream": "stdout",
       "text": [
        "\n",
        "cubes.py requires coords for aper_world2pix and coords_in_image\n",
        "cubes.py requires pyregion for getspec_reg\n",
        "cubes.py requires pywcs for some subimage_integ,aper_wordl2pix,getspec, and coords_in_image\n"
       ]
      }
     ],
     "prompt_number": 3
    },
    {
     "cell_type": "markdown",
     "metadata": {},
     "source": [
      "Matplotlib tweak"
     ]
    },
    {
     "cell_type": "code",
     "collapsed": false,
     "input": [
      "matplotlib.rcParams.update({'font.size': 20})\n",
      "matplotlib.rcParams.update({'figure.figsize': (10.0, 8.0)})"
     ],
     "language": "python",
     "metadata": {},
     "outputs": [],
     "prompt_number": 4
    },
    {
     "cell_type": "markdown",
     "metadata": {},
     "source": [
      "Paralle set up"
     ]
    },
    {
     "cell_type": "code",
     "collapsed": false,
     "input": [
      "from IPython.parallel import Client\n",
      "css_styling()\n",
      "rc = Client()\n",
      "dview = rc[:]\n",
      "%px clear"
     ],
     "language": "python",
     "metadata": {},
     "outputs": [
      {
       "output_type": "stream",
       "stream": "stdout",
       "text": [
        "[stdout:0] \u001b[H\u001b[2J\n",
        "[stdout:1] \u001b[H\u001b[2J\n",
        "[stdout:2] \u001b[H\u001b[2J\n",
        "[stdout:3] \u001b[H\u001b[2J\n"
       ]
      }
     ],
     "prompt_number": 5
    },
    {
     "cell_type": "markdown",
     "metadata": {},
     "source": [
      "Importing on engines"
     ]
    },
    {
     "cell_type": "code",
     "collapsed": false,
     "input": [
      "with dview.sync_imports():\n",
      "    import time as tm\n",
      "    import numpy as np\n",
      "    import matplotlib.pyplot as plt \n",
      "    import pandas as pd\n",
      "    from scipy.ndimage import measurements as meas\n",
      "    from scipy.ndimage import center_of_mass\n",
      "    from scipy.ndimage import median_filter\n",
      "    from scipy.signal import medfilt\n",
      "    import os\n",
      "    from scipy.optimize import curve_fit\n",
      "    from matplotlib.patches import Ellipse\n",
      "    import Image\n",
      "    %px %load_ext autoreload\n",
      "    %px %autoreload 2 \n",
      "    from Functions import  SPring8_image, gauss_function, parse_headers, Version, pandify_header"
     ],
     "language": "python",
     "metadata": {},
     "outputs": [
      {
       "output_type": "stream",
       "stream": "stdout",
       "text": [
        "importing time on engine(s)\n",
        "importing numpy on engine(s)\n",
        "importing matplotlib.pyplot on engine(s)\n",
        "importing pandas on engine(s)\n",
        "importing measurements from scipy.ndimage on engine(s)\n",
        "importing center_of_mass from scipy.ndimage on engine(s)\n",
        "importing median_filter from scipy.ndimage on engine(s)\n",
        "importing medfilt from scipy.signal on engine(s)\n",
        "importing os on engine(s)\n",
        "importing curve_fit from scipy.optimize on engine(s)\n",
        "importing Ellipse from matplotlib.patches on engine(s)\n",
        "importing Image on engine(s)\n",
        "importing Again from zmq.error on engine(s)\n",
        "importing strerror,zmq_errno from zmq.backend on engine(s)\n",
        "[stdout:0] \n",
        "The autoreload extension is already loaded. To reload it, use:\n",
        "  %reload_ext autoreload\n"
       ]
      },
      {
       "output_type": "stream",
       "stream": "stdout",
       "text": [
        "[stdout:1] \n",
        "The autoreload extension is already loaded. To reload it, use:\n",
        "  %reload_ext autoreload\n",
        "[stdout:2] \n",
        "The autoreload extension is already loaded. To reload it, use:\n",
        "  %reload_ext autoreload\n",
        "[stdout:3] \n",
        "The autoreload extension is already loaded. To reload it, use:\n",
        "  %reload_ext autoreload\n",
        "importing SPring8_image,gauss_function,parse_headers,Version,pandify_header from Functions on engine(s)\n"
       ]
      }
     ],
     "prompt_number": 6
    },
    {
     "cell_type": "code",
     "collapsed": false,
     "input": [
      "dirs"
     ],
     "language": "python",
     "metadata": {},
     "outputs": [
      {
       "metadata": {},
       "output_type": "pyout",
       "prompt_number": 7,
       "text": [
        "[]"
       ]
      }
     ],
     "prompt_number": 7
    },
    {
     "cell_type": "code",
     "collapsed": false,
     "input": [
      "from __future__ import print_function"
     ],
     "language": "python",
     "metadata": {},
     "outputs": [],
     "prompt_number": 8
    },
    {
     "cell_type": "code",
     "collapsed": false,
     "input": [
      "dirs = !ls -d ./InAs0799tim*shutter*.p\n",
      "for i in dirs:\n",
      "    in_dump = pickle.load(open(i,'rb'))\n",
      "    out_file = open(i[2:-2]+'.csv', 'wb')\n",
      "    for item in in_dump:\n",
      "        print(item,file=out_file)\n",
      "\n"
     ],
     "language": "python",
     "metadata": {},
     "outputs": [],
     "prompt_number": 9
    },
    {
     "cell_type": "code",
     "collapsed": false,
     "input": [
      "for name in dirs:\n",
      "    name = name.split('/')[-1]\n",
      "    try:\n",
      "        print 'working'\n",
      "        files = !ls ./pilatus/InAs0799/$name/*.tif\n",
      "        puhsed_files = dview.push(dict(files=files))\n",
      "        pushed_functions = dview.push(dict(SPring8_image = SPring8_image,\n",
      "                                            gauss_function=gauss_function,\n",
      "                                            parse_headers = parse_headers))\n",
      "        spec_df = load_spec_log(name)\n",
      "        time = spec_df.Time.values\n",
      "        samples = list( flatten( dview.map_sync(lambda x: parse_headers(x,2),files)))\n",
      "        data_df = pandify_header(samples)\n",
      "        data_df['Time'] = spec_df.Time.values\n",
      "        data_df.to_csv(name+\"test\"+'.csv')\n",
      "    except:\n",
      "        print name"
     ],
     "language": "python",
     "metadata": {},
     "outputs": [
      {
       "ename": "SyntaxError",
       "evalue": "invalid syntax (<ipython-input-10-a11deedbbe67>, line 4)",
       "output_type": "pyerr",
       "traceback": [
        "\u001b[1;36m  File \u001b[1;32m\"<ipython-input-10-a11deedbbe67>\"\u001b[1;36m, line \u001b[1;32m4\u001b[0m\n\u001b[1;33m    print 'working'\u001b[0m\n\u001b[1;37m                  ^\u001b[0m\n\u001b[1;31mSyntaxError\u001b[0m\u001b[1;31m:\u001b[0m invalid syntax\n"
       ]
      }
     ],
     "prompt_number": 10
    },
    {
     "cell_type": "markdown",
     "metadata": {},
     "source": [
      "dirs = !ls -d ./pilatus/InAs0799/InAs0799time*\n",
      "for name in dirs:\n",
      "    name = name.split('/')[-1]\n",
      "    try:\n",
      "        print 'working'\n",
      "        files = !ls ./pilatus/InAs0799/$name/*.tif\n",
      "        puhsed_files = dview.push(dict(files=files))\n",
      "        pushed_functions = dview.push(dict(SPring8_image = SPring8_image,\n",
      "                                            gauss_function=gauss_function,\n",
      "                                            parse_headers = parse_headers))\n",
      "        spec_df = load_spec_log(name)\n",
      "        time = spec_df.Time.values\n",
      "        samples = list( flatten( dview.map_sync(lambda x: parse_headers(x,2),files)))\n",
      "        data_df = pandify_header(samples)\n",
      "        data_df['Time'] = spec_df.Time.values\n",
      "        data_df.to_csv(name+\"test\"+'.csv')\n",
      "    except:\n",
      "        print name"
     ]
    },
    {
     "cell_type": "heading",
     "level": 2,
     "metadata": {},
     "source": [
      "Create directory map"
     ]
    },
    {
     "cell_type": "code",
     "collapsed": false,
     "input": [
      "name = 'InAs0799time3'\n",
      "files = !ls ./pilatus/InAs0799/$name/*.tif\n",
      "puhsed_files = dview.push(dict(files=files))\n",
      "pushed_functions = dview.push(dict(SPring8_image = SPring8_image,\n",
      "                                    gauss_function=gauss_function,\n",
      "                                    parse_headers = parse_headers))\n"
     ],
     "language": "python",
     "metadata": {},
     "outputs": [],
     "prompt_number": 11
    },
    {
     "cell_type": "markdown",
     "metadata": {},
     "source": [
      "load hkl"
     ]
    },
    {
     "cell_type": "code",
     "collapsed": false,
     "input": [
      "name_hkl = 'InAs0799'\n",
      "H = loadtxt('./'+name_hkl+'/H.dat')\n",
      "L = loadtxt('./'+name_hkl+'/L.dat')\n",
      "K = loadtxt('./'+name_hkl+'/K.dat')"
     ],
     "language": "python",
     "metadata": {},
     "outputs": [],
     "prompt_number": 12
    },
    {
     "cell_type": "markdown",
     "metadata": {},
     "source": [
      "load times"
     ]
    },
    {
     "cell_type": "code",
     "collapsed": false,
     "input": [
      "spec_df = load_spec_log(name)\n",
      "time = spec_df.Time.values"
     ],
     "language": "python",
     "metadata": {},
     "outputs": [],
     "prompt_number": 13
    },
    {
     "cell_type": "heading",
     "level": 2,
     "metadata": {},
     "source": [
      "load headers"
     ]
    },
    {
     "cell_type": "code",
     "collapsed": false,
     "input": [
      "samples = list( flatten( dview.map_sync(lambda x: parse_headers(x,2),files)))"
     ],
     "language": "python",
     "metadata": {},
     "outputs": [],
     "prompt_number": 14
    },
    {
     "cell_type": "code",
     "collapsed": false,
     "input": [
      "data_df = pandify_header(samples)\n",
      "data_df['Time'] = spec_df.Time.values"
     ],
     "language": "python",
     "metadata": {},
     "outputs": [],
     "prompt_number": 15
    },
    {
     "cell_type": "code",
     "collapsed": false,
     "input": [
      "data_df.head()"
     ],
     "language": "python",
     "metadata": {},
     "outputs": [
      {
       "html": [
        "<div style=\"max-height:1000px;max-width:1500px;overflow:auto;\">\n",
        "<table border=\"1\" class=\"dataframe\">\n",
        "  <thead>\n",
        "    <tr style=\"text-align: right;\">\n",
        "      <th></th>\n",
        "      <th>NIG</th>\n",
        "      <th>name</th>\n",
        "      <th>Monitor</th>\n",
        "      <th>Timestamp</th>\n",
        "      <th>Time</th>\n",
        "    </tr>\n",
        "  </thead>\n",
        "  <tbody>\n",
        "    <tr>\n",
        "      <th>5 </th>\n",
        "      <td> 0.000390</td>\n",
        "      <td> ./pilatus/InAs0799/InAs0799time3/InAs0799time3...</td>\n",
        "      <td> 12360</td>\n",
        "      <td> NaN</td>\n",
        "      <td> 0.003226</td>\n",
        "    </tr>\n",
        "    <tr>\n",
        "      <th>6 </th>\n",
        "      <td> 0.000392</td>\n",
        "      <td> ./pilatus/InAs0799/InAs0799time3/InAs0799time3...</td>\n",
        "      <td> 12707</td>\n",
        "      <td> NaN</td>\n",
        "      <td> 0.999416</td>\n",
        "    </tr>\n",
        "    <tr>\n",
        "      <th>11</th>\n",
        "      <td> 0.000392</td>\n",
        "      <td> ./pilatus/InAs0799/InAs0799time3/InAs0799time3...</td>\n",
        "      <td> 12273</td>\n",
        "      <td> NaN</td>\n",
        "      <td> 6.218830</td>\n",
        "    </tr>\n",
        "    <tr>\n",
        "      <th>12</th>\n",
        "      <td> 0.000392</td>\n",
        "      <td> ./pilatus/InAs0799/InAs0799time3/InAs0799time3...</td>\n",
        "      <td> 12741</td>\n",
        "      <td> NaN</td>\n",
        "      <td> 7.126620</td>\n",
        "    </tr>\n",
        "    <tr>\n",
        "      <th>13</th>\n",
        "      <td> 0.000392</td>\n",
        "      <td> ./pilatus/InAs0799/InAs0799time3/InAs0799time3...</td>\n",
        "      <td> 13010</td>\n",
        "      <td> NaN</td>\n",
        "      <td> 8.078640</td>\n",
        "    </tr>\n",
        "  </tbody>\n",
        "</table>\n",
        "</div>"
       ],
       "metadata": {},
       "output_type": "pyout",
       "prompt_number": 16,
       "text": [
        "         NIG                                               name  Monitor  \\\n",
        "5   0.000390  ./pilatus/InAs0799/InAs0799time3/InAs0799time3...    12360   \n",
        "6   0.000392  ./pilatus/InAs0799/InAs0799time3/InAs0799time3...    12707   \n",
        "11  0.000392  ./pilatus/InAs0799/InAs0799time3/InAs0799time3...    12273   \n",
        "12  0.000392  ./pilatus/InAs0799/InAs0799time3/InAs0799time3...    12741   \n",
        "13  0.000392  ./pilatus/InAs0799/InAs0799time3/InAs0799time3...    13010   \n",
        "\n",
        "   Timestamp      Time  \n",
        "5        NaN  0.003226  \n",
        "6        NaN  0.999416  \n",
        "11       NaN  6.218830  \n",
        "12       NaN  7.126620  \n",
        "13       NaN  8.078640  "
       ]
      }
     ],
     "prompt_number": 16
    },
    {
     "cell_type": "code",
     "collapsed": false,
     "input": [
      "obj = SPring8_image(data_df.name[100])\n",
      "obj.read_detector(2)\n",
      "image = obj.img\n",
      "image = image[70:125,90:370]"
     ],
     "language": "python",
     "metadata": {},
     "outputs": [],
     "prompt_number": 17
    },
    {
     "cell_type": "heading",
     "level": 2,
     "metadata": {},
     "source": [
      "2D fit test"
     ]
    },
    {
     "cell_type": "markdown",
     "metadata": {},
     "source": [
      "load all the images in a list ordered by time"
     ]
    },
    {
     "cell_type": "code",
     "collapsed": false,
     "input": [
      "data_list= []\n",
      "for i, t , index in zip(data_df.name,data_df.Time,range(0,len(data_df.Time))):\n",
      "    image = SPring8_image(i)\n",
      "    image.read_detector(2)\n",
      "    image = (image.img)\n",
      "    image = image[70:125,90:370]\n",
      "    data_list.append(rot90(flipud((image)),3))  # messy to make the image look correct!\n",
      "data_array = array(data_list)"
     ],
     "language": "python",
     "metadata": {},
     "outputs": [],
     "prompt_number": 18
    },
    {
     "cell_type": "markdown",
     "metadata": {},
     "source": [
      "If needed dump them to disk.."
     ]
    },
    {
     "cell_type": "code",
     "collapsed": false,
     "input": [
      "# pickle.dump(data_array, open(str(name) + 'image_slice' + \".p\", \"wb\"))"
     ],
     "language": "python",
     "metadata": {},
     "outputs": [],
     "prompt_number": 19
    },
    {
     "cell_type": "heading",
     "level": 2,
     "metadata": {},
     "source": [
      "PQ plot"
     ]
    },
    {
     "cell_type": "code",
     "collapsed": false,
     "input": [
      "pg.mkQApp()\n",
      " \n",
      "## Create window with two ImageView widgets\n",
      "win = QtGui.QMainWindow()\n",
      "win.resize(800,800)\n",
      "win.setWindowTitle('pyqtgraph example: DataSlicing')\n",
      "cw = QtGui.QWidget()\n",
      "win.setCentralWidget(cw)\n",
      "l = QtGui.QGridLayout()\n",
      "l.setRowStretch(0, 2)\n",
      "l.setRowStretch(1, 2)\n",
      "l.setRowStretch(2, 2)\n",
      "cw.setLayout(l)\n",
      " \n",
      "dummy_plot=  pg.PlotItem(title='Pilatus image')\n",
      "dummy_plot.enableAutoRange()\n",
      "imv1 = pg.ImageView(view=dummy_plot)\n",
      " \n",
      " \n",
      "\n",
      "pw = pg.PlotWidget()\n",
      "pw2 = pg.PlotWidget()\n",
      "pw3 = pg.PlotWidget()\n",
      " \n",
      "\n",
      "l.addWidget(imv1, 0, 0)\n",
      "l.addWidget(pw, 1, 0)\n",
      "l.addWidget(pw2, 2, 0)\n",
      "\n",
      "win.show()\n",
      " \n",
      "roi = pg.LineSegmentROI([[10, 10], [120,10]], pen=(200, 200, 255))\n",
      "imv1.addItem(roi)\n",
      "roi2 = pg.LineSegmentROI([[10, 10], [120,10]], pen='b')\n",
      "imv1.addItem(roi2)\n",
      "roi3 = pg.PolyLineROI([[20, 10], [120,10], [10,90], [40,60]]  ,closed=True,pen='y')\n",
      "imv1.addItem(roi3)\n",
      "\n",
      "def update():\n",
      "    global data_array, imv1, pw, roi\n",
      "    pw.clear()\n",
      "    pw2.clear()\n",
      "    d1 = roi.getArrayRegion(data_array, imv1.imageItem, axes=(1,2))\n",
      "    d2 = roi2.getArrayRegion(data_array, imv1.imageItem, axes=(1,2))\n",
      "    pw.plot(d1[imv1.currentIndex], pen=roi.pen)\n",
      "    pw.plot(d2[imv1.currentIndex], pen=roi2.pen)\n",
      "    d3 = roi3.getArrayRegion(data_array, imv1.imageItem, axes=(1,2))\n",
      "    return d3, d3[imv1.currentIndex]\n",
      "    \n",
      "roi.sigRegionChanged.connect(update)\n",
      "roi2.sigRegionChanged.connect(update)\n",
      "\n",
      "imv1.sigTimeChanged.connect(update)\n",
      " \n",
      "imv1.setImage(log(data_array), xvals=data_df.Time)\n",
      "\n"
     ],
     "language": "python",
     "metadata": {},
     "outputs": []
    },
    {
     "cell_type": "code",
     "collapsed": false,
     "input": [
      "d3 = update()"
     ],
     "language": "python",
     "metadata": {},
     "outputs": [],
     "prompt_number": 1
    },
    {
     "cell_type": "code",
     "collapsed": false,
     "input": [
      "shape(d3[0])"
     ],
     "language": "python",
     "metadata": {},
     "outputs": [
      {
       "metadata": {},
       "output_type": "pyout",
       "prompt_number": 65,
       "text": [
        "(273, 190, 55)"
       ]
      }
     ],
     "prompt_number": 65
    },
    {
     "cell_type": "code",
     "collapsed": false,
     "input": [
      "imshow(d3[1])\n",
      "\n",
      "\n",
      "#sum that thing and plot as funciton of time"
     ],
     "language": "python",
     "metadata": {},
     "outputs": [
      {
       "metadata": {},
       "output_type": "pyout",
       "prompt_number": 69,
       "text": [
        "<matplotlib.image.AxesImage at 0x2982aa50>"
       ]
      }
     ],
     "prompt_number": 69
    },
    {
     "cell_type": "heading",
     "level": 2,
     "metadata": {},
     "source": [
      "GIT"
     ]
    },
    {
     "cell_type": "code",
     "collapsed": false,
     "input": [
      "!git add 'Napkin.ipynb'\n",
      "!git commit  -m 'time signal change added'"
     ],
     "language": "python",
     "metadata": {},
     "outputs": [
      {
       "output_type": "stream",
       "stream": "stdout",
       "text": [
        "[parllelpimp dba0355] time signal change added\r\n",
        " 1 file changed, 75 insertions(+), 11 deletions(-)\r\n"
       ]
      }
     ],
     "prompt_number": 70
    },
    {
     "cell_type": "code",
     "collapsed": false,
     "input": [],
     "language": "python",
     "metadata": {},
     "outputs": []
    }
   ],
   "metadata": {}
  }
 ]
}