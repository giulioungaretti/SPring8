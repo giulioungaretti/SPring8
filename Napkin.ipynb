{
 "metadata": {
  "name": "",
  "signature": "sha256:884ffbcdb2976300bfc944164d5d9d1a16d1b9bed2f0aed70352a02ef28947e6"
 },
 "nbformat": 3,
 "nbformat_minor": 0,
 "worksheets": [
  {
   "cells": [
    {
     "cell_type": "markdown",
     "metadata": {},
     "source": [
      "Import"
     ]
    },
    {
     "cell_type": "code",
     "collapsed": false,
     "input": [
      "### magics\n",
      "%pylab "
     ],
     "language": "python",
     "metadata": {},
     "outputs": [
      {
       "output_type": "stream",
       "stream": "stdout",
       "text": [
        "Using matplotlib backend: Qt4Agg\n",
        "Populating the interactive namespace from numpy and matplotlib\n"
       ]
      }
     ],
     "prompt_number": 1
    },
    {
     "cell_type": "code",
     "collapsed": false,
     "input": [
      "%reload_ext autoreload\n",
      "%autoreload  2\n",
      "\n",
      "from Functions import *\n",
      "\n",
      "from collections import deque\n",
      "css_styling()\n",
      "import time as ostime\n",
      "import cv2 as cv2\n",
      "import scipy\n",
      "\n",
      "from pyqtgraph.Qt import QtGui, QtCore \n",
      "import pyqtgraph as pg\n",
      "\n",
      "import cPickle as pickle\n",
      "pg.setConfigOptions(antialias=True)\n",
      "\n"
     ],
     "language": "python",
     "metadata": {},
     "outputs": [],
     "prompt_number": 2
    },
    {
     "cell_type": "markdown",
     "metadata": {},
     "source": [
      "Matplotlib tweak"
     ]
    },
    {
     "cell_type": "code",
     "collapsed": false,
     "input": [
      "matplotlib.rcParams.update({'font.size': 20})\n",
      "matplotlib.rcParams.update({'figure.figsize': (10.0, 8.0)})"
     ],
     "language": "python",
     "metadata": {},
     "outputs": [],
     "prompt_number": 3
    },
    {
     "cell_type": "markdown",
     "metadata": {},
     "source": [
      "Paralle set up"
     ]
    },
    {
     "cell_type": "code",
     "collapsed": false,
     "input": [
      "from IPython.parallel import Client\n",
      "css_styling()\n",
      "rc = Client()\n",
      "dview = rc[:]\n",
      "%px clear"
     ],
     "language": "python",
     "metadata": {},
     "outputs": [
      {
       "output_type": "stream",
       "stream": "stdout",
       "text": [
        "[stdout:0] \u001b[H\u001b[2J\n",
        "[stdout:1] \u001b[H\u001b[2J\n",
        "[stdout:2] \u001b[H\u001b[2J\n",
        "[stdout:3] \u001b[H\u001b[2J\n"
       ]
      }
     ],
     "prompt_number": 4
    },
    {
     "cell_type": "markdown",
     "metadata": {},
     "source": [
      "Importing on engines"
     ]
    },
    {
     "cell_type": "code",
     "collapsed": false,
     "input": [
      "with dview.sync_imports():\n",
      "    import time as tm\n",
      "    import numpy as np\n",
      "    import matplotlib.pyplot as plt \n",
      "    import pandas as pd\n",
      "    from scipy.ndimage import measurements as meas\n",
      "    from scipy.ndimage import center_of_mass\n",
      "    from scipy.ndimage import median_filter\n",
      "    from scipy.signal import medfilt\n",
      "    import os\n",
      "    from scipy.optimize import curve_fit\n",
      "    from matplotlib.patches import Ellipse\n",
      "    import Image\n",
      "    %px %load_ext autoreload\n",
      "    %px %autoreload 2 \n",
      "    from Functions import  SPring8_image, gauss_function, parse_headers, Version, pandify_header"
     ],
     "language": "python",
     "metadata": {},
     "outputs": [
      {
       "output_type": "stream",
       "stream": "stdout",
       "text": [
        "importing time on engine(s)\n",
        "importing numpy on engine(s)\n",
        "importing matplotlib.pyplot on engine(s)\n",
        "importing pandas on engine(s)\n",
        "importing measurements from scipy.ndimage on engine(s)\n",
        "importing center_of_mass from scipy.ndimage on engine(s)\n",
        "importing median_filter from scipy.ndimage on engine(s)\n",
        "importing medfilt from scipy.signal on engine(s)"
       ]
      },
      {
       "output_type": "stream",
       "stream": "stdout",
       "text": [
        "\n",
        "importing os on engine(s)\n",
        "importing curve_fit from scipy.optimize on engine(s)\n",
        "importing Ellipse from matplotlib.patches on engine(s)\n",
        "importing Image on engine(s)\n",
        "importing Again from zmq.error on engine(s)\n",
        "importing strerror,zmq_errno from zmq.backend on engine(s)\n",
        "importing SPring8_image,gauss_function,parse_headers,Version,pandify_header from Functions on engine(s)"
       ]
      },
      {
       "output_type": "stream",
       "stream": "stdout",
       "text": [
        "\n"
       ]
      }
     ],
     "prompt_number": 5
    },
    {
     "cell_type": "heading",
     "level": 2,
     "metadata": {},
     "source": [
      "Create directory map"
     ]
    },
    {
     "cell_type": "code",
     "collapsed": false,
     "input": [
      "name = 'InAs0799time3'\n",
      "files = !ls ./pilatus/InAs0799/$name/*.tif\n",
      "puhsed_files = dview.push(dict(files=files))\n",
      "pushed_functions = dview.push(dict(SPring8_image = SPring8_image,\n",
      "                                    gauss_function=gauss_function,\n",
      "                                    parse_headers = parse_headers))"
     ],
     "language": "python",
     "metadata": {},
     "outputs": [],
     "prompt_number": 6
    },
    {
     "cell_type": "markdown",
     "metadata": {},
     "source": [
      "load hkl"
     ]
    },
    {
     "cell_type": "code",
     "collapsed": false,
     "input": [
      "name_hkl = 'InAs0799'\n",
      "H = loadtxt('./'+name_hkl+'/H.dat')\n",
      "L = loadtxt('./'+name_hkl+'/L.dat')\n",
      "K = loadtxt('./'+name_hkl+'/K.dat')"
     ],
     "language": "python",
     "metadata": {},
     "outputs": [],
     "prompt_number": 7
    },
    {
     "cell_type": "markdown",
     "metadata": {},
     "source": [
      "load times"
     ]
    },
    {
     "cell_type": "code",
     "collapsed": false,
     "input": [
      "spec_df = load_spec_log(name)\n",
      "time = spec_df.Time.values"
     ],
     "language": "python",
     "metadata": {},
     "outputs": [],
     "prompt_number": 8
    },
    {
     "cell_type": "heading",
     "level": 2,
     "metadata": {},
     "source": [
      "load headers"
     ]
    },
    {
     "cell_type": "code",
     "collapsed": false,
     "input": [
      "roi = {}\n",
      "samples = list( flatten( dview.map_sync(lambda x: parse_headers(x,2),files)))"
     ],
     "language": "python",
     "metadata": {},
     "outputs": [],
     "prompt_number": 9
    },
    {
     "cell_type": "code",
     "collapsed": false,
     "input": [
      "data_df = pandify_header(samples)\n",
      "data_df['Time'] = spec_df.Time.values"
     ],
     "language": "python",
     "metadata": {},
     "outputs": [],
     "prompt_number": 10
    },
    {
     "cell_type": "code",
     "collapsed": false,
     "input": [
      "data_df.head()"
     ],
     "language": "python",
     "metadata": {},
     "outputs": [
      {
       "html": [
        "<div style=\"max-height:1000px;max-width:1500px;overflow:auto;\">\n",
        "<table border=\"1\" class=\"dataframe\">\n",
        "  <thead>\n",
        "    <tr style=\"text-align: right;\">\n",
        "      <th></th>\n",
        "      <th>NIG</th>\n",
        "      <th>name</th>\n",
        "      <th>Monitor</th>\n",
        "      <th>Timestamp</th>\n",
        "      <th>Time</th>\n",
        "    </tr>\n",
        "  </thead>\n",
        "  <tbody>\n",
        "    <tr>\n",
        "      <th>5 </th>\n",
        "      <td> 0.000390</td>\n",
        "      <td> ./pilatus/InAs0799/InAs0799time3/InAs0799time3...</td>\n",
        "      <td> 12360</td>\n",
        "      <td> NaN</td>\n",
        "      <td> 0.003226</td>\n",
        "    </tr>\n",
        "    <tr>\n",
        "      <th>6 </th>\n",
        "      <td> 0.000392</td>\n",
        "      <td> ./pilatus/InAs0799/InAs0799time3/InAs0799time3...</td>\n",
        "      <td> 12707</td>\n",
        "      <td> NaN</td>\n",
        "      <td> 0.999416</td>\n",
        "    </tr>\n",
        "    <tr>\n",
        "      <th>11</th>\n",
        "      <td> 0.000392</td>\n",
        "      <td> ./pilatus/InAs0799/InAs0799time3/InAs0799time3...</td>\n",
        "      <td> 12273</td>\n",
        "      <td> NaN</td>\n",
        "      <td> 6.218830</td>\n",
        "    </tr>\n",
        "    <tr>\n",
        "      <th>12</th>\n",
        "      <td> 0.000392</td>\n",
        "      <td> ./pilatus/InAs0799/InAs0799time3/InAs0799time3...</td>\n",
        "      <td> 12741</td>\n",
        "      <td> NaN</td>\n",
        "      <td> 7.126620</td>\n",
        "    </tr>\n",
        "    <tr>\n",
        "      <th>13</th>\n",
        "      <td> 0.000392</td>\n",
        "      <td> ./pilatus/InAs0799/InAs0799time3/InAs0799time3...</td>\n",
        "      <td> 13010</td>\n",
        "      <td> NaN</td>\n",
        "      <td> 8.078640</td>\n",
        "    </tr>\n",
        "  </tbody>\n",
        "</table>\n",
        "</div>"
       ],
       "metadata": {},
       "output_type": "pyout",
       "prompt_number": 11,
       "text": [
        "         NIG                                               name  Monitor  \\\n",
        "5   0.000390  ./pilatus/InAs0799/InAs0799time3/InAs0799time3...    12360   \n",
        "6   0.000392  ./pilatus/InAs0799/InAs0799time3/InAs0799time3...    12707   \n",
        "11  0.000392  ./pilatus/InAs0799/InAs0799time3/InAs0799time3...    12273   \n",
        "12  0.000392  ./pilatus/InAs0799/InAs0799time3/InAs0799time3...    12741   \n",
        "13  0.000392  ./pilatus/InAs0799/InAs0799time3/InAs0799time3...    13010   \n",
        "\n",
        "   Timestamp      Time  \n",
        "5        NaN  0.003226  \n",
        "6        NaN  0.999416  \n",
        "11       NaN  6.218830  \n",
        "12       NaN  7.126620  \n",
        "13       NaN  8.078640  "
       ]
      }
     ],
     "prompt_number": 11
    },
    {
     "cell_type": "code",
     "collapsed": false,
     "input": [
      "obj = SPring8_image(data_df.name[100])\n",
      "obj.read_detector(2)\n",
      "image = obj.img\n",
      "image = image[70:125,90:370]\n",
      "#uncomment next line to show the laoded image for reference\n",
      "fig,ax = subplots()\n",
      "image = image[10:45,120:165]\n",
      "plt.imshow(log(image),cmap= cm.cubehelix)\n"
     ],
     "language": "python",
     "metadata": {},
     "outputs": [
      {
       "metadata": {},
       "output_type": "pyout",
       "prompt_number": 12,
       "text": [
        "<matplotlib.image.AxesImage at 0x55aad90>"
       ]
      }
     ],
     "prompt_number": 12
    },
    {
     "cell_type": "heading",
     "level": 2,
     "metadata": {},
     "source": [
      "2D fit test"
     ]
    },
    {
     "cell_type": "code",
     "collapsed": false,
     "input": [
      "from numpy import *\n",
      "from scipy import optimize\n",
      "\n",
      "def gaussian(height, center_x, center_y, width_x, width_y):\n",
      "    \"\"\"Returns a gaussian function with the given parameters\"\"\"\n",
      "    width_x = float(width_x)\n",
      "    width_y = float(width_y)\n",
      "    return lambda x,y: height*exp(\n",
      "                -(((center_x-x)/width_x)**2+((center_y-y)/width_y)**2)/2)\n",
      "\n",
      "def moments(data):\n",
      "    \"\"\"Returns (height, x, y, width_x, width_y)\n",
      "    the gaussian parameters of a 2D distribution by calculating its\n",
      "    moments \"\"\"\n",
      "    total = data.sum()\n",
      "    X, Y = indices(data.shape)\n",
      "    x = (X*data).sum()/total\n",
      "    y = (Y*data).sum()/total\n",
      "    col = data[:, int(y)]\n",
      "    width_x = sqrt(abs((arange(col.size)-y)**2*col).sum()/col.sum())\n",
      "    row = data[int(x), :]\n",
      "    width_y = sqrt(abs((arange(row.size)-x)**2*row).sum()/row.sum())\n",
      "    height = data.max()\n",
      "    return height, x, y, width_x, width_y\n",
      "\n",
      "def fitgaussian(data):\n",
      "    \"\"\"Returns (height, x, y, width_x, width_y)\n",
      "    the gaussian parameters of a 2D distribution found by a fit\"\"\"\n",
      "    params = moments(data)\n",
      "    errorfunction = lambda p: ravel(gaussian(*p)(*indices(data.shape)) -\n",
      "                                 data)\n",
      "    p, success = optimize.leastsq(errorfunction, params)\n",
      "    return p"
     ],
     "language": "python",
     "metadata": {},
     "outputs": [],
     "prompt_number": 13
    },
    {
     "cell_type": "code",
     "collapsed": false,
     "input": [
      "data =  image\n",
      "matshow(data, cmap=cm.gist_earth_r)\n",
      "\n",
      "params = fitgaussian(data)\n",
      "fit = gaussian(*params)\n",
      "\n",
      "contour(fit(*indices(data.shape)), cmap=cm.copper)\n",
      "ax = gca()\n",
      "(height, x, y, width_x, width_y) = params\n",
      "\n",
      "text(0.95, 0.05, \"\"\"\n",
      "x : %.1f\n",
      "y : %.1f\n",
      "width_x : %.1f\n",
      "width_y : %.1f\"\"\" %(x, y, width_x, width_y),\n",
      "        fontsize=16, horizontalalignment='right',\n",
      "        verticalalignment='bottom', transform=ax.transAxes)\n",
      "\n",
      "show()"
     ],
     "language": "python",
     "metadata": {},
     "outputs": [],
     "prompt_number": 14
    },
    {
     "cell_type": "markdown",
     "metadata": {},
     "source": [
      "load all the images in a list ordered by time"
     ]
    },
    {
     "cell_type": "code",
     "collapsed": false,
     "input": [
      "data_list= []\n",
      "for i, t , index in zip(data_df.name,data_df.Time,range(0,len(data_df.Time))):\n",
      "    image = SPring8_image(i)\n",
      "    image.read_detector(2)\n",
      "    image = (image.img)\n",
      "    \n",
      "    image = image[70:125,90:370]\n",
      "    \n",
      "    data_list.append(rot90(flipud(log(image)),3))  # messy to make the image look correct!\n",
      "    \n",
      "data_array = array(data_list)"
     ],
     "language": "python",
     "metadata": {},
     "outputs": [],
     "prompt_number": 15
    },
    {
     "cell_type": "markdown",
     "metadata": {},
     "source": [
      "If needed dump them to disk.."
     ]
    },
    {
     "cell_type": "code",
     "collapsed": false,
     "input": [
      "# pickle.dump(data_array, open(str(name) + 'image_slice' + \".p\", \"wb\"))"
     ],
     "language": "python",
     "metadata": {},
     "outputs": [],
     "prompt_number": 16
    },
    {
     "cell_type": "heading",
     "level": 2,
     "metadata": {},
     "source": [
      "GIT"
     ]
    },
    {
     "cell_type": "code",
     "collapsed": false,
     "input": [
      "!git add 'Napkin.ipynb'\n",
      "!git commit  -m 'implemented new solution form author'"
     ],
     "language": "python",
     "metadata": {},
     "outputs": [
      {
       "output_type": "stream",
       "stream": "stdout",
       "text": [
        "[parllelpimp 5cc3fc5] implemented new solution form author\r\n",
        " 1 file changed, 242 insertions(+), 194 deletions(-)\r\n"
       ]
      }
     ],
     "prompt_number": 17
    },
    {
     "cell_type": "heading",
     "level": 2,
     "metadata": {},
     "source": [
      "testing pq"
     ]
    },
    {
     "cell_type": "code",
     "collapsed": false,
     "input": [
      "try :\n",
      "    print app\n",
      "    print 'QT gui found skipping'\n",
      "except Exception:\n",
      "    print 'starting new qt app'\n",
      "    app = QtGui.QApplication([])"
     ],
     "language": "python",
     "metadata": {},
     "outputs": [
      {
       "output_type": "stream",
       "stream": "stdout",
       "text": [
        "starting new qt app\n"
       ]
      }
     ],
     "prompt_number": 18
    },
    {
     "cell_type": "code",
     "collapsed": false,
     "input": [
      "## Create window with two ImageView widgets\n",
      "win = QtGui.QMainWindow()\n",
      "win.resize(800,800)\n",
      "win.setWindowTitle('pyqtgraph example: DataSlicing')\n",
      "cw = QtGui.QWidget()\n",
      "win.setCentralWidget(cw)\n",
      "l = QtGui.QGridLayout()\n",
      "cw.setLayout(l)\n",
      "\n",
      "dummy_plot=  pg.PlotItem(title='Pilatus image')\n",
      "\n",
      "dummy_plot.enableAutoRange()\n",
      "\n",
      "imv1 = pg.ImageView(view=dummy_plot )\n",
      "\n",
      "\n",
      "# imv1 = pg.ImageView()\n",
      "pw = pg.PlotWidget()\n",
      "pw2 = pg.PlotWidget()\n",
      "pw3 = pg.PlotWidget()\n",
      "\n",
      "# imv2 = pg.ImageView()\n",
      "l.addWidget(imv1, 0, 0)\n",
      "l.addWidget(pw, 1, 0)\n",
      "l.addWidget(pw2, 2, 0)\n",
      "\n",
      "\n",
      "\n",
      "\n",
      "\n",
      "win.show()\n",
      "\n",
      "roi = pg.LineSegmentROI([[10, 64], [120,64]], pen='r')\n",
      "imv1.addItem(roi)\n",
      "\n",
      "data = data_array\n",
      "\n",
      "def update():\n",
      "    global data, imv1, pw, roi\n",
      "    pw.clear()\n",
      "    pw2.clear()\n",
      "    d2 = roi.getArrayRegion(data_array, imv1.imageItem, axes=(1,2))\n",
      "    \n",
      "    pw.plot(d2[0],pen=roi.pen)\n",
      "    pw2.plot(d2[1],pen = [5,8])\n",
      "\n",
      "roi.sigRegionChanged.connect(update)\n",
      "\n",
      "\n",
      "imv1.setImage(data_array, xvals=data_df.Time )#, axes=  {'t':2, 'x':0, 'y':1, 'c':3},transform=)\n",
      "\n",
      "update()\n"
     ],
     "language": "python",
     "metadata": {},
     "outputs": [],
     "prompt_number": 19
    },
    {
     "cell_type": "markdown",
     "metadata": {},
     "source": [
      "testimg"
     ]
    },
    {
     "cell_type": "code",
     "collapsed": false,
     "input": [
      "## Create window with two ImageView widgets\n",
      "win = QtGui.QMainWindow()\n",
      "win.resize(800,800)\n",
      "win.setWindowTitle('pyqtgraph example: DataSlicing')\n",
      "cw = QtGui.QWidget()\n",
      "win.setCentralWidget(cw)\n",
      "l = QtGui.QGridLayout()\n",
      "cw.setLayout(l)\n",
      "\n",
      "dummy_plot=  pg.PlotItem(title='Pilatus image')\n",
      "\n",
      "dummy_plot.enableAutoRange()\n",
      "\n",
      "imv1 = pg.ImageView(view=dummy_plot )\n",
      "\n",
      "\n",
      "# imv1 = pg.ImageView()\n",
      "pw = pg.PlotWidget()\n",
      "pw2 = pg.PlotWidget()\n",
      "pw3 = pg.PlotWidget()\n",
      "    \n",
      "# imv2 = pg.ImageView()\n",
      "l.addWidget(imv1, 0, 0)\n",
      "l.addWidget(pw, 1, 0)\n",
      "l.addWidget(pw2, 2, 0)\n",
      "\n",
      "\n",
      "\n",
      "text = pg.TextItem('test')\n",
      "imv1.addItem(text)\n",
      "\n",
      "win.show()\n",
      "\n",
      "roi = pg.LineSegmentROI([[10, 64], [120,64]], pen='r')\n",
      "imv1.addItem(roi)\n",
      "\n",
      "def update():\n",
      "    global data, imv1, pw,pw2, roi\n",
      "    pw.clear()\n",
      "    pw2.clear()\n",
      "    d2 = roi.getArrayRegion(data_array, imv1.imageItem, axes=(1,2))\n",
      "    pw.plot(d2[0],pen=roi.pen)\n",
      "    pw2.plot(d2[1],pen = [5,8])\n",
      "    \n",
      "    \n",
      "imv1.getRoiPlot().scene().sigMouseMoved.connect(update)\n",
      "p1.scene().sigMouseMoved.connect(mouseMoved)\n",
      "roi.sigRegionChanged.connect(update)\n",
      "\n",
      "\n",
      "\n",
      "imv1.setImage(data_array, xvals=data_df.Time )#, axes=  {'t':2, 'x':0, 'y':1, 'c':3},transform=)\n",
      "\n",
      "update()"
     ],
     "language": "python",
     "metadata": {},
     "outputs": [
      {
       "ename": "NameError",
       "evalue": "name 'p1' is not defined",
       "output_type": "pyerr",
       "traceback": [
        "\u001b[1;31m---------------------------------------------------------------------------\u001b[0m\n\u001b[1;31mNameError\u001b[0m                                 Traceback (most recent call last)",
        "\u001b[1;32m<ipython-input-20-9f90f9c498f8>\u001b[0m in \u001b[0;36m<module>\u001b[1;34m()\u001b[0m\n\u001b[0;32m     45\u001b[0m \u001b[1;33m\u001b[0m\u001b[0m\n\u001b[0;32m     46\u001b[0m \u001b[0mimv1\u001b[0m\u001b[1;33m.\u001b[0m\u001b[0mgetRoiPlot\u001b[0m\u001b[1;33m(\u001b[0m\u001b[1;33m)\u001b[0m\u001b[1;33m.\u001b[0m\u001b[0mscene\u001b[0m\u001b[1;33m(\u001b[0m\u001b[1;33m)\u001b[0m\u001b[1;33m.\u001b[0m\u001b[0msigMouseMoved\u001b[0m\u001b[1;33m.\u001b[0m\u001b[0mconnect\u001b[0m\u001b[1;33m(\u001b[0m\u001b[0mupdate\u001b[0m\u001b[1;33m)\u001b[0m\u001b[1;33m\u001b[0m\u001b[0m\n\u001b[1;32m---> 47\u001b[1;33m \u001b[0mp1\u001b[0m\u001b[1;33m.\u001b[0m\u001b[0mscene\u001b[0m\u001b[1;33m(\u001b[0m\u001b[1;33m)\u001b[0m\u001b[1;33m.\u001b[0m\u001b[0msigMouseMoved\u001b[0m\u001b[1;33m.\u001b[0m\u001b[0mconnect\u001b[0m\u001b[1;33m(\u001b[0m\u001b[0mmouseMoved\u001b[0m\u001b[1;33m)\u001b[0m\u001b[1;33m\u001b[0m\u001b[0m\n\u001b[0m\u001b[0;32m     48\u001b[0m \u001b[0mroi\u001b[0m\u001b[1;33m.\u001b[0m\u001b[0msigRegionChanged\u001b[0m\u001b[1;33m.\u001b[0m\u001b[0mconnect\u001b[0m\u001b[1;33m(\u001b[0m\u001b[0mupdate\u001b[0m\u001b[1;33m)\u001b[0m\u001b[1;33m\u001b[0m\u001b[0m\n\u001b[0;32m     49\u001b[0m \u001b[1;33m\u001b[0m\u001b[0m\n",
        "\u001b[1;31mNameError\u001b[0m: name 'p1' is not defined"
       ]
      }
     ],
     "prompt_number": 20
    },
    {
     "cell_type": "code",
     "collapsed": false,
     "input": [],
     "language": "python",
     "metadata": {},
     "outputs": [],
     "prompt_number": 20
    },
    {
     "cell_type": "code",
     "collapsed": false,
     "input": [
      "\n",
      "a = imv1.getRoiPlot()\n",
      "b = a.getPlotItem()\n",
      "\n",
      "\n",
      "def mouseMoved(evt):\n",
      "    pos = evt[0]  ## using signal proxy turns original arguments into a tuple)\n",
      "    text.setText(str(pos))\n",
      "    update\n"
     ],
     "language": "python",
     "metadata": {},
     "outputs": [],
     "prompt_number": 21
    },
    {
     "cell_type": "code",
     "collapsed": false,
     "input": [
      "test1 = imv1.getRoiPlot().scene()\n",
      "proxy = pg.SignalProxy(test1.sigMouseMoved, \n",
      "                       rateLimit=60,\n",
      "                       slot=mouseMoved)\n",
      "\n"
     ],
     "language": "python",
     "metadata": {},
     "outputs": [],
     "prompt_number": 22
    },
    {
     "cell_type": "code",
     "collapsed": false,
     "input": [],
     "language": "python",
     "metadata": {},
     "outputs": [],
     "prompt_number": 91
    },
    {
     "cell_type": "code",
     "collapsed": false,
     "input": [
      "import pyqtgraph as pg\n",
      "import numpy as np\n",
      "pg.mkQApp()\n",
      "w = pg.GraphicsLayoutWidget()\n",
      "w.show()\n",
      "vb = w.addViewBox()\n",
      "img = pg.ImageItem(np.random.normal(size=(100,100)))\n",
      "vb.addItem(img)\n",
      "\n",
      "text = pg.TextItem('test')\n",
      "vb.addItem(text)\n",
      "   \n",
      "# def mouseMoved(pos):\n",
      "#     return \"Image position:\", img.mapFromScene(pos)\n",
      "#     values = img.mapFromScene(pos)\n",
      "#     print pos\n",
      "#     text.setText(str(values))\n",
      "\n",
      "vLine = pg.InfiniteLine(angle=90, movable=False)\n",
      "hLine = pg.InfiniteLine(angle=0, movable=False)\n",
      "vb.addItem(vLine, ignoreBounds=True)\n",
      "vb.addItem(hLine, ignoreBounds=True)\n"
     ],
     "language": "python",
     "metadata": {},
     "outputs": [],
     "prompt_number": 22
    },
    {
     "cell_type": "code",
     "collapsed": false,
     "input": [],
     "language": "python",
     "metadata": {},
     "outputs": [],
     "prompt_number": 165
    },
    {
     "cell_type": "code",
     "collapsed": false,
     "input": [],
     "language": "python",
     "metadata": {},
     "outputs": []
    },
    {
     "cell_type": "code",
     "collapsed": false,
     "input": [],
     "language": "python",
     "metadata": {},
     "outputs": []
    },
    {
     "cell_type": "code",
     "collapsed": false,
     "input": [],
     "language": "python",
     "metadata": {},
     "outputs": []
    },
    {
     "cell_type": "code",
     "collapsed": false,
     "input": [],
     "language": "python",
     "metadata": {},
     "outputs": []
    },
    {
     "cell_type": "code",
     "collapsed": false,
     "input": [],
     "language": "python",
     "metadata": {},
     "outputs": []
    },
    {
     "cell_type": "code",
     "collapsed": false,
     "input": [],
     "language": "python",
     "metadata": {},
     "outputs": []
    },
    {
     "cell_type": "code",
     "collapsed": false,
     "input": [],
     "language": "python",
     "metadata": {},
     "outputs": []
    },
    {
     "cell_type": "code",
     "collapsed": false,
     "input": [],
     "language": "python",
     "metadata": {},
     "outputs": []
    },
    {
     "cell_type": "code",
     "collapsed": false,
     "input": [],
     "language": "python",
     "metadata": {},
     "outputs": []
    },
    {
     "cell_type": "code",
     "collapsed": false,
     "input": [],
     "language": "python",
     "metadata": {},
     "outputs": []
    },
    {
     "cell_type": "code",
     "collapsed": false,
     "input": [],
     "language": "python",
     "metadata": {},
     "outputs": []
    },
    {
     "cell_type": "code",
     "collapsed": false,
     "input": [],
     "language": "python",
     "metadata": {},
     "outputs": []
    },
    {
     "cell_type": "code",
     "collapsed": false,
     "input": [
      "a"
     ],
     "language": "python",
     "metadata": {},
     "outputs": []
    },
    {
     "cell_type": "markdown",
     "metadata": {},
     "source": [
      "w = pg.GraphicsLayoutWidget()\n",
      "\n",
      "p1 = w.addViewBox()\n",
      "p1.autoRangeEnabled()\n",
      "img = pg.ImageItem(border='w')\n",
      "p1.addItem(img)\n",
      "\n",
      "\n",
      "img.setImage(rot90(flipud(log(image)),3))\n",
      "\n",
      "\n",
      "p2 = w.addPlot(row=1, col=0)\n",
      "p2.hideAxis('left')\n",
      "p2.setXRange(data_df.Time.min(),data_df.Time.max())\n",
      "p2.vb.setMouseEnabled(False, False)\n",
      "w.ci.layout.setRowFixedHeight(1, 50)\n",
      "w.show()\n",
      "\n",
      "lr = pg.LinearRegionItem([0, 100],bounds=[0,max(data_df.Time)])\n",
      "p2.addItem(lr, ignoreBounds=True)\n",
      "\n",
      "\n",
      "\n",
      "\n",
      "def update():\n",
      "    global data_array, curve, times, lr\n",
      "    start, stop = lr.getRegion()\n",
      "    try:\n",
      "        image= data_array[int(lr.getRegion()[1])]\n",
      "        img.setImage(image)\n",
      "\n",
      "    except exception:\n",
      "        print 'yo'\n",
      "        \n",
      "lr.sigRegionChanged.connect(update)\n",
      "\n",
      "update()\n"
     ]
    },
    {
     "cell_type": "code",
     "collapsed": false,
     "input": [
      "import pyqtgraph as pg\n",
      "from pyqtgraph.Qt import QtGui, QtCore\n",
      "pg.mkQApp()\n",
      " \n",
      "## Create window with two ImageView widgets\n",
      "win = QtGui.QMainWindow()\n",
      "win.resize(800,800)\n",
      "win.setWindowTitle('pyqtgraph example: DataSlicing')\n",
      "cw = QtGui.QWidget()\n",
      "win.setCentralWidget(cw)\n",
      "l = QtGui.QGridLayout()\n",
      "l.setRowStretch(0, 10)\n",
      "l.setRowStretch(1, 2)\n",
      "l.setRowStretch(2, 2)\n",
      "cw.setLayout(l)\n",
      " \n",
      "dummy_plot=  pg.PlotItem(title='Pilatus image')\n",
      " \n",
      "dummy_plot.enableAutoRange()\n",
      " \n",
      "imv1 = pg.ImageView(view=dummy_plot )\n",
      " \n",
      " \n",
      "# imv1 = pg.ImageView()\n",
      "pw = pg.PlotWidget()\n",
      "pw2 = pg.PlotWidget()\n",
      "pw3 = pg.PlotWidget()\n",
      " \n",
      "# imv2 = pg.ImageView()\n",
      "l.addWidget(imv1, 0, 0)\n",
      "l.addWidget(pw, 1, 0)\n",
      "l.addWidget(pw2, 2, 0)\n",
      " \n",
      "win.show()\n",
      " \n",
      "roi = pg.LineSegmentROI([[10, 64], [120,64]], pen='r')\n",
      "imv1.addItem(roi)\n",
      " \n",
      "data = pg.np.random.normal(size=(100,100,100))\n",
      "data = data_array\n",
      "#time = pg.np.linspace(0, 10, 100)\n",
      " \n",
      "def update():\n",
      "    global data, imv1, pw, roi\n",
      "    pw.clear()\n",
      "    pw2.clear()\n",
      "    d2 = roi.getArrayRegion(data, imv1.imageItem, axes=(0,1))\n",
      "    pw.plot(d2[imv1.currentIndex], pen=roi.pen)\n",
      "    pw2.plot(d2[1], pen=[5,8])\n",
      " \n",
      "roi.sigRegionChanged.connect(update)\n",
      "imv1.sigTimeChanged.connect(update)\n",
      " \n",
      "imv1.setImage(data, xvals=data_df.Time)#, axes=  {'t':2, 'x':0, 'y':1, 'c':3},transform=)\n",
      " \n",
      "update()"
     ],
     "language": "python",
     "metadata": {},
     "outputs": [],
     "prompt_number": 26
    },
    {
     "cell_type": "code",
     "collapsed": false,
     "input": [],
     "language": "python",
     "metadata": {},
     "outputs": []
    }
   ],
   "metadata": {}
  }
 ]
}