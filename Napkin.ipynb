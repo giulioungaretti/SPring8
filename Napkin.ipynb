{
 "metadata": {
  "name": "",
  "signature": "sha256:b9e5f8a4fcfe6ab054990b4e227d27822dc24a4ff4e6773acd7ba4621439ddcf"
 },
 "nbformat": 3,
 "nbformat_minor": 0,
 "worksheets": [
  {
   "cells": [
    {
     "cell_type": "markdown",
     "metadata": {},
     "source": [
      "Import"
     ]
    },
    {
     "cell_type": "code",
     "collapsed": false,
     "input": [
      "### magics\n",
      "%pylab  "
     ],
     "language": "python",
     "metadata": {},
     "outputs": [
      {
       "output_type": "stream",
       "stream": "stdout",
       "text": [
        "Using matplotlib backend: Qt4Agg\n",
        "Populating the interactive namespace from numpy and matplotlib\n"
       ]
      }
     ],
     "prompt_number": 1
    },
    {
     "cell_type": "code",
     "collapsed": false,
     "input": [
      "%reload_ext autoreload\n",
      "%autoreload  2\n",
      "\n",
      "from Functions import *\n",
      "\n",
      "from collections import deque\n",
      "css_styling()\n",
      "import time as ostime\n",
      "import cv2 as cv2\n",
      "import scipy\n",
      "\n",
      "from pyqtgraph.Qt import QtGui, QtCore \n",
      "import pyqtgraph as pg\n",
      "\n",
      "import cPickle as pickle\n",
      "pg.setConfigOptions(antialias=True)\n",
      "\n",
      "import agpy as agf"
     ],
     "language": "python",
     "metadata": {},
     "outputs": [
      {
       "output_type": "stream",
       "stream": "stdout",
       "text": [
        "Can't use kdist without the 'coords' package\n",
        "reg_gal2cel requires coords & pyregion\n",
        "posang requires coords\n",
        "Region Photometry requires pyregion\n",
        "Cannot import montage."
       ]
      },
      {
       "output_type": "stream",
       "stream": "stdout",
       "text": [
        "\n",
        "cubes.py requires coords for aper_world2pix and coords_in_image\n",
        "cubes.py requires pyregion for getspec_reg\n",
        "cubes.py requires pywcs for some subimage_integ,aper_wordl2pix,getspec, and coords_in_image\n"
       ]
      }
     ],
     "prompt_number": 2
    },
    {
     "cell_type": "markdown",
     "metadata": {},
     "source": [
      "Matplotlib tweak"
     ]
    },
    {
     "cell_type": "code",
     "collapsed": false,
     "input": [
      "matplotlib.rcParams.update({'font.size': 20})\n",
      "matplotlib.rcParams.update({'figure.figsize': (10.0, 8.0)})"
     ],
     "language": "python",
     "metadata": {},
     "outputs": [],
     "prompt_number": 3
    },
    {
     "cell_type": "markdown",
     "metadata": {},
     "source": [
      "Paralle set up"
     ]
    },
    {
     "cell_type": "code",
     "collapsed": false,
     "input": [
      "from IPython.parallel import Client\n",
      "css_styling()\n",
      "rc = Client()\n",
      "dview = rc[:]\n",
      "%px clear"
     ],
     "language": "python",
     "metadata": {},
     "outputs": [
      {
       "output_type": "stream",
       "stream": "stdout",
       "text": [
        "[stdout:0] \u001b[H\u001b[2J\n",
        "[stdout:1] \u001b[H\u001b[2J\n",
        "[stdout:2] \u001b[H\u001b[2J\n",
        "[stdout:3] \u001b[H\u001b[2J\n"
       ]
      }
     ],
     "prompt_number": 4
    },
    {
     "cell_type": "markdown",
     "metadata": {},
     "source": [
      "Importing on engines"
     ]
    },
    {
     "cell_type": "code",
     "collapsed": false,
     "input": [
      "with dview.sync_imports():\n",
      "    import time as tm\n",
      "    import numpy as np\n",
      "    import matplotlib.pyplot as plt \n",
      "    import pandas as pd\n",
      "    from scipy.ndimage import measurements as meas\n",
      "    from scipy.ndimage import center_of_mass\n",
      "    from scipy.ndimage import median_filter\n",
      "    from scipy.signal import medfilt\n",
      "    import os\n",
      "    from scipy.optimize import curve_fit\n",
      "    from matplotlib.patches import Ellipse\n",
      "    import Image\n",
      "    %px %load_ext autoreload\n",
      "    %px %autoreload 2 \n",
      "    from Functions import  SPring8_image, gauss_function, parse_headers, Version, pandify_header"
     ],
     "language": "python",
     "metadata": {},
     "outputs": [
      {
       "output_type": "stream",
       "stream": "stdout",
       "text": [
        "importing time on engine(s)\n",
        "importing numpy on engine(s)\n",
        "importing matplotlib.pyplot on engine(s)\n",
        "importing pandas on engine(s)\n",
        "importing measurements from scipy.ndimage on engine(s)\n",
        "importing center_of_mass from scipy.ndimage on engine(s)\n",
        "importing median_filter from scipy.ndimage on engine(s)\n",
        "importing medfilt from scipy.signal on engine(s)\n",
        "importing os on engine(s)\n",
        "importing curve_fit from scipy.optimize on engine(s)\n",
        "importing Ellipse from matplotlib.patches on engine(s)\n",
        "importing Image on engine(s)\n",
        "importing Again from zmq.error on engine(s)\n",
        "importing strerror,zmq_errno from zmq.backend on engine(s)\n",
        "[stdout:0] \n",
        "The autoreload extension is already loaded. To reload it, use:\n",
        "  %reload_ext autoreload\n"
       ]
      },
      {
       "output_type": "stream",
       "stream": "stdout",
       "text": [
        "[stdout:1] \n",
        "The autoreload extension is already loaded. To reload it, use:\n",
        "  %reload_ext autoreload\n",
        "[stdout:2] \n",
        "The autoreload extension is already loaded. To reload it, use:\n",
        "  %reload_ext autoreload\n",
        "[stdout:3] \n",
        "The autoreload extension is already loaded. To reload it, use:\n",
        "  %reload_ext autoreload\n",
        "importing SPring8_image,gauss_function,parse_headers,Version,pandify_header from Functions on engine(s)\n"
       ]
      }
     ],
     "prompt_number": 5
    },
    {
     "cell_type": "code",
     "collapsed": false,
     "input": [
      "dirs"
     ],
     "language": "python",
     "metadata": {},
     "outputs": [
      {
       "metadata": {},
       "output_type": "pyout",
       "prompt_number": 6,
       "text": [
        "[]"
       ]
      }
     ],
     "prompt_number": 6
    },
    {
     "cell_type": "code",
     "collapsed": false,
     "input": [
      "from __future__ import print_function"
     ],
     "language": "python",
     "metadata": {},
     "outputs": [],
     "prompt_number": 7
    },
    {
     "cell_type": "code",
     "collapsed": false,
     "input": [
      "dirs = !ls -d ./InAs0799tim*shutter*.p\n",
      "for i in dirs:\n",
      "    in_dump = pickle.load(open(i,'rb'))\n",
      "    out_file = open(i[2:-2]+'.csv', 'wb')\n",
      "    for item in in_dump:\n",
      "        print(item,file=out_file)\n",
      "\n"
     ],
     "language": "python",
     "metadata": {},
     "outputs": [],
     "prompt_number": 8
    },
    {
     "cell_type": "code",
     "collapsed": false,
     "input": [
      "for name in dirs:\n",
      "    name = name.split('/')[-1]\n",
      "    try:\n",
      "        print 'working'\n",
      "        files = !ls ./pilatus/InAs0799/$name/*.tif\n",
      "        puhsed_files = dview.push(dict(files=files))\n",
      "        pushed_functions = dview.push(dict(SPring8_image = SPring8_image,\n",
      "                                            gauss_function=gauss_function,\n",
      "                                            parse_headers = parse_headers))\n",
      "        spec_df = load_spec_log(name)\n",
      "        time = spec_df.Time.values\n",
      "        samples = list( flatten( dview.map_sync(lambda x: parse_headers(x,2),files)))\n",
      "        data_df = pandify_header(samples)\n",
      "        data_df['Time'] = spec_df.Time.values\n",
      "        data_df.to_csv(name+\"test\"+'.csv')\n",
      "    except:\n",
      "        print name"
     ],
     "language": "python",
     "metadata": {},
     "outputs": [
      {
       "ename": "SyntaxError",
       "evalue": "invalid syntax (<ipython-input-9-a11deedbbe67>, line 4)",
       "output_type": "pyerr",
       "traceback": [
        "\u001b[1;36m  File \u001b[1;32m\"<ipython-input-9-a11deedbbe67>\"\u001b[1;36m, line \u001b[1;32m4\u001b[0m\n\u001b[1;33m    print 'working'\u001b[0m\n\u001b[1;37m                  ^\u001b[0m\n\u001b[1;31mSyntaxError\u001b[0m\u001b[1;31m:\u001b[0m invalid syntax\n"
       ]
      }
     ],
     "prompt_number": 9
    },
    {
     "cell_type": "markdown",
     "metadata": {},
     "source": [
      "dirs = !ls -d ./pilatus/InAs0799/InAs0799time*\n",
      "for name in dirs:\n",
      "    name = name.split('/')[-1]\n",
      "    try:\n",
      "        print 'working'\n",
      "        files = !ls ./pilatus/InAs0799/$name/*.tif\n",
      "        puhsed_files = dview.push(dict(files=files))\n",
      "        pushed_functions = dview.push(dict(SPring8_image = SPring8_image,\n",
      "                                            gauss_function=gauss_function,\n",
      "                                            parse_headers = parse_headers))\n",
      "        spec_df = load_spec_log(name)\n",
      "        time = spec_df.Time.values\n",
      "        samples = list( flatten( dview.map_sync(lambda x: parse_headers(x,2),files)))\n",
      "        data_df = pandify_header(samples)\n",
      "        data_df['Time'] = spec_df.Time.values\n",
      "        data_df.to_csv(name+\"test\"+'.csv')\n",
      "    except:\n",
      "        print name"
     ]
    },
    {
     "cell_type": "heading",
     "level": 2,
     "metadata": {},
     "source": [
      "Create directory map"
     ]
    },
    {
     "cell_type": "code",
     "collapsed": false,
     "input": [
      "name = 'InAs0799time3'\n",
      "files = !ls ./pilatus/InAs0799/$name/*.tif\n",
      "puhsed_files = dview.push(dict(files=files))\n",
      "pushed_functions = dview.push(dict(SPring8_image = SPring8_image,\n",
      "                                    gauss_function=gauss_function,\n",
      "                                    parse_headers = parse_headers))\n"
     ],
     "language": "python",
     "metadata": {},
     "outputs": [],
     "prompt_number": 10
    },
    {
     "cell_type": "markdown",
     "metadata": {},
     "source": [
      "load hkl"
     ]
    },
    {
     "cell_type": "code",
     "collapsed": false,
     "input": [
      "name_hkl = 'InAs0799'\n",
      "H = loadtxt('./'+name_hkl+'/H.dat')\n",
      "L = loadtxt('./'+name_hkl+'/L.dat')\n",
      "K = loadtxt('./'+name_hkl+'/K.dat')"
     ],
     "language": "python",
     "metadata": {},
     "outputs": [],
     "prompt_number": 11
    },
    {
     "cell_type": "markdown",
     "metadata": {},
     "source": [
      "load times"
     ]
    },
    {
     "cell_type": "code",
     "collapsed": false,
     "input": [
      "spec_df = load_spec_log(name)\n",
      "time = spec_df.Time.values"
     ],
     "language": "python",
     "metadata": {},
     "outputs": [],
     "prompt_number": 12
    },
    {
     "cell_type": "heading",
     "level": 2,
     "metadata": {},
     "source": [
      "load headers"
     ]
    },
    {
     "cell_type": "code",
     "collapsed": false,
     "input": [
      "samples = list( flatten( dview.map_sync(lambda x: parse_headers(x,2),files)))"
     ],
     "language": "python",
     "metadata": {},
     "outputs": [],
     "prompt_number": 13
    },
    {
     "cell_type": "code",
     "collapsed": false,
     "input": [
      "data_df = pandify_header(samples)\n",
      "data_df['Time'] = spec_df.Time.values"
     ],
     "language": "python",
     "metadata": {},
     "outputs": [],
     "prompt_number": 14
    },
    {
     "cell_type": "code",
     "collapsed": false,
     "input": [
      "data_df.head()"
     ],
     "language": "python",
     "metadata": {},
     "outputs": [
      {
       "html": [
        "<div style=\"max-height:1000px;max-width:1500px;overflow:auto;\">\n",
        "<table border=\"1\" class=\"dataframe\">\n",
        "  <thead>\n",
        "    <tr style=\"text-align: right;\">\n",
        "      <th></th>\n",
        "      <th>NIG</th>\n",
        "      <th>name</th>\n",
        "      <th>Monitor</th>\n",
        "      <th>Timestamp</th>\n",
        "      <th>Time</th>\n",
        "    </tr>\n",
        "  </thead>\n",
        "  <tbody>\n",
        "    <tr>\n",
        "      <th>5 </th>\n",
        "      <td> 0.000390</td>\n",
        "      <td> ./pilatus/InAs0799/InAs0799time3/InAs0799time3...</td>\n",
        "      <td> 12360</td>\n",
        "      <td> NaN</td>\n",
        "      <td> 0.003226</td>\n",
        "    </tr>\n",
        "    <tr>\n",
        "      <th>6 </th>\n",
        "      <td> 0.000392</td>\n",
        "      <td> ./pilatus/InAs0799/InAs0799time3/InAs0799time3...</td>\n",
        "      <td> 12707</td>\n",
        "      <td> NaN</td>\n",
        "      <td> 0.999416</td>\n",
        "    </tr>\n",
        "    <tr>\n",
        "      <th>11</th>\n",
        "      <td> 0.000392</td>\n",
        "      <td> ./pilatus/InAs0799/InAs0799time3/InAs0799time3...</td>\n",
        "      <td> 12273</td>\n",
        "      <td> NaN</td>\n",
        "      <td> 6.218830</td>\n",
        "    </tr>\n",
        "    <tr>\n",
        "      <th>12</th>\n",
        "      <td> 0.000392</td>\n",
        "      <td> ./pilatus/InAs0799/InAs0799time3/InAs0799time3...</td>\n",
        "      <td> 12741</td>\n",
        "      <td> NaN</td>\n",
        "      <td> 7.126620</td>\n",
        "    </tr>\n",
        "    <tr>\n",
        "      <th>13</th>\n",
        "      <td> 0.000392</td>\n",
        "      <td> ./pilatus/InAs0799/InAs0799time3/InAs0799time3...</td>\n",
        "      <td> 13010</td>\n",
        "      <td> NaN</td>\n",
        "      <td> 8.078640</td>\n",
        "    </tr>\n",
        "  </tbody>\n",
        "</table>\n",
        "</div>"
       ],
       "metadata": {},
       "output_type": "pyout",
       "prompt_number": 15,
       "text": [
        "         NIG                                               name  Monitor  \\\n",
        "5   0.000390  ./pilatus/InAs0799/InAs0799time3/InAs0799time3...    12360   \n",
        "6   0.000392  ./pilatus/InAs0799/InAs0799time3/InAs0799time3...    12707   \n",
        "11  0.000392  ./pilatus/InAs0799/InAs0799time3/InAs0799time3...    12273   \n",
        "12  0.000392  ./pilatus/InAs0799/InAs0799time3/InAs0799time3...    12741   \n",
        "13  0.000392  ./pilatus/InAs0799/InAs0799time3/InAs0799time3...    13010   \n",
        "\n",
        "   Timestamp      Time  \n",
        "5        NaN  0.003226  \n",
        "6        NaN  0.999416  \n",
        "11       NaN  6.218830  \n",
        "12       NaN  7.126620  \n",
        "13       NaN  8.078640  "
       ]
      }
     ],
     "prompt_number": 15
    },
    {
     "cell_type": "heading",
     "level": 2,
     "metadata": {},
     "source": [
      "Load shutter dump"
     ]
    },
    {
     "cell_type": "code",
     "collapsed": false,
     "input": [
      "filename = str(name) + 'shutter' + \".p\"\n",
      "on_off = pickle.load( open(filename, \"rb\"))"
     ],
     "language": "python",
     "metadata": {},
     "outputs": [],
     "prompt_number": 16
    },
    {
     "cell_type": "markdown",
     "metadata": {},
     "source": [
      "load all the images in a list ordered by time"
     ]
    },
    {
     "cell_type": "code",
     "collapsed": false,
     "input": [
      "data_list= []\n",
      "for i, t , index, monitor in zip(data_df.name,data_df.Time,range(0,len(data_df.Time)), data_df.Monitor):\n",
      "    image = SPring8_image(i)\n",
      "    image.read_detector(2)\n",
      "    image = (image.img)\n",
      "    image = image[70:125,90:370]\n",
      "    image = image / monitor\n",
      "    data_list.append(rot90(flipud((image)),3))  # messy to make the image look correct!\n",
      "data_array = array(data_list)"
     ],
     "language": "python",
     "metadata": {},
     "outputs": [],
     "prompt_number": 17
    },
    {
     "cell_type": "markdown",
     "metadata": {},
     "source": [
      "If needed dump them to disk.."
     ]
    },
    {
     "cell_type": "code",
     "collapsed": false,
     "input": [
      "# pickle.dump(data_array, open(str(name) + 'image_slice' + \".p\", \"wb\"))"
     ],
     "language": "python",
     "metadata": {},
     "outputs": [],
     "prompt_number": 18
    },
    {
     "cell_type": "heading",
     "level": 2,
     "metadata": {},
     "source": [
      "PQ plot"
     ]
    },
    {
     "cell_type": "code",
     "collapsed": false,
     "input": [
      "app = pg.mkQApp()\n",
      "\n",
      "# Create window with two ImageView widgets\n",
      "win = QtGui.QMainWindow()\n",
      "win.resize(800, 1000)\n",
      "win.setWindowTitle('DataSlicing')\n",
      "cw = QtGui.QWidget()\n",
      "win.setCentralWidget(cw)\n",
      "\n",
      "# layout\n",
      "l = QtGui.QGridLayout()\n",
      "l.setRowStretch(0, 5)\n",
      "l.setRowStretch(1, 1)\n",
      "l.setRowStretch(2, 3)\n",
      "l.setRowStretch(3, 3)\n",
      "l.setRowStretch(4, 3)\n",
      "l.setRowStretch(5, 3)\n",
      "l.setRowStretch(6, 3)\n",
      "\n",
      "cw.setLayout(l)\n",
      "\n",
      "\n",
      "# main image display\n",
      "dummy_plot = pg.PlotItem(title='Pilatus image')\n",
      "dummy_plot.enableAutoRange()\n",
      "imv1 = pg.ImageView(view=dummy_plot)\n",
      "\n",
      "# create number of rois:\n",
      "rois = [pg.PolyLineROI([[0, 0], [0, 50], [50, 50], [50, 0]], closed=True, pen='y'),\n",
      "        pg.PolyLineROI([[50, 0], [50, 50], [100, 50], [100, 0]], closed=True, pen='r'),\n",
      "        pg.PolyLineROI([[105, 0], [105, 50], [150, 50], [150, 0]], closed=True, pen='g'),\n",
      "        pg.PolyLineROI([[160, 0], [160, 50], [200, 50], [200, 0]], closed=True, pen=(255,0,123)),\n",
      "        pg.PolyLineROI([[250, 0], [250, 50], [270, 50], [270, 0]], closed=True, pen=(255,200,123))\n",
      "        ]  # [x,y]\n",
      "\n",
      "# get rois\n",
      "roi1, roi2, roi3, roi4, roi5  = rois\n",
      "\n",
      "#create number of plots\n",
      "dummy_plots =[pg.PlotItem(title='roi image 1'),\n",
      "                pg.PlotItem(title='roi image 2'),\n",
      "                pg.PlotItem(title='roi image 3'),\n",
      "                pg.PlotItem(title='roi image 4'),\n",
      "                pg.PlotItem(title='roi image 5'), ]\n",
      "# enable auto scale \n",
      "[dummy_plot_i.enableAutoRange() for dummy_plot_i in dummy_plots]\n",
      "# create the images using dummy as view\n",
      "images = [pg.ImageView(view=i) for i in dummy_plots]\n",
      "# unpack images widgets\n",
      "imv2,  imv3,  imv4, imv5, imv6  = images\n",
      "\n",
      "#add rois to main image\n",
      "[imv1.addItem(roi) for roi in rois]\n",
      "\n",
      "#  roi image display plots\n",
      "plots = [pg.PlotWidget() for i in rois]\n",
      "[plot.enableAutoRange() for plot in plots]\n",
      "# unpack  plot widgets\n",
      "pw, pw2, pw3, pw4, pw5 = plots\n",
      "\n",
      "# customize plots\n",
      "for i in plots:\n",
      "    i.setLabel('left', \"Intensity\", units='a.u.')\n",
      "    i.setLabel('bottom', \"Time\", units='s')\n",
      "    i.setLogMode(x=False, y=False)\n",
      "\n",
      "\n",
      "## add widgets\n",
      "# fromRow, int fromColumn, int rowSpan, int columnSpan\n",
      "l.addWidget(imv1, 0, 0, 1, 5)\n",
      "\n",
      "for image,i in zip(images,range(5)):\n",
      "\n",
      "    l.addWidget(image, 1, i, 1, 1)\n",
      "\n",
      "l.addWidget(pw, 2, 0, 1, 5)\n",
      "l.addWidget(pw2, 3, 0, 1, 5)\n",
      "l.addWidget(pw3, 4, 0, 1, 5)\n",
      "l.addWidget(pw4, 5, 0, 1, 5)\n",
      "l.addWidget(pw5, 6, 0, 1, 5)\n",
      "\n",
      "\n",
      "# add text to see the timestamp!\n",
      "\n",
      "text = pg.TextItem('Time: ' + str(data_df.Time[imv1.currentIndex]))\n",
      "dummy_plot.addItem(text)\n",
      "text.setPos(260, 10)\n",
      "\n",
      "# define update function per each roi\n",
      "def update_1():\n",
      "    global data_array, imv1, pw, roi\n",
      "    d4 = roi1.getArrayRegion(\n",
      "        data_array[imv1.currentIndex], imv1.imageItem, axes=(0, 1))\n",
      "    imv2.setImage(d4)\n",
      "    return\n",
      "\n",
      "def update_2():\n",
      "    global data_array, imv1, pw, roi\n",
      "    d4 = roi2.getArrayRegion(\n",
      "        data_array[imv1.currentIndex], imv1.imageItem, axes=(0, 1))\n",
      "    imv3.setImage(d4)\n",
      "    return\n",
      "\n",
      "def update_3():\n",
      "    global data_array, imv1, pw, roi\n",
      "    d4 = roi3.getArrayRegion(\n",
      "        data_array[imv1.currentIndex], imv1.imageItem, axes=(0, 1))\n",
      "    imv4.setImage(d4)\n",
      "    return\n",
      "\n",
      "\n",
      "def update_4():\n",
      "    global data_array, imv1, pw, roi\n",
      "    d4 = roi4.getArrayRegion(\n",
      "        data_array[imv1.currentIndex], imv1.imageItem, axes=(0, 1))\n",
      "    imv5.setImage(d4)\n",
      "    return\n",
      "\n",
      "\n",
      "def update_5():\n",
      "    global data_array, imv1, pw, roi\n",
      "    d4 = roi5.getArrayRegion(\n",
      "        data_array[imv1.currentIndex], imv1.imageItem, axes=(0, 1))\n",
      "    imv6.setImage(d4)\n",
      "    return\n",
      "\n",
      "update_image = [update_1,update_2,update_3,update_4,update_5]\n",
      "\n",
      "def update_sum_plot_0():\n",
      "    global data_array, imv1, plots, roi1 ,plot1, on_off\n",
      "    datas = deque()\n",
      "    for i in range(0, len(data_array)):\n",
      "        datas.append(sum(roi1.getArrayRegion(data_array[i],\n",
      "                                             imv1.imageItem, axes=(0,1))))\n",
      "    datas = pd.rolling_mean(pd.Series(datas), 3)\n",
      "    plot1.plot(data_df.Time, datas, clear=True, pen=None, symbol='o',\n",
      "             symbolPen=None, symbolSize=3, symbolBrush=roi1.pen.color())\n",
      "    for on, off in zip(on_off[:-1:2], on_off[1::2]):\n",
      "        region = pg.LinearRegionItem(values=[on,off], movable=False)\n",
      "        plot1.addItem(region, ignoreBounds=True) \n",
      "\n",
      "def update_sum_plot_1():\n",
      "    global data_array, imv1, plots, roi2 ,plot2, on_off\n",
      "    datas = deque()\n",
      "    for i in range(0, len(data_array)):\n",
      "        datas.append(sum(roi2.getArrayRegion(data_array[i],\n",
      "                                             imv1.imageItem, axes=(0,1))))\n",
      "    datas = pd.rolling_mean(pd.Series(datas), 3)\n",
      "    plot2.plot(data_df.Time, datas, clear=True, pen=None, symbol='o',\n",
      "             symbolPen=None, symbolSize=3, symbolBrush=roi2.pen.color())\n",
      "    for on, off in zip(on_off[:-1:2], on_off[1::2]):\n",
      "        region = pg.LinearRegionItem(values=[on,off], movable=False)\n",
      "        plot2.addItem(region, ignoreBounds=True) \n",
      "\n",
      "def update_sum_plot_2():\n",
      "    global data_array, imv1, plots, roi3 ,plot3, on_off\n",
      "    datas = deque()\n",
      "    for i in range(0, len(data_array)):\n",
      "        datas.append(sum(roi3.getArrayRegion(data_array[i],\n",
      "                                             imv1.imageItem, axes=(0,1))))\n",
      "    datas = pd.rolling_mean(pd.Series(datas), 3)\n",
      "    plot3.plot(data_df.Time, datas, clear=True, pen=None, symbol='o',\n",
      "             symbolPen=None, symbolSize=3, symbolBrush=roi3.pen.color())\n",
      "    for on, off in zip(on_off[:-1:2], on_off[1::2]):\n",
      "        region = pg.LinearRegionItem(values=[on,off], movable=False)\n",
      "        plot3.addItem(region, ignoreBounds=True)     \n",
      "    \n",
      "def update_sum_plot_3():\n",
      "    global data_array, imv1, plots, roi4 ,plot4, on_off\n",
      "    datas = deque()\n",
      "    for i in range(0, len(data_array)):\n",
      "        datas.append(sum(roi4.getArrayRegion(data_array[i],\n",
      "                                             imv1.imageItem, axes=(0,1))))\n",
      "    datas = pd.rolling_mean(pd.Series(datas), 3)\n",
      "    plot4.plot(data_df.Time, datas, clear=True, pen=None, symbol='o',\n",
      "             symbolPen=None, symbolSize=3, symbolBrush=roi4.pen.color())\n",
      "    for on, off in zip(on_off[:-1:2], on_off[1::2]):\n",
      "        region = pg.LinearRegionItem(values=[on,off], movable=False)\n",
      "        plot4.addItem(region, ignoreBounds=True) \n",
      "\n",
      "    \n",
      "def update_sum_plot_4():\n",
      "    global data_array, imv1, plots, roi5 ,plot5, on_off\n",
      "    datas = deque()\n",
      "    for on, off in zip(on_off[:-1:2], on_off[1::2]):\n",
      "        region = pg.LinearRegionItem(values=[on,off], movable=False)\n",
      "        plot.addItem(region, ignoreBounds=True) \n",
      "    for i in range(0, len(data_array)):\n",
      "        datas.append(sum(roi5.getArrayRegion(data_array[i],\n",
      "                                             imv1.imageItem, axes=(0,1))))\n",
      "    datas = pd.rolling_mean(pd.Series(datas), 3)\n",
      "    plot5.plot(data_df.Time, datas, clear=True, pen=None, symbol='o',\n",
      "             symbolPen=None, symbolSize=3, symbolBrush=roi5.pen.color())\n",
      "    for on, off in zip(on_off[:-1:2], on_off[1::2]):\n",
      "        region = pg.LinearRegionItem(values=[on,off], movable=False)\n",
      "        plot5.addItem(region, ignoreBounds=True) \n",
      "\n",
      "update_plots = [update_sum_plot_0, update_sum_plot_1,update_sum_plot_2,update_sum_plot_3,update_sum_plot_4]\n",
      "    \n",
      "    \n",
      "def update_index_text():\n",
      "    global data_array, imv1, text\n",
      "    textstr = 'Time: ' + str(data_df.Time[imv1.currentIndex])\n",
      "    text.setText(textstr)\n",
      "    return textstr\n",
      "\n",
      "## add vline for on _off list \n",
      "\n",
      "def plot_on_off():\n",
      "    global on_off, plots\n",
      "    for plot in plots:\n",
      "        for on, off in zip(on_off[:-1:2], on_off[1::2]):\n",
      "            region = pg.LinearRegionItem(values=[on,off], movable=False)\n",
      "            plot.addItem(region, ignoreBounds=True) \n",
      "            \n",
      "\n",
      "        \n",
      "\n",
      "## connect  roi shape change\n",
      "plot1, plot2, plot3, plot4, plot5 = plots\n",
      "\n",
      "roi1.sigRegionChangeFinished.connect(update_sum_plot_0)\n",
      "roi2.sigRegionChangeFinished.connect(update_sum_plot_1)\n",
      "roi3.sigRegionChangeFinished.connect(update_sum_plot_2)\n",
      "roi4.sigRegionChangeFinished.connect(update_sum_plot_3)\n",
      "roi5.sigRegionChangeFinished.connect(update_sum_plot_4)\n",
      "\n",
      "\n",
      "# # connect to time changes\n",
      "\n",
      "imv1.sigTimeChanged.connect(update_1)\n",
      "imv1.sigTimeChanged.connect(update_2)\n",
      "imv1.sigTimeChanged.connect(update_3)\n",
      "imv1.sigTimeChanged.connect(update_4)\n",
      "imv1.sigTimeChanged.connect(update_5)\n",
      "\n",
      "\n",
      "imv1.setImage(log(data_array), xvals=data_df.Time)\n",
      "\n",
      "\n",
      "for p in plots:\n",
      "     p.setXLink(plots[0])  ## test linking by name\n",
      "\n",
      "\n",
      "    \n",
      "    \n",
      "update_index_text()\n",
      "\n",
      "for i in update_plots:\n",
      "    i()\n",
      "    \n",
      "\n",
      "# # app.exec_()\n",
      "\n",
      "\n",
      "\n",
      "win.show()"
     ],
     "language": "python",
     "metadata": {},
     "outputs": [],
     "prompt_number": 34
    },
    {
     "cell_type": "code",
     "collapsed": false,
     "input": [],
     "language": "python",
     "metadata": {},
     "outputs": []
    },
    {
     "cell_type": "code",
     "collapsed": false,
     "input": [
      "gdsagads"
     ],
     "language": "python",
     "metadata": {},
     "outputs": []
    },
    {
     "cell_type": "code",
     "collapsed": false,
     "input": [
      "name"
     ],
     "language": "python",
     "metadata": {},
     "outputs": [
      {
       "metadata": {},
       "output_type": "pyout",
       "prompt_number": 46,
       "text": [
        "'InAs0799time3'"
       ]
      }
     ],
     "prompt_number": 46
    },
    {
     "cell_type": "code",
     "collapsed": false,
     "input": [
      "roi_f = open(name+'roi_pos_qt'+'.csv','wb')\n",
      "for roi in rois:\n",
      "    for i in roi.getLocalHandlePositions():\n",
      "        roi_f.writelines(str(i)+'\\n')\n",
      "    roi_f.writelines('#newroi#')\n",
      "\n",
      "roi_f.flush()"
     ],
     "language": "python",
     "metadata": {},
     "outputs": [],
     "prompt_number": 54
    },
    {
     "cell_type": "code",
     "collapsed": false,
     "input": [
      "plot_on_off()"
     ],
     "language": "python",
     "metadata": {},
     "outputs": [],
     "prompt_number": 30
    },
    {
     "cell_type": "heading",
     "level": 2,
     "metadata": {},
     "source": [
      "GIT"
     ]
    },
    {
     "cell_type": "code",
     "collapsed": false,
     "input": [
      "!git add 'Napkin.ipynb'\n",
      "!git commit  -m 'working,fast roi dumped to disk'"
     ],
     "language": "python",
     "metadata": {},
     "outputs": []
    },
    {
     "cell_type": "code",
     "collapsed": false,
     "input": [],
     "language": "python",
     "metadata": {},
     "outputs": []
    }
   ],
   "metadata": {}
  }
 ]
}