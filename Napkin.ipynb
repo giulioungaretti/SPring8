{
 "metadata": {
  "name": "",
  "signature": "sha256:d35d82fc31ae4965ebbba2c18d108f67f38604c1c39bd4110c88545da1fb5b52"
 },
 "nbformat": 3,
 "nbformat_minor": 0,
 "worksheets": [
  {
   "cells": [
    {
     "cell_type": "markdown",
     "metadata": {},
     "source": [
      "Import"
     ]
    },
    {
     "cell_type": "code",
     "collapsed": false,
     "input": [
      "### magics\n",
      "%pylab "
     ],
     "language": "python",
     "metadata": {},
     "outputs": [
      {
       "output_type": "stream",
       "stream": "stdout",
       "text": [
        "Using matplotlib backend: Qt4Agg\n",
        "Populating the interactive namespace from numpy and matplotlib\n"
       ]
      }
     ],
     "prompt_number": 1
    },
    {
     "cell_type": "code",
     "collapsed": false,
     "input": [
      "%reload_ext autoreload\n",
      "%autoreload  2\n",
      "\n",
      "from Functions import *\n",
      "\n",
      "import pyqtgraph as pg\n",
      "from collections import deque\n",
      "css_styling()\n",
      "import time as ostime\n",
      "import cv2 as cv2\n",
      "import scipy\n",
      "\n",
      "from pyqtgraph.Qt import QtGui, QtCore\n",
      "import pyqtgraph as pg"
     ],
     "language": "python",
     "metadata": {},
     "outputs": [],
     "prompt_number": 2
    },
    {
     "cell_type": "markdown",
     "metadata": {},
     "source": [
      "Matplotlib tweak"
     ]
    },
    {
     "cell_type": "code",
     "collapsed": false,
     "input": [
      "matplotlib.rcParams.update({'font.size': 20})\n",
      "matplotlib.rcParams.update({'figure.figsize': (10.0, 8.0)})"
     ],
     "language": "python",
     "metadata": {},
     "outputs": [],
     "prompt_number": 3
    },
    {
     "cell_type": "markdown",
     "metadata": {},
     "source": [
      "Paralle set up"
     ]
    },
    {
     "cell_type": "code",
     "collapsed": false,
     "input": [
      "from IPython.parallel import Client\n",
      "css_styling()\n",
      "rc = Client()\n",
      "dview = rc[:]\n",
      "%px clear"
     ],
     "language": "python",
     "metadata": {},
     "outputs": [
      {
       "output_type": "stream",
       "stream": "stdout",
       "text": [
        "[stdout:0] \u001b[H\u001b[2J\n",
        "[stdout:1] \u001b[H\u001b[2J\n",
        "[stdout:2] \u001b[H\u001b[2J\n",
        "[stdout:3] \u001b[H\u001b[2J\n"
       ]
      }
     ],
     "prompt_number": 4
    },
    {
     "cell_type": "markdown",
     "metadata": {},
     "source": [
      "Importing on engines"
     ]
    },
    {
     "cell_type": "code",
     "collapsed": false,
     "input": [
      "with dview.sync_imports():\n",
      "    import time as tm\n",
      "    import numpy as np\n",
      "    import matplotlib.pyplot as plt \n",
      "    import pandas as pd\n",
      "    from scipy.ndimage import measurements as meas\n",
      "    from scipy.ndimage import center_of_mass\n",
      "    from scipy.ndimage import median_filter\n",
      "    from scipy.signal import medfilt\n",
      "    import os\n",
      "    from scipy.optimize import curve_fit\n",
      "    from matplotlib.patches import Ellipse\n",
      "    import Image\n",
      "    %px %load_ext autoreload\n",
      "    %px %autoreload 2 \n",
      "    from Functions import  SPring8_image, gauss_function, parse_headers, Version, pandify_header"
     ],
     "language": "python",
     "metadata": {},
     "outputs": [
      {
       "output_type": "stream",
       "stream": "stdout",
       "text": [
        "importing time on engine(s)\n",
        "importing numpy on engine(s)\n",
        "importing matplotlib.pyplot on engine(s)\n",
        "importing pandas on engine(s)\n",
        "importing measurements from scipy.ndimage on engine(s)\n",
        "importing center_of_mass from scipy.ndimage on engine(s)\n",
        "importing median_filter from scipy.ndimage on engine(s)\n",
        "importing medfilt from scipy.signal on engine(s)"
       ]
      },
      {
       "output_type": "stream",
       "stream": "stdout",
       "text": [
        "\n",
        "importing os on engine(s)\n",
        "importing curve_fit from scipy.optimize on engine(s)\n",
        "importing Ellipse from matplotlib.patches on engine(s)\n",
        "importing Image on engine(s)\n",
        "importing Again from zmq.error on engine(s)\n",
        "importing strerror,zmq_errno from zmq.backend on engine(s)\n",
        "[stdout:0] \n",
        "The autoreload extension is already loaded. To reload it, use:\n",
        "  %reload_ext autoreload\n"
       ]
      },
      {
       "output_type": "stream",
       "stream": "stdout",
       "text": [
        "[stdout:1] \n",
        "The autoreload extension is already loaded. To reload it, use:\n",
        "  %reload_ext autoreload\n",
        "[stdout:2] \n",
        "The autoreload extension is already loaded. To reload it, use:\n",
        "  %reload_ext autoreload\n",
        "[stdout:3] \n",
        "The autoreload extension is already loaded. To reload it, use:\n",
        "  %reload_ext autoreload\n",
        "importing SPring8_image,gauss_function,parse_headers,Version,pandify_header from Functions on engine(s)\n"
       ]
      }
     ],
     "prompt_number": 5
    },
    {
     "cell_type": "heading",
     "level": 2,
     "metadata": {},
     "source": [
      "Create directory map"
     ]
    },
    {
     "cell_type": "code",
     "collapsed": false,
     "input": [
      "name = 'InAs0799time3'\n",
      "files = !ls ./pilatus/InAs0799/$name/*.tif\n",
      "puhsed_files = dview.push(dict(files=files))\n",
      "pushed_functions = dview.push(dict(SPring8_image = SPring8_image,\n",
      "                                    gauss_function=gauss_function,\n",
      "                                    parse_headers = parse_headers))"
     ],
     "language": "python",
     "metadata": {},
     "outputs": [],
     "prompt_number": 6
    },
    {
     "cell_type": "markdown",
     "metadata": {},
     "source": [
      "load hkl"
     ]
    },
    {
     "cell_type": "code",
     "collapsed": false,
     "input": [
      "name_hkl = 'InAs0799'\n",
      "H = loadtxt('./'+name_hkl+'/H.dat')\n",
      "L = loadtxt('./'+name_hkl+'/L.dat')\n",
      "K = loadtxt('./'+name_hkl+'/K.dat')"
     ],
     "language": "python",
     "metadata": {},
     "outputs": [],
     "prompt_number": 7
    },
    {
     "cell_type": "markdown",
     "metadata": {},
     "source": [
      "load times"
     ]
    },
    {
     "cell_type": "code",
     "collapsed": false,
     "input": [
      "spec_df = load_spec_log(name)\n",
      "time = spec_df.Time.values"
     ],
     "language": "python",
     "metadata": {},
     "outputs": [],
     "prompt_number": 8
    },
    {
     "cell_type": "heading",
     "level": 2,
     "metadata": {},
     "source": [
      "load headers"
     ]
    },
    {
     "cell_type": "code",
     "collapsed": false,
     "input": [
      "roi = {}\n",
      "samples = list( flatten( dview.map_sync(lambda x: parse_headers(x,2),files)))"
     ],
     "language": "python",
     "metadata": {},
     "outputs": [],
     "prompt_number": 9
    },
    {
     "cell_type": "code",
     "collapsed": false,
     "input": [
      "data = pandify_header(samples)\n",
      "data['Time'] = spec_df.Time.values"
     ],
     "language": "python",
     "metadata": {},
     "outputs": [],
     "prompt_number": 10
    },
    {
     "cell_type": "code",
     "collapsed": false,
     "input": [
      "data.head()"
     ],
     "language": "python",
     "metadata": {},
     "outputs": [
      {
       "html": [
        "<div style=\"max-height:1000px;max-width:1500px;overflow:auto;\">\n",
        "<table border=\"1\" class=\"dataframe\">\n",
        "  <thead>\n",
        "    <tr style=\"text-align: right;\">\n",
        "      <th></th>\n",
        "      <th>NIG</th>\n",
        "      <th>name</th>\n",
        "      <th>Monitor</th>\n",
        "      <th>Timestamp</th>\n",
        "      <th>Time</th>\n",
        "    </tr>\n",
        "  </thead>\n",
        "  <tbody>\n",
        "    <tr>\n",
        "      <th>5 </th>\n",
        "      <td> 0.000390</td>\n",
        "      <td> ./pilatus/InAs0799/InAs0799time3/InAs0799time3...</td>\n",
        "      <td> 12360</td>\n",
        "      <td> NaN</td>\n",
        "      <td> 0.003226</td>\n",
        "    </tr>\n",
        "    <tr>\n",
        "      <th>6 </th>\n",
        "      <td> 0.000392</td>\n",
        "      <td> ./pilatus/InAs0799/InAs0799time3/InAs0799time3...</td>\n",
        "      <td> 12707</td>\n",
        "      <td> NaN</td>\n",
        "      <td> 0.999416</td>\n",
        "    </tr>\n",
        "    <tr>\n",
        "      <th>11</th>\n",
        "      <td> 0.000392</td>\n",
        "      <td> ./pilatus/InAs0799/InAs0799time3/InAs0799time3...</td>\n",
        "      <td> 12273</td>\n",
        "      <td> NaN</td>\n",
        "      <td> 6.218830</td>\n",
        "    </tr>\n",
        "    <tr>\n",
        "      <th>12</th>\n",
        "      <td> 0.000392</td>\n",
        "      <td> ./pilatus/InAs0799/InAs0799time3/InAs0799time3...</td>\n",
        "      <td> 12741</td>\n",
        "      <td> NaN</td>\n",
        "      <td> 7.126620</td>\n",
        "    </tr>\n",
        "    <tr>\n",
        "      <th>13</th>\n",
        "      <td> 0.000392</td>\n",
        "      <td> ./pilatus/InAs0799/InAs0799time3/InAs0799time3...</td>\n",
        "      <td> 13010</td>\n",
        "      <td> NaN</td>\n",
        "      <td> 8.078640</td>\n",
        "    </tr>\n",
        "  </tbody>\n",
        "</table>\n",
        "</div>"
       ],
       "metadata": {},
       "output_type": "pyout",
       "prompt_number": 11,
       "text": [
        "         NIG                                               name  Monitor  \\\n",
        "5   0.000390  ./pilatus/InAs0799/InAs0799time3/InAs0799time3...    12360   \n",
        "6   0.000392  ./pilatus/InAs0799/InAs0799time3/InAs0799time3...    12707   \n",
        "11  0.000392  ./pilatus/InAs0799/InAs0799time3/InAs0799time3...    12273   \n",
        "12  0.000392  ./pilatus/InAs0799/InAs0799time3/InAs0799time3...    12741   \n",
        "13  0.000392  ./pilatus/InAs0799/InAs0799time3/InAs0799time3...    13010   \n",
        "\n",
        "   Timestamp      Time  \n",
        "5        NaN  0.003226  \n",
        "6        NaN  0.999416  \n",
        "11       NaN  6.218830  \n",
        "12       NaN  7.126620  \n",
        "13       NaN  8.078640  "
       ]
      }
     ],
     "prompt_number": 11
    },
    {
     "cell_type": "code",
     "collapsed": false,
     "input": [
      "obj = SPring8_image(data.name[100])\n",
      "obj.read_detector(2)\n",
      "image = obj.img\n",
      "image = image[70:125,90:370]\n",
      "fig,ax = subplots()\n",
      "plt.imshow(log(image),cmap= cm.cubehelix)"
     ],
     "language": "python",
     "metadata": {},
     "outputs": [
      {
       "metadata": {},
       "output_type": "pyout",
       "prompt_number": 12,
       "text": [
        "<matplotlib.image.AxesImage at 0x69bc790>"
       ]
      }
     ],
     "prompt_number": 12
    },
    {
     "cell_type": "code",
     "collapsed": false,
     "input": [
      "len(data.Time)"
     ],
     "language": "python",
     "metadata": {},
     "outputs": [
      {
       "metadata": {},
       "output_type": "pyout",
       "prompt_number": 13,
       "text": [
        "771"
       ]
      }
     ],
     "prompt_number": 13
    },
    {
     "cell_type": "code",
     "collapsed": false,
     "input": [
      "data_list= []\n",
      "\n",
      "for i, t , index in zip(data.name,data.Time,range(0,len(data.Time))):\n",
      "    image = SPring8_image(i)\n",
      "    image.read_detector(2)\n",
      "    image = (image.img)\n",
      "    image = image[70:125,90:370]\n",
      "    data_list.append(image)\n",
      "    \n",
      "data_array = array(data_list)"
     ],
     "language": "python",
     "metadata": {},
     "outputs": [],
     "prompt_number": 14
    },
    {
     "cell_type": "code",
     "collapsed": false,
     "input": [
      "shape(data_array)"
     ],
     "language": "python",
     "metadata": {},
     "outputs": [
      {
       "metadata": {},
       "output_type": "pyout",
       "prompt_number": 16,
       "text": [
        "(771, 55, 280)"
       ]
      }
     ],
     "prompt_number": 16
    },
    {
     "cell_type": "heading",
     "level": 2,
     "metadata": {},
     "source": [
      "GIT"
     ]
    },
    {
     "cell_type": "code",
     "collapsed": false,
     "input": [
      "!git add 'Napkin.ipynb'\n",
      "!git commit  -m 'working cv2 grayscale only'"
     ],
     "language": "python",
     "metadata": {},
     "outputs": [
      {
       "output_type": "stream",
       "stream": "stdout",
       "text": [
        "[parllelpimp e6e20a2] working cv2 grayscale only\r\n",
        " 1 file changed, 139 insertions(+), 38 deletions(-)\r\n"
       ]
      }
     ],
     "prompt_number": 17
    },
    {
     "cell_type": "heading",
     "level": 2,
     "metadata": {},
     "source": [
      "testing pq"
     ]
    },
    {
     "cell_type": "code",
     "collapsed": false,
     "input": [
      "app = QtGui.QApplication([])\n",
      "\n",
      "## Create window with ImageView widget\n",
      "win = QtGui.QMainWindow()\n",
      "win.resize(800,800)\n",
      "imv = pg.ImageView()\n",
      "win.setCentralWidget(imv)\n",
      "win.show()\n",
      "win.setWindowTitle('pyqtgraph example: ImageView')"
     ],
     "language": "python",
     "metadata": {},
     "outputs": [],
     "prompt_number": 18
    },
    {
     "cell_type": "code",
     "collapsed": false,
     "input": [
      "## Display the data and assign each frame a time value from 1.0 to 3.0\n",
      "imv.setImage(data_array, xvals=data.Time)\n",
      "\n",
      "## Start Qt event loop unless running in interactive mode.\n",
      "if __name__ == '__main__':\n",
      "    import sys\n",
      "    if (sys.flags.interactive != 1) or not hasattr(QtCore, 'PYQT_VERSION'):\n",
      "        QtGui.QApplication.instance().exec_()"
     ],
     "language": "python",
     "metadata": {},
     "outputs": [],
     "prompt_number": 19
    },
    {
     "cell_type": "code",
     "collapsed": false,
     "input": [],
     "language": "python",
     "metadata": {},
     "outputs": []
    }
   ],
   "metadata": {}
  }
 ]
}