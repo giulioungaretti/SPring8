{
 "metadata": {
  "name": "",
  "signature": "sha256:b3c8e61076e76f1bf8560fac5784f3864cd7a7a9673b47085b3d7b5c2bf2db50"
 },
 "nbformat": 3,
 "nbformat_minor": 0,
 "worksheets": [
  {
   "cells": [
    {
     "cell_type": "code",
     "collapsed": false,
     "input": [
      "message = raw_input() # don't getit "
     ],
     "language": "python",
     "metadata": {},
     "outputs": [
      {
       "name": "stdout",
       "output_type": "stream",
       "stream": "stdout",
       "text": [
        "\n"
       ]
      }
     ],
     "prompt_number": 18
    },
    {
     "cell_type": "code",
     "collapsed": false,
     "input": [
      "!git add 'Napkin.ipynb'\n",
      "!git commit  -m 'improved napkin'"
     ],
     "language": "python",
     "metadata": {},
     "outputs": [
      {
       "output_type": "stream",
       "stream": "stdout",
       "text": [
        "# On branch parllelpimp\r\n",
        "# Changes not staged for commit:\r\n",
        "#   (use \"git add/rm <file>...\" to update what will be committed)\r\n",
        "#   (use \"git checkout -- <file>...\" to discard changes in working directory)\r\n",
        "#\r\n",
        "#\tmodified:   Functions.py\r\n",
        "#\tdeleted:    drafts.ipynb\r\n",
        "#\r\n",
        "# Untracked files:\r\n",
        "#   (use \"git add <file>...\" to include in what will be committed)\r\n",
        "#\r\n",
        "#\t\".\\res\\\\InAs0799time1a\"\r\n",
        "#\t.1a.png\r\n",
        "#\t.Functions.py.swp\r\n",
        "#\t\".\\\\Results\\\\InAs0799time1a\"\r\n",
        "#\t.doplot.py.swo\r\n",
        "#\t.ipynb_checkpoints/\r\n",
        "#\t.ropeproject/\r\n",
        "#\t0799-Time2.ipynb\r\n",
        "#\t0799.png\r\n",
        "#\t0799_overview.pdf\r\n",
        "#\t0799_overview.svg\r\n",
        "#\t0800-time3a.ipynb\r\n",
        "#\t1.pdf\r\n",
        "#\t2.pdf\r\n",
        "#\tFunctions.pyc\r\n",
        "#\tInAs0798time4shutter.p\r\n",
        "#\tInAs0798time4spline_parameters.p\r\n",
        "#\tInAs0799/\r\n",
        "#\tInAs0799time1a\r\n",
        "#\tInAs0799time2shutter.p_bkg\r\n",
        "#\tInAs0800/\r\n",
        "#\tInAs0800time3ashutter.p\r\n",
        "#\tInAs0800time3aspline_parameters.p\r\n",
        "#\tRHEED/\r\n",
        "#\tResults/\r\n",
        "#\tSEM/\r\n",
        "#\tSPring8.sublime-project\r\n",
        "#\tSPring8.sublime-workspace\r\n",
        "#\tSpring8.sublime-project\r\n",
        "#\tSpring8.sublime-workspace\r\n",
        "#\tTEM/\r\n",
        "#\tasd.png\r\n",
        "#\tasd_deleteME\r\n",
        "#\tccd/\r\n",
        "#\tdoplot.pyc\r\n",
        "#\tlog.pyc\r\n",
        "#\tlogs/\r\n",
        "#\tmatplotlibrc\r\n",
        "#\tmisc/\r\n",
        "#\told/\r\n",
        "#\tpilatus/\r\n",
        "#\tplot.pyc\r\n",
        "#\tquickplot.pyc\r\n",
        "#\tspec/\r\n",
        "#\tstrain.pdf\r\n",
        "#\tstrain_5x5.pdf\r\n",
        "#\tstyles/\r\n",
        "#\ttest.py\r\n",
        "#\ttest2.svg\r\n",
        "#\ttest3.svg\r\n",
        "no changes added to commit (use \"git add\" and/or \"git commit -a\")\r\n"
       ]
      }
     ],
     "prompt_number": 17
    },
    {
     "cell_type": "code",
     "collapsed": false,
     "input": [
      "!echo $message"
     ],
     "language": "python",
     "metadata": {},
     "outputs": [
      {
       "output_type": "stream",
       "stream": "stdout",
       "text": [
        "improved napkin\r\n"
       ]
      }
     ],
     "prompt_number": 16
    },
    {
     "cell_type": "code",
     "collapsed": false,
     "input": [],
     "language": "python",
     "metadata": {},
     "outputs": []
    }
   ],
   "metadata": {}
  }
 ]
}