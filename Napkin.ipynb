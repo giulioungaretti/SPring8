{
 "metadata": {
  "name": "",
  "signature": "sha256:1e0683a6149e29d8ae9fa5e5d2ad825c9064fde1291a518c5700e349f0a59608"
 },
 "nbformat": 3,
 "nbformat_minor": 0,
 "worksheets": [
  {
   "cells": [
    {
     "cell_type": "markdown",
     "metadata": {},
     "source": [
      "Import"
     ]
    },
    {
     "cell_type": "code",
     "collapsed": false,
     "input": [
      "### magics\n",
      "%pylab inline\n",
      "%reload_ext autoreload\n",
      "%autoreload  2\n",
      "from Functions import *\n",
      "import pyqtgraph as pg\n",
      "css_styling()\n"
     ],
     "language": "python",
     "metadata": {},
     "outputs": [
      {
       "output_type": "stream",
       "stream": "stdout",
       "text": [
        "Populating the interactive namespace from numpy and matplotlib\n"
       ]
      },
      {
       "output_type": "stream",
       "stream": "stderr",
       "text": [
        "WARNING: pylab import has clobbered these variables: ['norm', 'concatenate']\n",
        "`%pylab --no-import-all` prevents importing * from pylab and numpy\n"
       ]
      },
      {
       "html": [
        "<style>\n",
        "    @font-face {\n",
        "                font-family: 'HelveticaNeue-UltraLight', 'Helvetica Neue UltraLight', 'Helvetica Neue', Arial, Helvetica, sans-serif; font-weight: 100; letter-spacing: 1px;\n",
        "    }\n",
        "    div.cell{\n",
        "        width: 90%;\n",
        "        margin-left:auto;\n",
        "        margin-right:auto;\n",
        "    }\n",
        "    ul {\n",
        "        line-height: 145%;\n",
        "        font-size: 90%;\n",
        "    }\n",
        "    li {\n",
        "        margin-bottom: 1em;\n",
        "    }\n",
        "    h1 {\n",
        "        font-family: 'HelveticaNeue-UltraLight', 'Helvetica Neue UltraLight', 'Helvetica Neue', Arial, Helvetica, sans-serif; font-weight: 500; letter-spacing: 1px;\n",
        "    }\n",
        "    h4{\n",
        "        margin-top: 12px;\n",
        "        margin-bottom: 3px;\n",
        "       }\n",
        "    div.text_cell_render{\n",
        "        font-family: 'HelveticaNeue-Light', 'Helvetica Neue Light', 'Helvetica Neue', Arial, Helvetica, sans-serif; font-weight: 100; letter-spacing: 1px;       \n",
        "        line-height: 105%;\n",
        "        font-size: 11pt;\n",
        "        width: 90%;\n",
        "        margin-left:auto;\n",
        "        margin-right:auto;\n",
        "    }\n",
        "    .CodeMirror{\n",
        "family    }\n",
        "/*    .prompt{\n",
        "        display: None;\n",
        "    }*/\n",
        "    .text_cell_render h5 {\n",
        "        font-weight: 300;\n",
        "        font-size: 16pt;\n",
        "        color: #4057A1;\n",
        "        font-style: italic;\n",
        "        margin-bottom: 0.5em;\n",
        "        margin-top: 0.5em;\n",
        "        display: block;\n",
        "    }\n",
        "\n",
        "    div.text_cell_render h1 {\n",
        "        font-family: 'HelveticaNeue-UltraLight', 'Helvetica Neue UltraLight', 'Helvetica Neue', Arial, Helvetica, sans-serif; font-weight: 500; letter-spacing: 1px;       \n",
        "        line-height: 145%;\n",
        "        font-size: 30pt;\n",
        "        color: #333333;\n",
        "        width: 90%;\n",
        "        margin-left:auto;\n",
        "        margin-right:auto;   \n",
        "    }\n",
        "\n",
        "    div.text_cell_render h2{\n",
        "        font-family: 'HelveticaNeue-UltraLight', 'Helvetica Neue UltraLight', 'Helvetica Neue', Arial, Helvetica, sans-serif; font-weight: 500; letter-spacing: 1px;       \n",
        "        color:#FF5200;\n",
        "\n",
        "    }\n",
        "    .warning{\n",
        "        color: rgb( 240, 20, 20 )\n",
        "        }\n",
        "\n",
        "    div.output {\n",
        "        /*max-width:900px;*/\n",
        "        /*width: 99%;*/\n",
        "        text-align: center;\n",
        "        width: 90%;\n",
        "        margin-left:auto;\n",
        "        margin-right:auto;\n",
        "\n",
        "    }\n",
        "</style>\n",
        "<script>\n",
        "    MathJax.Hub.Config({\n",
        "                        TeX: {\n",
        "                           extensions: [\"AMSmath.js\"]\n",
        "                           },\n",
        "                tex2jax: {\n",
        "                    inlineMath: [ ['$','$'], [\"\\\\(\",\"\\\\)\"] ],\n",
        "                    displayMath: [ ['$$','$$'], [\"\\\\[\",\"\\\\]\"] ]\n",
        "                },\n",
        "                displayAlign: 'center', // Change this to 'center' to center equations.\n",
        "                \"HTML-CSS\": {\n",
        "                    styles: {'.MathJax_Display': {\"margin\": 4}}\n",
        "                }\n",
        "        });\n",
        "</script>"
       ],
       "metadata": {},
       "output_type": "pyout",
       "prompt_number": 59,
       "text": [
        "<IPython.core.display.HTML at 0x5e0bf10>"
       ]
      }
     ],
     "prompt_number": 59
    },
    {
     "cell_type": "markdown",
     "metadata": {},
     "source": [
      "Matplotlib tweak"
     ]
    },
    {
     "cell_type": "code",
     "collapsed": false,
     "input": [
      "matplotlib.rcParams.update({'font.size': 20})\n",
      "matplotlib.rcParams.update({'figure.figsize': (10.0, 8.0)})"
     ],
     "language": "python",
     "metadata": {},
     "outputs": [],
     "prompt_number": 53
    },
    {
     "cell_type": "markdown",
     "metadata": {},
     "source": [
      "Paralle set up"
     ]
    },
    {
     "cell_type": "code",
     "collapsed": false,
     "input": [
      "from IPython.parallel import Client\n",
      "css_styling()\n",
      "rc = Client()\n",
      "dview = rc[:]\n",
      "%px clear"
     ],
     "language": "python",
     "metadata": {},
     "outputs": [
      {
       "output_type": "stream",
       "stream": "stdout",
       "text": [
        "[stdout:0] \u001b[H\u001b[2J\n",
        "[stdout:1] \u001b[H\u001b[2J\n",
        "[stdout:2] \u001b[H\u001b[2J\n",
        "[stdout:3] \u001b[H\u001b[2J\n"
       ]
      }
     ],
     "prompt_number": 54
    },
    {
     "cell_type": "markdown",
     "metadata": {},
     "source": [
      "Importing on engines"
     ]
    },
    {
     "cell_type": "code",
     "collapsed": false,
     "input": [
      "with dview.sync_imports():\n",
      "    import time as tm\n",
      "    import numpy as np\n",
      "    import matplotlib.pyplot as plt \n",
      "    import pandas as pd\n",
      "    from scipy.ndimage import measurements as meas\n",
      "    from scipy.ndimage import center_of_mass\n",
      "    from scipy.ndimage import median_filter\n",
      "    from scipy.signal import medfilt\n",
      "    import os\n",
      "    from scipy.optimize import curve_fit\n",
      "    from matplotlib.patches import Ellipse\n",
      "    import Image\n",
      "    %px %load_ext autoreload\n",
      "    %px %autoreload 2 \n",
      "    from Functions import  SPring8_image, gauss_function, parse_images, Version"
     ],
     "language": "python",
     "metadata": {},
     "outputs": [
      {
       "output_type": "stream",
       "stream": "stdout",
       "text": [
        "importing time on engine(s)\n",
        "importing numpy on engine(s)\n",
        "importing matplotlib.pyplot on engine(s)\n",
        "importing pandas on engine(s)\n",
        "importing measurements from scipy.ndimage on engine(s)\n",
        "importing center_of_mass from scipy.ndimage on engine(s)\n",
        "importing median_filter from scipy.ndimage on engine(s)\n",
        "importing medfilt from scipy.signal on engine(s)\n",
        "importing os on engine(s)\n",
        "importing curve_fit from scipy.optimize on engine(s)\n",
        "importing Ellipse from matplotlib.patches on engine(s)\n",
        "importing Image on engine(s)\n",
        "importing Again from zmq.error on engine(s)\n",
        "importing strerror,zmq_errno from zmq.backend on engine(s)\n",
        "[stdout:0] \n",
        "The autoreload extension is already loaded. To reload it, use:\n",
        "  %reload_ext autoreload\n"
       ]
      },
      {
       "output_type": "stream",
       "stream": "stdout",
       "text": [
        "[stdout:1] \n",
        "The autoreload extension is already loaded. To reload it, use:\n",
        "  %reload_ext autoreload\n",
        "[stdout:2] \n",
        "The autoreload extension is already loaded. To reload it, use:\n",
        "  %reload_ext autoreload\n",
        "[stdout:3] \n",
        "The autoreload extension is already loaded. To reload it, use:\n",
        "  %reload_ext autoreload\n",
        "importing SPring8_image,gauss_function,parse_images,Version from Functions on engine(s)\n"
       ]
      }
     ],
     "prompt_number": 55
    },
    {
     "cell_type": "heading",
     "level": 2,
     "metadata": {},
     "source": [
      "Create directory map"
     ]
    },
    {
     "cell_type": "code",
     "collapsed": false,
     "input": [
      "name = 'InAs0799time1a'\n",
      "files = !ls ./pilatus/InAs0799/$name/*.tif\n",
      "puhsed_files = dview.push(dict(files=files))\n",
      "pushed_functions = dview.push(dict(SPring8_image=SPring8_image,\n",
      "                                   gauss_function=gauss_function,\n",
      "                                   parse_images=parse_images))"
     ],
     "language": "python",
     "metadata": {},
     "outputs": [],
     "prompt_number": 56
    },
    {
     "cell_type": "heading",
     "level": 2,
     "metadata": {},
     "source": [
      "Define ROIs"
     ]
    },
    {
     "cell_type": "code",
     "collapsed": false,
     "input": [
      "image = SPring8_image(files[0])\n",
      "image.read_detector(2)"
     ],
     "language": "python",
     "metadata": {},
     "outputs": [],
     "prompt_number": 63
    },
    {
     "cell_type": "code",
     "collapsed": false,
     "input": [
      "pg.image(image.img)"
     ],
     "language": "python",
     "metadata": {},
     "outputs": [
      {
       "metadata": {},
       "output_type": "pyout",
       "prompt_number": 65,
       "text": [
        "<pyqtgraph.graphicsWindows.ImageWindow at 0x5ffee90>"
       ]
      }
     ],
     "prompt_number": 65
    },
    {
     "cell_type": "code",
     "collapsed": false,
     "input": [
      "!git add 'Napkin.ipynb'\n",
      "!git commit  -m 'improved napkin'"
     ],
     "language": "python",
     "metadata": {},
     "outputs": [
      {
       "output_type": "stream",
       "stream": "stdout",
       "text": [
        "[parllelpimp 4ccd3b1] improved napkin\r\n",
        " 1 file changed, 170 insertions(+), 28 deletions(-)\r\n"
       ]
      }
     ],
     "prompt_number": 57
    },
    {
     "cell_type": "code",
     "collapsed": false,
     "input": [],
     "language": "python",
     "metadata": {},
     "outputs": []
    }
   ],
   "metadata": {}
  }
 ]
}