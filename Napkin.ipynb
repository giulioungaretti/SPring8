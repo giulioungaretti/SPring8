{
 "metadata": {
  "name": "",
  "signature": "sha256:066b09f9e439b23e0cfcdbf95efeb294a60f4e5d20b91a90958c0a54b4966460"
 },
 "nbformat": 3,
 "nbformat_minor": 0,
 "worksheets": [
  {
   "cells": [
    {
     "cell_type": "markdown",
     "metadata": {},
     "source": [
      "Import"
     ]
    },
    {
     "cell_type": "code",
     "collapsed": false,
     "input": [
      "### magics\n",
      "%pylab  "
     ],
     "language": "python",
     "metadata": {},
     "outputs": [
      {
       "output_type": "stream",
       "stream": "stdout",
       "text": [
        "Using matplotlib backend: Qt4Agg\n",
        "Populating the interactive namespace from numpy and matplotlib\n"
       ]
      }
     ],
     "prompt_number": 1
    },
    {
     "cell_type": "code",
     "collapsed": false,
     "input": [
      "%reload_ext autoreload\n",
      "%autoreload  2\n",
      "\n",
      "from Functions import *\n",
      "\n",
      "from collections import deque\n",
      "css_styling()\n",
      "import time as ostime\n",
      "import cv2 as cv2\n",
      "import scipy\n",
      "\n",
      "from pyqtgraph.Qt import QtGui, QtCore \n",
      "import pyqtgraph as pg\n",
      "\n",
      "import cPickle as pickle\n",
      "pg.setConfigOptions(antialias=True)\n",
      "\n",
      "import agpy as agf"
     ],
     "language": "python",
     "metadata": {},
     "outputs": [
      {
       "output_type": "stream",
       "stream": "stdout",
       "text": [
        "Can't use kdist without the 'coords' package\n",
        "reg_gal2cel requires coords & pyregion\n",
        "posang requires coords\n",
        "Region Photometry requires pyregion\n",
        "Cannot import montage."
       ]
      },
      {
       "output_type": "stream",
       "stream": "stdout",
       "text": [
        "\n",
        "cubes.py requires coords for aper_world2pix and coords_in_image\n",
        "cubes.py requires pyregion for getspec_reg\n",
        "cubes.py requires pywcs for some subimage_integ,aper_wordl2pix,getspec, and coords_in_image\n"
       ]
      }
     ],
     "prompt_number": 2
    },
    {
     "cell_type": "markdown",
     "metadata": {},
     "source": [
      "Matplotlib tweak"
     ]
    },
    {
     "cell_type": "code",
     "collapsed": false,
     "input": [
      "matplotlib.rcParams.update({'font.size': 20})\n",
      "matplotlib.rcParams.update({'figure.figsize': (10.0, 8.0)})"
     ],
     "language": "python",
     "metadata": {},
     "outputs": [],
     "prompt_number": 3
    },
    {
     "cell_type": "markdown",
     "metadata": {},
     "source": [
      "Paralle set up"
     ]
    },
    {
     "cell_type": "code",
     "collapsed": false,
     "input": [
      "from IPython.parallel import Client\n",
      "css_styling()\n",
      "rc = Client()\n",
      "dview = rc[:]\n",
      "%px clear"
     ],
     "language": "python",
     "metadata": {},
     "outputs": [
      {
       "output_type": "stream",
       "stream": "stdout",
       "text": [
        "[stdout:0] \u001b[H\u001b[2J\n",
        "[stdout:1] \u001b[H\u001b[2J\n",
        "[stdout:2] \u001b[H\u001b[2J\n",
        "[stdout:3] \u001b[H\u001b[2J\n"
       ]
      }
     ],
     "prompt_number": 4
    },
    {
     "cell_type": "markdown",
     "metadata": {},
     "source": [
      "Importing on engines"
     ]
    },
    {
     "cell_type": "code",
     "collapsed": false,
     "input": [
      "with dview.sync_imports():\n",
      "    import time as tm\n",
      "    import numpy as np\n",
      "    import matplotlib.pyplot as plt \n",
      "    import pandas as pd\n",
      "    from scipy.ndimage import measurements as meas\n",
      "    from scipy.ndimage import center_of_mass\n",
      "    from scipy.ndimage import median_filter\n",
      "    from scipy.signal import medfilt\n",
      "    import os\n",
      "    from scipy.optimize import curve_fit\n",
      "    from matplotlib.patches import Ellipse\n",
      "    import Image\n",
      "    %px %load_ext autoreload\n",
      "    %px %autoreload 2 \n",
      "    from Functions import  SPring8_image, gauss_function, parse_headers, Version, pandify_header"
     ],
     "language": "python",
     "metadata": {},
     "outputs": [
      {
       "output_type": "stream",
       "stream": "stdout",
       "text": [
        "importing time on engine(s)\n",
        "importing numpy on engine(s)\n",
        "importing matplotlib.pyplot on engine(s)\n",
        "importing pandas on engine(s)\n",
        "importing measurements from scipy.ndimage on engine(s)\n",
        "importing center_of_mass from scipy.ndimage on engine(s)\n",
        "importing median_filter from scipy.ndimage on engine(s)\n",
        "importing medfilt from scipy.signal on engine(s)\n",
        "importing os on engine(s)\n",
        "importing curve_fit from scipy.optimize on engine(s)\n",
        "importing Ellipse from matplotlib.patches on engine(s)\n",
        "importing Image on engine(s)\n",
        "importing Again from zmq.error on engine(s)\n",
        "importing strerror,zmq_errno from zmq.backend on engine(s)\n",
        "[stdout:0] \n",
        "The autoreload extension is already loaded. To reload it, use:\n",
        "  %reload_ext autoreload\n"
       ]
      },
      {
       "output_type": "stream",
       "stream": "stdout",
       "text": [
        "[stdout:1] \n",
        "The autoreload extension is already loaded. To reload it, use:\n",
        "  %reload_ext autoreload\n",
        "[stdout:2] \n",
        "The autoreload extension is already loaded. To reload it, use:\n",
        "  %reload_ext autoreload\n",
        "[stdout:3] \n",
        "The autoreload extension is already loaded. To reload it, use:\n",
        "  %reload_ext autoreload\n",
        "importing SPring8_image,gauss_function,parse_headers,Version,pandify_header from Functions on engine(s)\n"
       ]
      }
     ],
     "prompt_number": 5
    },
    {
     "cell_type": "code",
     "collapsed": false,
     "input": [
      "dirs"
     ],
     "language": "python",
     "metadata": {},
     "outputs": [
      {
       "metadata": {},
       "output_type": "pyout",
       "prompt_number": 6,
       "text": [
        "[]"
       ]
      }
     ],
     "prompt_number": 6
    },
    {
     "cell_type": "code",
     "collapsed": false,
     "input": [
      "from __future__ import print_function"
     ],
     "language": "python",
     "metadata": {},
     "outputs": [],
     "prompt_number": 7
    },
    {
     "cell_type": "code",
     "collapsed": false,
     "input": [
      "dirs = !ls -d ./InAs0799tim*shutter*.p\n",
      "for i in dirs:\n",
      "    in_dump = pickle.load(open(i,'rb'))\n",
      "    out_file = open(i[2:-2]+'.csv', 'wb')\n",
      "    for item in in_dump:\n",
      "        print(item,file=out_file)\n",
      "\n"
     ],
     "language": "python",
     "metadata": {},
     "outputs": [],
     "prompt_number": 8
    },
    {
     "cell_type": "code",
     "collapsed": false,
     "input": [
      "for name in dirs:\n",
      "    name = name.split('/')[-1]\n",
      "    try:\n",
      "        print 'working'\n",
      "        files = !ls ./pilatus/InAs0799/$name/*.tif\n",
      "        puhsed_files = dview.push(dict(files=files))\n",
      "        pushed_functions = dview.push(dict(SPring8_image = SPring8_image,\n",
      "                                            gauss_function=gauss_function,\n",
      "                                            parse_headers = parse_headers))\n",
      "        spec_df = load_spec_log(name)\n",
      "        time = spec_df.Time.values\n",
      "        samples = list( flatten( dview.map_sync(lambda x: parse_headers(x,2),files)))\n",
      "        data_df = pandify_header(samples)\n",
      "        data_df['Time'] = spec_df.Time.values\n",
      "        data_df.to_csv(name+\"test\"+'.csv')\n",
      "    except:\n",
      "        print name"
     ],
     "language": "python",
     "metadata": {},
     "outputs": [
      {
       "ename": "SyntaxError",
       "evalue": "invalid syntax (<ipython-input-9-a11deedbbe67>, line 4)",
       "output_type": "pyerr",
       "traceback": [
        "\u001b[1;36m  File \u001b[1;32m\"<ipython-input-9-a11deedbbe67>\"\u001b[1;36m, line \u001b[1;32m4\u001b[0m\n\u001b[1;33m    print 'working'\u001b[0m\n\u001b[1;37m                  ^\u001b[0m\n\u001b[1;31mSyntaxError\u001b[0m\u001b[1;31m:\u001b[0m invalid syntax\n"
       ]
      }
     ],
     "prompt_number": 9
    },
    {
     "cell_type": "markdown",
     "metadata": {},
     "source": [
      "dirs = !ls -d ./pilatus/InAs0799/InAs0799time*\n",
      "for name in dirs:\n",
      "    name = name.split('/')[-1]\n",
      "    try:\n",
      "        print 'working'\n",
      "        files = !ls ./pilatus/InAs0799/$name/*.tif\n",
      "        puhsed_files = dview.push(dict(files=files))\n",
      "        pushed_functions = dview.push(dict(SPring8_image = SPring8_image,\n",
      "                                            gauss_function=gauss_function,\n",
      "                                            parse_headers = parse_headers))\n",
      "        spec_df = load_spec_log(name)\n",
      "        time = spec_df.Time.values\n",
      "        samples = list( flatten( dview.map_sync(lambda x: parse_headers(x,2),files)))\n",
      "        data_df = pandify_header(samples)\n",
      "        data_df['Time'] = spec_df.Time.values\n",
      "        data_df.to_csv(name+\"test\"+'.csv')\n",
      "    except:\n",
      "        print name"
     ]
    },
    {
     "cell_type": "heading",
     "level": 2,
     "metadata": {},
     "source": [
      "Create directory map"
     ]
    },
    {
     "cell_type": "code",
     "collapsed": false,
     "input": [
      "name = 'InAs0799time3'\n",
      "files = !ls ./pilatus/InAs0799/$name/*.tif\n",
      "puhsed_files = dview.push(dict(files=files))\n",
      "pushed_functions = dview.push(dict(SPring8_image = SPring8_image,\n",
      "                                    gauss_function=gauss_function,\n",
      "                                    parse_headers = parse_headers))\n"
     ],
     "language": "python",
     "metadata": {},
     "outputs": [],
     "prompt_number": 10
    },
    {
     "cell_type": "markdown",
     "metadata": {},
     "source": [
      "load hkl"
     ]
    },
    {
     "cell_type": "code",
     "collapsed": false,
     "input": [
      "name_hkl = 'InAs0799'\n",
      "H = loadtxt('./'+name_hkl+'/H.dat')\n",
      "L = loadtxt('./'+name_hkl+'/L.dat')\n",
      "K = loadtxt('./'+name_hkl+'/K.dat')"
     ],
     "language": "python",
     "metadata": {},
     "outputs": [],
     "prompt_number": 11
    },
    {
     "cell_type": "markdown",
     "metadata": {},
     "source": [
      "load times"
     ]
    },
    {
     "cell_type": "code",
     "collapsed": false,
     "input": [
      "spec_df = load_spec_log(name)\n",
      "time = spec_df.Time.values"
     ],
     "language": "python",
     "metadata": {},
     "outputs": [],
     "prompt_number": 12
    },
    {
     "cell_type": "heading",
     "level": 2,
     "metadata": {},
     "source": [
      "load headers"
     ]
    },
    {
     "cell_type": "code",
     "collapsed": false,
     "input": [
      "samples = list( flatten( dview.map_sync(lambda x: parse_headers(x,2),files)))"
     ],
     "language": "python",
     "metadata": {},
     "outputs": [],
     "prompt_number": 13
    },
    {
     "cell_type": "code",
     "collapsed": false,
     "input": [
      "data_df = pandify_header(samples)\n",
      "data_df['Time'] = spec_df.Time.values"
     ],
     "language": "python",
     "metadata": {},
     "outputs": [],
     "prompt_number": 14
    },
    {
     "cell_type": "code",
     "collapsed": false,
     "input": [
      "data_df.head()"
     ],
     "language": "python",
     "metadata": {},
     "outputs": [
      {
       "html": [
        "<div style=\"max-height:1000px;max-width:1500px;overflow:auto;\">\n",
        "<table border=\"1\" class=\"dataframe\">\n",
        "  <thead>\n",
        "    <tr style=\"text-align: right;\">\n",
        "      <th></th>\n",
        "      <th>NIG</th>\n",
        "      <th>name</th>\n",
        "      <th>Monitor</th>\n",
        "      <th>Timestamp</th>\n",
        "      <th>Time</th>\n",
        "    </tr>\n",
        "  </thead>\n",
        "  <tbody>\n",
        "    <tr>\n",
        "      <th>5 </th>\n",
        "      <td> 0.000390</td>\n",
        "      <td> ./pilatus/InAs0799/InAs0799time3/InAs0799time3...</td>\n",
        "      <td> 12360</td>\n",
        "      <td> NaN</td>\n",
        "      <td> 0.003226</td>\n",
        "    </tr>\n",
        "    <tr>\n",
        "      <th>6 </th>\n",
        "      <td> 0.000392</td>\n",
        "      <td> ./pilatus/InAs0799/InAs0799time3/InAs0799time3...</td>\n",
        "      <td> 12707</td>\n",
        "      <td> NaN</td>\n",
        "      <td> 0.999416</td>\n",
        "    </tr>\n",
        "    <tr>\n",
        "      <th>11</th>\n",
        "      <td> 0.000392</td>\n",
        "      <td> ./pilatus/InAs0799/InAs0799time3/InAs0799time3...</td>\n",
        "      <td> 12273</td>\n",
        "      <td> NaN</td>\n",
        "      <td> 6.218830</td>\n",
        "    </tr>\n",
        "    <tr>\n",
        "      <th>12</th>\n",
        "      <td> 0.000392</td>\n",
        "      <td> ./pilatus/InAs0799/InAs0799time3/InAs0799time3...</td>\n",
        "      <td> 12741</td>\n",
        "      <td> NaN</td>\n",
        "      <td> 7.126620</td>\n",
        "    </tr>\n",
        "    <tr>\n",
        "      <th>13</th>\n",
        "      <td> 0.000392</td>\n",
        "      <td> ./pilatus/InAs0799/InAs0799time3/InAs0799time3...</td>\n",
        "      <td> 13010</td>\n",
        "      <td> NaN</td>\n",
        "      <td> 8.078640</td>\n",
        "    </tr>\n",
        "  </tbody>\n",
        "</table>\n",
        "</div>"
       ],
       "metadata": {},
       "output_type": "pyout",
       "prompt_number": 15,
       "text": [
        "         NIG                                               name  Monitor  \\\n",
        "5   0.000390  ./pilatus/InAs0799/InAs0799time3/InAs0799time3...    12360   \n",
        "6   0.000392  ./pilatus/InAs0799/InAs0799time3/InAs0799time3...    12707   \n",
        "11  0.000392  ./pilatus/InAs0799/InAs0799time3/InAs0799time3...    12273   \n",
        "12  0.000392  ./pilatus/InAs0799/InAs0799time3/InAs0799time3...    12741   \n",
        "13  0.000392  ./pilatus/InAs0799/InAs0799time3/InAs0799time3...    13010   \n",
        "\n",
        "   Timestamp      Time  \n",
        "5        NaN  0.003226  \n",
        "6        NaN  0.999416  \n",
        "11       NaN  6.218830  \n",
        "12       NaN  7.126620  \n",
        "13       NaN  8.078640  "
       ]
      }
     ],
     "prompt_number": 15
    },
    {
     "cell_type": "code",
     "collapsed": false,
     "input": [
      "obj = SPring8_image(data_df.name[100])\n",
      "obj.read_detector(2)\n",
      "image = obj.img\n",
      "image = image[70:125,90:370]"
     ],
     "language": "python",
     "metadata": {},
     "outputs": [],
     "prompt_number": 16
    },
    {
     "cell_type": "markdown",
     "metadata": {},
     "source": [
      "load all the images in a list ordered by time"
     ]
    },
    {
     "cell_type": "code",
     "collapsed": false,
     "input": [
      "data_list= []\n",
      "for i, t , index, monitor in zip(data_df.name,data_df.Time,range(0,len(data_df.Time)), data_df.Monitor):\n",
      "    image = SPring8_image(i)\n",
      "    image.read_detector(2)\n",
      "    image = (image.img)\n",
      "    image = image[70:125,90:370]\n",
      "    image = image / monitor\n",
      "    data_list.append(rot90(flipud((image)),3))  # messy to make the image look correct!\n",
      "data_array = array(data_list)"
     ],
     "language": "python",
     "metadata": {},
     "outputs": [],
     "prompt_number": 17
    },
    {
     "cell_type": "markdown",
     "metadata": {},
     "source": [
      "If needed dump them to disk.."
     ]
    },
    {
     "cell_type": "code",
     "collapsed": false,
     "input": [
      "# pickle.dump(data_array, open(str(name) + 'image_slice' + \".p\", \"wb\"))"
     ],
     "language": "python",
     "metadata": {},
     "outputs": [],
     "prompt_number": 18
    },
    {
     "cell_type": "heading",
     "level": 2,
     "metadata": {},
     "source": [
      "PQ plot"
     ]
    },
    {
     "cell_type": "code",
     "collapsed": false,
     "input": [
      "app = pg.mkQApp()\n",
      "\n",
      "# Create window with two ImageView widgets\n",
      "win = QtGui.QMainWindow()\n",
      "win.resize(800, 1000)\n",
      "win.setWindowTitle('DataSlicing')\n",
      "cw = QtGui.QWidget()\n",
      "win.setCentralWidget(cw)\n",
      "\n",
      "# layout\n",
      "l = QtGui.QGridLayout()\n",
      "l.setRowStretch(0, 3)\n",
      "l.setRowStretch(1, 3)\n",
      "l.setRowStretch(2, 3)\n",
      "l.setRowStretch(3, 3)\n",
      "l.setRowStretch(4, 3)\n",
      "cw.setLayout(l)\n",
      "\n",
      "\n",
      "# main image display\n",
      "dummy_plot = pg.PlotItem(title='Pilatus image')\n",
      "dummy_plot.enableAutoRange()\n",
      "imv1 = pg.ImageView(view=dummy_plot)\n",
      "\n",
      "# create number of rois:\n",
      "rois = [pg.PolyLineROI([[0, 0], [0, 50], [50, 50], [50, 0]], closed=True, pen='y'),\n",
      "        pg.PolyLineROI([[0, 0], [0, 50], [50, 50], [50, 0]], closed=True, pen='r'),\n",
      "        pg.PolyLineROI([[0, 0], [0, 50], [50, 50], [50, 0]], closed=True, pen='g')]  # [x,y]\n",
      "\n",
      "dummy_plots =[pg.PlotItem(title='roi image 1'),\n",
      "              pg.PlotItem(title='roi image 2'),\n",
      "              pg.PlotItem(title='roi image 3')]\n",
      "\n",
      "[dummy_plot_i.enableAutoRange() for dummy_plot_i in dummy_plots]\n",
      "\n",
      "images = [pg.ImageView(view=i) for i in dummy_plots]\n",
      "#add rois to main image\n",
      "[ imv1.addItem(roi) for roi in rois]\n",
      "\n",
      "# # roi image display\n",
      "# dummy_plot2 = pg.PlotItem(title='roi image')\n",
      "# dummy_plot2.enableAutoRange()\n",
      "# imv2 = pg.ImageView(view=dummy_plot2)\n",
      "\n",
      "# create plot widgets one for each roi\n",
      "\n",
      "pw = pg.PlotWidget()\n",
      "pw2 = pg.PlotWidget()\n",
      "pw3 = pg.PlotWidget()\n",
      "pw.enableAutoRange()\n",
      "pw2.enableAutoRange()\n",
      "pw3.enableAutoRange()\n",
      "plots = [pw, pw2, pw3]\n",
      "\n",
      "# customize plots\n",
      "\n",
      "for i in plots:\n",
      "    i.setLabel('left', \"Intensity\", units='a.u.')\n",
      "    i.setLabel('bottom', \"Time\", units='s')\n",
      "    i.setLogMode(x=False, y=False)\n",
      "\n",
      "\n",
      "## add widgets\n",
      "# fromRow, int fromColumn, int rowSpan, int columnSpan\n",
      "l.addWidget(imv1, 0, 0, 1, 3)\n",
      "\n",
      "for image,i in zip(images,range(3)):\n",
      "\n",
      "    l.addWidget(image, 1, i, 1, 1)\n",
      "\n",
      "l.addWidget(pw, 2, 0, 1, 3)\n",
      "l.addWidget(pw2, 3, 0, 1, 3)\n",
      "l.addWidget(pw3, 4, 0, 1, 3)\n",
      "\n",
      "\n",
      "# add text to see the timestamp!\n",
      "\n",
      "text = pg.TextItem('Time: ' + str(data_df.Time[imv1.currentIndex]))\n",
      "dummy_plot.addItem(text)\n",
      "text.setPos(260, 10)\n",
      "\n",
      "\n",
      "# # add line roi\n",
      "# roi = pg.LineSegmentROI([[10, 10], [120, 10]], pen=(200, 200, 255))\n",
      "# imv1.addItem(roi)\n",
      "# roi2 = pg.LineSegmentROI([[10, 10], [120, 10]], pen='b')\n",
      "# imv1.addItem(roi2)\n",
      "\n",
      "\n",
      "# # functions to update plot\n",
      "# def update():\n",
      "#     global data_array, imv1, pw, roi\n",
      "#     pw.clear()\n",
      "#     pw2.clear()\n",
      "#     d1 = roi.getArrayRegion(data_array, imv1.imageItem, axes=(1, 2))\n",
      "#     d2 = roi2.getArrayRegion(data_array, imv1.imageItem, axes=(1, 2))\n",
      "#     d4 = roi3.getArrayRegion(\n",
      "#         data_array[imv1.currentIndex], imv1.imageItem, axes=(0, 1))\n",
      "#     pw.plot(d1[imv1.currentIndex], pen=roi.pen)\n",
      "#     pw2.plot(d2[imv1.currentIndex], pen=roi2.pen)\n",
      "#     imv2.setImage(d4)\n",
      "#     return\n",
      "\n",
      "\n",
      "def update_sum_plot():\n",
      "    global data_array, imv1, roi\n",
      "    for roi, plot_i in zip(rois, plots):\n",
      "        datas = deque()\n",
      "        for i in range(0, len(data_array)):\n",
      "            datas.append(sum(roi.getArrayRegion(data_array[i],\n",
      "                                                 imv1.imageItem, axes=(0,1))))\n",
      "        datas = pd.rolling_mean(pd.Series(datas), 3)\n",
      "        plot_i.plot(data_df.Time, datas, clear=True, pen=None, symbol='o',\n",
      "                 symbolPen=None, symbolSize=1, symbolBrush=roi.pen.color())\n",
      "\n",
      "\n",
      "def update_index_text():\n",
      "    global data_array, imv1, text\n",
      "    textstr = 'Time: ' + str(data_df.Time[imv1.currentIndex])\n",
      "    text.setText(textstr)\n",
      "    return textstr\n",
      "\n",
      "\n",
      "# # connect  roi shape change\n",
      "# roi.sigRegionChanged.connect(update)\n",
      "# roi2.sigRegionChanged.connect(update)\n",
      "# roi3.sigRegionChanged.connect(update)\n",
      "\n",
      "[roi_i.sigRegionChanged.connect(update_sum_plot) for roi_i in rois]\n",
      "\n",
      "\n",
      "# # connect to time changes\n",
      "# imv1.sigTimeChanged.connect(update)\n",
      "\n",
      "imv1.sigTimeChanged.connect(update_index_text)\n",
      "imv1.setImage(log(data_array), xvals=data_df.Time)\n",
      "\n",
      "update_index_text()\n",
      "# # test image slice\n",
      "\n",
      "# update_sum_plot()\n",
      "win.show()\n",
      "# # app.exec_()\n"
     ],
     "language": "python",
     "metadata": {},
     "outputs": [],
     "prompt_number": 99
    },
    {
     "cell_type": "code",
     "collapsed": false,
     "input": [
      "update_sum_plot()"
     ],
     "language": "python",
     "metadata": {},
     "outputs": [],
     "prompt_number": 100
    },
    {
     "cell_type": "code",
     "collapsed": false,
     "input": [
      "a = rois[1]\n",
      "a.getArrayRegion(data_array, imv1.imageItem )"
     ],
     "language": "python",
     "metadata": {},
     "outputs": [
      {
       "ename": "TypeError",
       "evalue": "unsupported operand type(s) for /: 'float' and 'NoneType'",
       "output_type": "pyerr",
       "traceback": [
        "\u001b[1;31m---------------------------------------------------------------------------\u001b[0m\n\u001b[1;31mTypeError\u001b[0m                                 Traceback (most recent call last)",
        "\u001b[1;32m<ipython-input-70-3f8debf173ce>\u001b[0m in \u001b[0;36m<module>\u001b[1;34m()\u001b[0m\n\u001b[0;32m      1\u001b[0m \u001b[0ma\u001b[0m \u001b[1;33m=\u001b[0m \u001b[0mrois\u001b[0m\u001b[1;33m[\u001b[0m\u001b[1;36m1\u001b[0m\u001b[1;33m]\u001b[0m\u001b[1;33m\u001b[0m\u001b[0m\n\u001b[1;32m----> 2\u001b[1;33m \u001b[0ma\u001b[0m\u001b[1;33m.\u001b[0m\u001b[0mgetArrayRegion\u001b[0m\u001b[1;33m(\u001b[0m\u001b[0mdata_array\u001b[0m\u001b[1;33m,\u001b[0m \u001b[0mimv1\u001b[0m\u001b[1;33m.\u001b[0m\u001b[0mimageItem\u001b[0m \u001b[1;33m)\u001b[0m\u001b[1;33m\u001b[0m\u001b[0m\n\u001b[0m",
        "\u001b[1;32m/usr/local/lib/python2.7/dist-packages/pyqtgraph/graphicsItems/ROI.pyc\u001b[0m in \u001b[0;36mgetArrayRegion\u001b[1;34m(self, data, img, axes, returnMappedCoords, **kwds)\u001b[0m\n\u001b[0;32m   1735\u001b[0m \u001b[1;33m\u001b[0m\u001b[0m\n\u001b[0;32m   1736\u001b[0m     \u001b[1;32mdef\u001b[0m \u001b[0mgetArrayRegion\u001b[0m\u001b[1;33m(\u001b[0m\u001b[0mself\u001b[0m\u001b[1;33m,\u001b[0m \u001b[0mdata\u001b[0m\u001b[1;33m,\u001b[0m \u001b[0mimg\u001b[0m\u001b[1;33m,\u001b[0m \u001b[0maxes\u001b[0m\u001b[1;33m=\u001b[0m\u001b[1;33m(\u001b[0m\u001b[1;36m0\u001b[0m\u001b[1;33m,\u001b[0m\u001b[1;36m1\u001b[0m\u001b[1;33m)\u001b[0m\u001b[1;33m,\u001b[0m \u001b[0mreturnMappedCoords\u001b[0m\u001b[1;33m=\u001b[0m\u001b[0mFalse\u001b[0m\u001b[1;33m,\u001b[0m \u001b[1;33m**\u001b[0m\u001b[0mkwds\u001b[0m\u001b[1;33m)\u001b[0m\u001b[1;33m:\u001b[0m\u001b[1;33m\u001b[0m\u001b[0m\n\u001b[1;32m-> 1737\u001b[1;33m         \u001b[0msl\u001b[0m \u001b[1;33m=\u001b[0m \u001b[0mself\u001b[0m\u001b[1;33m.\u001b[0m\u001b[0mgetArraySlice\u001b[0m\u001b[1;33m(\u001b[0m\u001b[0mdata\u001b[0m\u001b[1;33m,\u001b[0m \u001b[0mimg\u001b[0m\u001b[1;33m,\u001b[0m \u001b[0maxes\u001b[0m\u001b[1;33m=\u001b[0m\u001b[1;33m(\u001b[0m\u001b[1;36m0\u001b[0m\u001b[1;33m,\u001b[0m\u001b[1;36m1\u001b[0m\u001b[1;33m)\u001b[0m\u001b[1;33m)\u001b[0m\u001b[1;33m\u001b[0m\u001b[0m\n\u001b[0m\u001b[0;32m   1738\u001b[0m         \u001b[1;32mif\u001b[0m \u001b[0msl\u001b[0m \u001b[1;32mis\u001b[0m \u001b[0mNone\u001b[0m\u001b[1;33m:\u001b[0m\u001b[1;33m\u001b[0m\u001b[0m\n\u001b[0;32m   1739\u001b[0m             \u001b[1;32mreturn\u001b[0m \u001b[0mNone\u001b[0m\u001b[1;33m\u001b[0m\u001b[0m\n",
        "\u001b[1;32m/usr/local/lib/python2.7/dist-packages/pyqtgraph/graphicsItems/ROI.pyc\u001b[0m in \u001b[0;36mgetArraySlice\u001b[1;34m(self, data, img, axes, returnSlice)\u001b[0m\n\u001b[0;32m    843\u001b[0m         \u001b[1;31m## Modify transform to scale from image coords to data coords\u001b[0m\u001b[1;33m\u001b[0m\u001b[1;33m\u001b[0m\u001b[0m\n\u001b[0;32m    844\u001b[0m         \u001b[1;31m#m = QtGui.QTransform()\u001b[0m\u001b[1;33m\u001b[0m\u001b[1;33m\u001b[0m\u001b[0m\n\u001b[1;32m--> 845\u001b[1;33m         \u001b[0mtr\u001b[0m\u001b[1;33m.\u001b[0m\u001b[0mscale\u001b[0m\u001b[1;33m(\u001b[0m\u001b[0mfloat\u001b[0m\u001b[1;33m(\u001b[0m\u001b[0mdShape\u001b[0m\u001b[1;33m[\u001b[0m\u001b[1;36m0\u001b[0m\u001b[1;33m]\u001b[0m\u001b[1;33m)\u001b[0m \u001b[1;33m/\u001b[0m \u001b[0mimg\u001b[0m\u001b[1;33m.\u001b[0m\u001b[0mwidth\u001b[0m\u001b[1;33m(\u001b[0m\u001b[1;33m)\u001b[0m\u001b[1;33m,\u001b[0m \u001b[0mfloat\u001b[0m\u001b[1;33m(\u001b[0m\u001b[0mdShape\u001b[0m\u001b[1;33m[\u001b[0m\u001b[1;36m1\u001b[0m\u001b[1;33m]\u001b[0m\u001b[1;33m)\u001b[0m \u001b[1;33m/\u001b[0m \u001b[0mimg\u001b[0m\u001b[1;33m.\u001b[0m\u001b[0mheight\u001b[0m\u001b[1;33m(\u001b[0m\u001b[1;33m)\u001b[0m\u001b[1;33m)\u001b[0m\u001b[1;33m\u001b[0m\u001b[0m\n\u001b[0m\u001b[0;32m    846\u001b[0m         \u001b[1;31m#tr = tr * m\u001b[0m\u001b[1;33m\u001b[0m\u001b[1;33m\u001b[0m\u001b[0m\n\u001b[0;32m    847\u001b[0m \u001b[1;33m\u001b[0m\u001b[0m\n",
        "\u001b[1;31mTypeError\u001b[0m: unsupported operand type(s) for /: 'float' and 'NoneType'"
       ]
      }
     ],
     "prompt_number": 70
    },
    {
     "cell_type": "code",
     "collapsed": false,
     "input": [
      "%%timeit\n",
      "values = [sum(roi3.getArrayRegion(data_array[i],\n",
      "                                     imv1.imageItem,\n",
      "                                     axes=(0,1))) for i in range(0,len(data_array))]\n",
      "    "
     ],
     "language": "python",
     "metadata": {},
     "outputs": [
      {
       "output_type": "stream",
       "stream": "stdout",
       "text": [
        "1 loops, best of 3: 434 ms per loop\n"
       ]
      }
     ],
     "prompt_number": 33
    },
    {
     "cell_type": "code",
     "collapsed": false,
     "input": [
      "%%timeit\n"
     ],
     "language": "python",
     "metadata": {},
     "outputs": [
      {
       "output_type": "stream",
       "stream": "stderr",
       "text": [
        "UsageError: %%timeit is a cell magic, but the cell body is empty. Did you mean the line magic %timeit (single %)?"
       ]
      }
     ],
     "prompt_number": 34
    },
    {
     "cell_type": "code",
     "collapsed": false,
     "input": [
      "fig,ax = subplots()\n",
      "ax.plot(data_df.Time, values)\n",
      "fig.show()"
     ],
     "language": "python",
     "metadata": {},
     "outputs": [],
     "prompt_number": 260
    },
    {
     "cell_type": "code",
     "collapsed": false,
     "input": [
      "fig,ax = subplots()\n",
      "ax.imshow(log(a))\n",
      "fig.show()"
     ],
     "language": "python",
     "metadata": {},
     "outputs": [],
     "prompt_number": 246
    },
    {
     "cell_type": "code",
     "collapsed": false,
     "input": [
      "img = data_array[imv1.currentIndex]\n",
      "fig,ax = subplots()\n",
      "ax.imshow(log(img))\n",
      "fig.show()"
     ],
     "language": "python",
     "metadata": {},
     "outputs": [],
     "prompt_number": 239
    },
    {
     "cell_type": "code",
     "collapsed": false,
     "input": [
      "shape(b)"
     ],
     "language": "python",
     "metadata": {},
     "outputs": [
      {
       "metadata": {},
       "output_type": "pyout",
       "prompt_number": 223,
       "text": [
        "(138, 255, 55)"
       ]
      }
     ],
     "prompt_number": 223
    },
    {
     "cell_type": "code",
     "collapsed": false,
     "input": [],
     "language": "python",
     "metadata": {},
     "outputs": [],
     "prompt_number": 44
    },
    {
     "cell_type": "code",
     "collapsed": false,
     "input": [
      "#sum that thing and plot aas funciton of time"
     ],
     "language": "python",
     "metadata": {},
     "outputs": [],
     "prompt_number": 45
    },
    {
     "cell_type": "heading",
     "level": 2,
     "metadata": {},
     "source": [
      "GIT"
     ]
    },
    {
     "cell_type": "code",
     "collapsed": false,
     "input": [
      "!git add 'Napkin.ipynb'\n",
      "!git commit  -m 'testing lots of rois'"
     ],
     "language": "python",
     "metadata": {},
     "outputs": [
      {
       "output_type": "stream",
       "stream": "stdout",
       "text": [
        "[parllelpimp 52f8b74] testing lots of rois\r\n",
        " 1 file changed, 242 insertions(+), 81 deletions(-)\r\n"
       ]
      }
     ],
     "prompt_number": 38
    },
    {
     "cell_type": "code",
     "collapsed": false,
     "input": [],
     "language": "python",
     "metadata": {},
     "outputs": []
    }
   ],
   "metadata": {}
  }
 ]
}