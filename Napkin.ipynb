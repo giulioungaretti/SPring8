{
 "metadata": {
  "name": "",
  "signature": "sha256:616b8794c135b1459aa716c4ad3333fd892f704587783cc85cce44ad0b572712"
 },
 "nbformat": 3,
 "nbformat_minor": 0,
 "worksheets": [
  {
   "cells": [
    {
     "cell_type": "markdown",
     "metadata": {},
     "source": [
      "Import"
     ]
    },
    {
     "cell_type": "code",
     "collapsed": false,
     "input": [
      "### magics\n",
      "%pylab "
     ],
     "language": "python",
     "metadata": {},
     "outputs": [
      {
       "output_type": "stream",
       "stream": "stdout",
       "text": [
        "Using matplotlib backend: Qt4Agg\n",
        "Populating the interactive namespace from numpy and matplotlib\n"
       ]
      },
      {
       "output_type": "stream",
       "stream": "stderr",
       "text": [
        "WARNING: pylab import has clobbered these variables: ['norm', 'rc', 'concatenate']\n",
        "`%pylab --no-import-all` prevents importing * from pylab and numpy\n"
       ]
      }
     ],
     "prompt_number": 25
    },
    {
     "cell_type": "code",
     "collapsed": false,
     "input": [
      "%reload_ext autoreload\n",
      "%autoreload  2\n",
      "\n",
      "from Functions import *\n",
      "\n",
      "from collections import deque\n",
      "css_styling()\n",
      "import time as ostime\n",
      "import cv2 as cv2\n",
      "import scipy\n",
      "\n",
      "from pyqtgraph.Qt import QtGui, QtCore \n",
      "import pyqtgraph as pg\n",
      "\n",
      "import cPickle as pickle\n",
      "pg.setConfigOptions(antialias=True)\n",
      "\n"
     ],
     "language": "python",
     "metadata": {},
     "outputs": [],
     "prompt_number": 26
    },
    {
     "cell_type": "markdown",
     "metadata": {},
     "source": [
      "Matplotlib tweak"
     ]
    },
    {
     "cell_type": "code",
     "collapsed": false,
     "input": [
      "matplotlib.rcParams.update({'font.size': 20})\n",
      "matplotlib.rcParams.update({'figure.figsize': (10.0, 8.0)})"
     ],
     "language": "python",
     "metadata": {},
     "outputs": [],
     "prompt_number": 27
    },
    {
     "cell_type": "markdown",
     "metadata": {},
     "source": [
      "Paralle set up"
     ]
    },
    {
     "cell_type": "code",
     "collapsed": false,
     "input": [
      "from IPython.parallel import Client\n",
      "css_styling()\n",
      "rc = Client()\n",
      "dview = rc[:]\n",
      "%px clear"
     ],
     "language": "python",
     "metadata": {},
     "outputs": [
      {
       "output_type": "stream",
       "stream": "stdout",
       "text": [
        "[stdout:0] \u001b[H\u001b[2J\n",
        "[stdout:1] \u001b[H\u001b[2J\n",
        "[stdout:2] \u001b[H\u001b[2J\n",
        "[stdout:3] \u001b[H\u001b[2J\n"
       ]
      }
     ],
     "prompt_number": 28
    },
    {
     "cell_type": "markdown",
     "metadata": {},
     "source": [
      "Importing on engines"
     ]
    },
    {
     "cell_type": "code",
     "collapsed": false,
     "input": [
      "with dview.sync_imports():\n",
      "    import time as tm\n",
      "    import numpy as np\n",
      "    import matplotlib.pyplot as plt \n",
      "    import pandas as pd\n",
      "    from scipy.ndimage import measurements as meas\n",
      "    from scipy.ndimage import center_of_mass\n",
      "    from scipy.ndimage import median_filter\n",
      "    from scipy.signal import medfilt\n",
      "    import os\n",
      "    from scipy.optimize import curve_fit\n",
      "    from matplotlib.patches import Ellipse\n",
      "    import Image\n",
      "    %px %load_ext autoreload\n",
      "    %px %autoreload 2 \n",
      "    from Functions import  SPring8_image, gauss_function, parse_headers, Version, pandify_header"
     ],
     "language": "python",
     "metadata": {},
     "outputs": [
      {
       "output_type": "stream",
       "stream": "stdout",
       "text": [
        "importing time on engine(s)\n",
        "importing numpy on engine(s)\n",
        "importing matplotlib.pyplot on engine(s)\n",
        "importing pandas on engine(s)\n",
        "importing measurements from scipy.ndimage on engine(s)\n",
        "importing center_of_mass from scipy.ndimage on engine(s)\n",
        "importing median_filter from scipy.ndimage on engine(s)\n",
        "importing medfilt from scipy.signal on engine(s)\n",
        "importing os on engine(s)\n",
        "importing curve_fit from scipy.optimize on engine(s)\n",
        "importing Ellipse from matplotlib.patches on engine(s)\n",
        "importing Image on engine(s)\n",
        "importing Again from zmq.error on engine(s)\n",
        "importing strerror,zmq_errno from zmq.backend on engine(s)\n",
        "[stdout:0] \n",
        "The autoreload extension is already loaded. To reload it, use:\n",
        "  %reload_ext autoreload\n"
       ]
      },
      {
       "output_type": "stream",
       "stream": "stdout",
       "text": [
        "[stdout:1] \n",
        "The autoreload extension is already loaded. To reload it, use:\n",
        "  %reload_ext autoreload\n",
        "[stdout:2] \n",
        "The autoreload extension is already loaded. To reload it, use:\n",
        "  %reload_ext autoreload\n",
        "[stdout:3] \n",
        "The autoreload extension is already loaded. To reload it, use:\n",
        "  %reload_ext autoreload\n",
        "importing SPring8_image,gauss_function,parse_headers,Version,pandify_header from Functions on engine(s)\n"
       ]
      }
     ],
     "prompt_number": 29
    },
    {
     "cell_type": "heading",
     "level": 2,
     "metadata": {},
     "source": [
      "Create directory map"
     ]
    },
    {
     "cell_type": "code",
     "collapsed": false,
     "input": [
      "name = 'InAs0799time3'\n",
      "files = !ls ./pilatus/InAs0799/$name/*.tif\n",
      "puhsed_files = dview.push(dict(files=files))\n",
      "pushed_functions = dview.push(dict(SPring8_image = SPring8_image,\n",
      "                                    gauss_function=gauss_function,\n",
      "                                    parse_headers = parse_headers))"
     ],
     "language": "python",
     "metadata": {},
     "outputs": [],
     "prompt_number": 30
    },
    {
     "cell_type": "markdown",
     "metadata": {},
     "source": [
      "load hkl"
     ]
    },
    {
     "cell_type": "code",
     "collapsed": false,
     "input": [
      "name_hkl = 'InAs0799'\n",
      "H = loadtxt('./'+name_hkl+'/H.dat')\n",
      "L = loadtxt('./'+name_hkl+'/L.dat')\n",
      "K = loadtxt('./'+name_hkl+'/K.dat')"
     ],
     "language": "python",
     "metadata": {},
     "outputs": [],
     "prompt_number": 31
    },
    {
     "cell_type": "markdown",
     "metadata": {},
     "source": [
      "load times"
     ]
    },
    {
     "cell_type": "code",
     "collapsed": false,
     "input": [
      "spec_df = load_spec_log(name)\n",
      "time = spec_df.Time.values"
     ],
     "language": "python",
     "metadata": {},
     "outputs": [],
     "prompt_number": 32
    },
    {
     "cell_type": "heading",
     "level": 2,
     "metadata": {},
     "source": [
      "load headers"
     ]
    },
    {
     "cell_type": "code",
     "collapsed": false,
     "input": [
      "roi = {}\n",
      "samples = list( flatten( dview.map_sync(lambda x: parse_headers(x,2),files)))"
     ],
     "language": "python",
     "metadata": {},
     "outputs": [],
     "prompt_number": 33
    },
    {
     "cell_type": "code",
     "collapsed": false,
     "input": [
      "data = pandify_header(samples)\n",
      "data['Time'] = spec_df.Time.values"
     ],
     "language": "python",
     "metadata": {},
     "outputs": [],
     "prompt_number": 88
    },
    {
     "cell_type": "code",
     "collapsed": false,
     "input": [
      "data.head()"
     ],
     "language": "python",
     "metadata": {},
     "outputs": [
      {
       "html": [
        "<div style=\"max-height:1000px;max-width:1500px;overflow:auto;\">\n",
        "<table border=\"1\" class=\"dataframe\">\n",
        "  <thead>\n",
        "    <tr style=\"text-align: right;\">\n",
        "      <th></th>\n",
        "      <th>NIG</th>\n",
        "      <th>name</th>\n",
        "      <th>Monitor</th>\n",
        "      <th>Timestamp</th>\n",
        "      <th>Time</th>\n",
        "    </tr>\n",
        "  </thead>\n",
        "  <tbody>\n",
        "    <tr>\n",
        "      <th>5 </th>\n",
        "      <td> 0.000390</td>\n",
        "      <td> ./pilatus/InAs0799/InAs0799time3/InAs0799time3...</td>\n",
        "      <td> 12360</td>\n",
        "      <td> NaN</td>\n",
        "      <td> 0.003226</td>\n",
        "    </tr>\n",
        "    <tr>\n",
        "      <th>6 </th>\n",
        "      <td> 0.000392</td>\n",
        "      <td> ./pilatus/InAs0799/InAs0799time3/InAs0799time3...</td>\n",
        "      <td> 12707</td>\n",
        "      <td> NaN</td>\n",
        "      <td> 0.999416</td>\n",
        "    </tr>\n",
        "    <tr>\n",
        "      <th>11</th>\n",
        "      <td> 0.000392</td>\n",
        "      <td> ./pilatus/InAs0799/InAs0799time3/InAs0799time3...</td>\n",
        "      <td> 12273</td>\n",
        "      <td> NaN</td>\n",
        "      <td> 6.218830</td>\n",
        "    </tr>\n",
        "    <tr>\n",
        "      <th>12</th>\n",
        "      <td> 0.000392</td>\n",
        "      <td> ./pilatus/InAs0799/InAs0799time3/InAs0799time3...</td>\n",
        "      <td> 12741</td>\n",
        "      <td> NaN</td>\n",
        "      <td> 7.126620</td>\n",
        "    </tr>\n",
        "    <tr>\n",
        "      <th>13</th>\n",
        "      <td> 0.000392</td>\n",
        "      <td> ./pilatus/InAs0799/InAs0799time3/InAs0799time3...</td>\n",
        "      <td> 13010</td>\n",
        "      <td> NaN</td>\n",
        "      <td> 8.078640</td>\n",
        "    </tr>\n",
        "  </tbody>\n",
        "</table>\n",
        "</div>"
       ],
       "metadata": {},
       "output_type": "pyout",
       "prompt_number": 90,
       "text": [
        "         NIG                                               name  Monitor  \\\n",
        "5   0.000390  ./pilatus/InAs0799/InAs0799time3/InAs0799time3...    12360   \n",
        "6   0.000392  ./pilatus/InAs0799/InAs0799time3/InAs0799time3...    12707   \n",
        "11  0.000392  ./pilatus/InAs0799/InAs0799time3/InAs0799time3...    12273   \n",
        "12  0.000392  ./pilatus/InAs0799/InAs0799time3/InAs0799time3...    12741   \n",
        "13  0.000392  ./pilatus/InAs0799/InAs0799time3/InAs0799time3...    13010   \n",
        "\n",
        "   Timestamp      Time  \n",
        "5        NaN  0.003226  \n",
        "6        NaN  0.999416  \n",
        "11       NaN  6.218830  \n",
        "12       NaN  7.126620  \n",
        "13       NaN  8.078640  "
       ]
      }
     ],
     "prompt_number": 90
    },
    {
     "cell_type": "code",
     "collapsed": false,
     "input": [
      "obj = SPring8_image(data.name[100])\n",
      "obj.read_detector(2)\n",
      "image = obj.img\n",
      "image = image[70:125,90:370]\n",
      "#uncomment next line to show the laoded image for reference\n",
      "#fig,ax = subplots()\n",
      "# plt.imshow(log(image),cmap= cm.cubehelix)\n"
     ],
     "language": "python",
     "metadata": {},
     "outputs": [],
     "prompt_number": 40
    },
    {
     "cell_type": "markdown",
     "metadata": {},
     "source": [
      "load all the images in a list ordered by time"
     ]
    },
    {
     "cell_type": "code",
     "collapsed": false,
     "input": [
      "data_list= []\n",
      "for i, t , index in zip(data.name,data.Time,range(0,len(data.Time))):\n",
      "    image = SPring8_image(i)\n",
      "    image.read_detector(2)\n",
      "    image = (image.img)\n",
      "    \n",
      "    image = image[70:125,90:370]\n",
      "    \n",
      "    data_list.append(rot90(flipud(log(image)),3))  # messy to make the image look correct!\n",
      "    \n",
      "data_array = array(data_list)"
     ],
     "language": "python",
     "metadata": {},
     "outputs": [],
     "prompt_number": 41
    },
    {
     "cell_type": "markdown",
     "metadata": {},
     "source": [
      "If needed dump them to disk.."
     ]
    },
    {
     "cell_type": "code",
     "collapsed": false,
     "input": [
      "# pickle.dump(data_array, open(str(name) + 'image_slice' + \".p\", \"wb\"))"
     ],
     "language": "python",
     "metadata": {},
     "outputs": [],
     "prompt_number": 42
    },
    {
     "cell_type": "heading",
     "level": 2,
     "metadata": {},
     "source": [
      "GIT"
     ]
    },
    {
     "cell_type": "code",
     "collapsed": false,
     "input": [
      "!git add 'Napkin.ipynb'\n",
      "!git commit  -m 'trying qt, working roi but no time dep QT'"
     ],
     "language": "python",
     "metadata": {},
     "outputs": [
      {
       "output_type": "stream",
       "stream": "stdout",
       "text": [
        "[parllelpimp 19c79a9] trying qt, working roi but no time dep QT\r\n",
        " 1 file changed, 237 insertions(+), 26 deletions(-)\r\n"
       ]
      }
     ],
     "prompt_number": 220
    },
    {
     "cell_type": "heading",
     "level": 2,
     "metadata": {},
     "source": [
      "testing pq"
     ]
    },
    {
     "cell_type": "code",
     "collapsed": false,
     "input": [
      "try :\n",
      "    print app\n",
      "    print 'QT gui found skipping'\n",
      "except Exception:\n",
      "    print 'starting new qt app'\n",
      "    app = QtGui.QApplication([])"
     ],
     "language": "python",
     "metadata": {},
     "outputs": [
      {
       "output_type": "stream",
       "stream": "stdout",
       "text": [
        "<PyQt4.QtGui.QApplication object at 0x5e56e90>\n",
        "QT gui found skipping\n"
       ]
      }
     ],
     "prompt_number": 44
    },
    {
     "cell_type": "code",
     "collapsed": false,
     "input": [
      "## Create window with ImageView widget\n",
      "win = QtGui.QMainWindow()\n",
      "\n",
      "win.resize(3*shape(image)[1], 3*shape(image)[0])\n",
      "\n",
      "\n",
      "dummy_plot=  pg.PlotItem(title='Pilatus image')\n",
      "\n",
      "dummy_plot.enableAutoRange()\n",
      "\n",
      "imgView = pg.ImageView(view=dummy_plot )\n",
      "\n",
      "\n",
      "win.setCentralWidget(imgView)\n",
      "win.show()\n",
      "\n",
      "win.setWindowTitle('pyqtgraph example: ImageView 2 ')"
     ],
     "language": "python",
     "metadata": {},
     "outputs": [],
     "prompt_number": 45
    },
    {
     "cell_type": "code",
     "collapsed": false,
     "input": [
      "## Display the data and assign each frame a time value from 1.0 to 3.0\n",
      "imgView.setImage(data_array, xvals=data.Time )#, axes=  {'t':2, 'x':0, 'y':1, 'c':3},transform=)"
     ],
     "language": "python",
     "metadata": {},
     "outputs": [],
     "prompt_number": 46
    },
    {
     "cell_type": "code",
     "collapsed": false,
     "input": [
      "rois = []\n",
      "r2a = pg.PolyLineROI([[0,0], [10,10], [10,30], [30,10]], closed=True,  pen=(2,9)) \n",
      "rois.append(r2a)\n",
      "r2a = pg.PolyLineROI([[0,0], [10,10], [10,30], [30,10]], closed=True,  pen=(5,9))# green \n",
      "rois.append(r2a)"
     ],
     "language": "python",
     "metadata": {},
     "outputs": [
      {
       "output_type": "stream",
       "stream": "stdout",
       "text": [
        "\n",
        "[21:41:01]  Error sending hover exit event:\n",
        "\n",
        "    |==============================>>\n",
        "    |  Traceback (most recent call last):\n",
        "    |    File \"/usr/local/lib/python2.7/dist-packages/pyqtgraph/GraphicsScene/GraphicsScene.py\", line 317, in sendDragEvent\n",
        "    |      self.dragItem.mouseDragEvent(event)\n",
        "    |    File \"/usr/local/lib/python2.7/dist-packages/pyqtgraph/graphicsItems/ViewBox/ViewBox.py\", line 1132, in mouseDragEvent\n",
        "    |      self.translateBy(x=x, y=y)\n",
        "    |    File \"/usr/local/lib/python2.7/dist-packages/pyqtgraph/graphicsItems/ViewBox/ViewBox.py\", line 637, in translateBy\n",
        "    |      self.setRange(xRange=x, yRange=y, padding=0)\n",
        "    |    File \"/usr/local/lib/python2.7/dist-packages/pyqtgraph/graphicsItems/ViewBox/ViewBox.py\", line 440, in setRange\n",
        "    |      raise Exception(\"Must specify at least one of rect, xRange, or yRange. (gave rect=%s)\" % str(type(rect)))\n",
        "    |  Exception: Must specify at least one of rect, xRange, or yRange. (gave rect=<type 'NoneType'>)\n",
        "    |  \n",
        "    |==============================<<\n"
       ]
      }
     ],
     "prompt_number": 219
    },
    {
     "cell_type": "code",
     "collapsed": false,
     "input": [
      "## Create window with two ImageView widgets\n",
      "win = QtGui.QMainWindow()\n",
      "win.resize(800,800)\n",
      "win.setWindowTitle('pyqtgraph example: DataSlicing')\n",
      "cw = QtGui.QWidget()\n",
      "win.setCentralWidget(cw)\n",
      "l = QtGui.QGridLayout()\n",
      "cw.setLayout(l)\n",
      "imv1 = pg.ImageView()\n",
      "pw = pg.PlotWidget()\n",
      "pw2 = pg.PlotWidget()\n",
      "\n",
      "# imv2 = pg.ImageView()\n",
      "l.addWidget(imv1, 0, 0)\n",
      "l.addWidget(pw, 1, 0)\n",
      "l.addWidget(pw2, 2, 0)\n",
      "\n",
      "win.show()\n",
      "\n",
      "roi = pg.LineSegmentROI([[10, 64], [120,64]], pen='r')\n",
      "imv1.addItem(roi)\n",
      "\n",
      "data = data_array\n",
      "\n",
      "def update():\n",
      "    global data, imv1, pw, roi\n",
      "    pw.clear()\n",
      "    pw2.clear()\n",
      "    d2 = roi.getArrayRegion(data, imv1.imageItem, axes=(1,2))\n",
      "    \n",
      "    pw.plot(d2[0],pen=roi.pen)\n",
      "    pw2.plot(d2[1],pen = [5,8])\n",
      "\n",
      "roi.sigRegionChanged.connect(update)\n",
      "\n",
      "\n",
      "\n",
      "imv1.setImage(data_array, xvals=data2.Time )#, axes=  {'t':2, 'x':0, 'y':1, 'c':3},transform=)\n",
      "\n",
      "update()\n",
      "\n",
      "\n"
     ],
     "language": "python",
     "metadata": {},
     "outputs": [],
     "prompt_number": 226
    },
    {
     "cell_type": "code",
     "collapsed": false,
     "input": [
      "\n",
      "\n",
      "p1 = w.addPlot()\n",
      "p2 = w.addPlot(row=1, col=0)\n",
      "p2.hideAxis('left')\n",
      "p2.setXRange(0, 10)\n",
      "p2.vb.setMouseEnabled(False, False)\n",
      "w.ci.layout.setRowFixedHeight(1, 50)\n",
      "w.show()\n",
      "\n",
      "lr = pg.LinearRegionItem([0, 10])\n",
      "p2.addItem(lr, ignoreBounds=True)\n",
      "\n",
      "N = 10000\n",
      "data = np.random.normal(size=(N*2, 2))\n",
      "data[1::2] = data[::2] + np.random.normal(size=(N,2), scale=0.1)\n",
      "\n",
      "connect = np.ones(N*2, dtype=np.uint32)\n",
      "connect[1::2] = 0\n",
      "curve = pg.PlotCurveItem(x=data[:,0], y=data[:,1], connect=connect)\n",
      "p1.addItem(curve)\n",
      "\n",
      "times = np.linspace(0, 10, N)\n",
      "\n",
      "def update():\n",
      "    global data, curve, times, lr\n",
      "    connect = np.ones(N*2, dtype=np.uint32)\n",
      "    connect[1::2] = 0\n",
      "    start, stop = lr.getRegion()\n",
      "    connect[::2][times < start] = 0\n",
      "    connect[::2][times > stop] = 0\n",
      "    curve.setData(x=data[:,0], y=data[:,1], connect=connect)\n",
      "\n",
      "lr.sigRegionChanged.connect(update)\n",
      "update()\n"
     ],
     "language": "python",
     "metadata": {},
     "outputs": [],
     "prompt_number": 225
    },
    {
     "cell_type": "code",
     "collapsed": false,
     "input": [],
     "language": "python",
     "metadata": {},
     "outputs": []
    }
   ],
   "metadata": {}
  }
 ]
}