{
 "metadata": {
  "name": ""
 },
 "nbformat": 3,
 "nbformat_minor": 0,
 "worksheets": [
  {
   "cells": [
    {
     "cell_type": "heading",
     "level": 1,
     "metadata": {},
     "source": [
      "0799-time1a"
     ]
    },
    {
     "cell_type": "code",
     "collapsed": false,
     "input": [
      "### magics\n",
      "%pylab inline\n",
      "%reload_ext autoreload\n",
      "%autoreload  2\n",
      "%px clear\n",
      "####\n",
      "\n",
      "from Functions import *\n",
      "from IPython.parallel import Client\n",
      "import style\n",
      "css_styling()\n",
      "rc = Client()\n",
      "dview = rc[:]"
     ],
     "language": "python",
     "metadata": {},
     "outputs": [
      {
       "output_type": "stream",
       "stream": "stdout",
       "text": [
        "Populating the interactive namespace from numpy and matplotlib\n"
       ]
      },
      {
       "output_type": "stream",
       "stream": "stderr",
       "text": [
        "WARNING: pylab import has clobbered these variables: ['norm']\n",
        "`%pylab --no-import-all` prevents importing * from pylab and numpy\n",
        "ERROR: Line magic function `%px` not found.\n"
       ]
      }
     ],
     "prompt_number": 3
    },
    {
     "cell_type": "code",
     "collapsed": false,
     "input": [
      "with dview.sync_imports():\n",
      "    import time as tm\n",
      "    import numpy as np\n",
      "    import matplotlib.pyplot as plt \n",
      "    import pandas as pd\n",
      "    from scipy.ndimage import measurements as meas\n",
      "    from scipy.ndimage import center_of_mass\n",
      "    from scipy.ndimage import median_filter\n",
      "    from scipy.signal import medfilt\n",
      "    import os\n",
      "    from scipy.optimize import curve_fit\n",
      "    from matplotlib.patches import Ellipse\n",
      "    import Image\n",
      "    %px %load_ext autoreload\n",
      "    %px %autoreload 2 \n",
      "    from Functions import  SPring8_image, gauss_function, parse_sample_parallel, Version"
     ],
     "language": "python",
     "metadata": {},
     "outputs": [
      {
       "output_type": "stream",
       "stream": "stdout",
       "text": [
        "importing time on engine(s)\n",
        "importing numpy on engine(s)\n",
        "importing matplotlib.pyplot on engine(s)\n",
        "importing pandas on engine(s)\n",
        "importing measurements from scipy.ndimage on engine(s)\n",
        "importing center_of_mass from scipy.ndimage on engine(s)\n",
        "importing median_filter from scipy.ndimage on engine(s)\n",
        "importing medfilt from scipy.signal on engine(s)"
       ]
      },
      {
       "output_type": "stream",
       "stream": "stdout",
       "text": [
        "\n",
        "importing os on engine(s)\n",
        "importing curve_fit from scipy.optimize on engine(s)\n",
        "importing Ellipse from matplotlib.patches on engine(s)\n",
        "importing Image on engine(s)\n",
        "importing Again from zmq.error on engine(s)\n",
        "importing strerror,zmq_errno from zmq.backend on engine(s)\n",
        "importing SPring8_image,gauss_function,parse_sample_parallel,Version from Functions on engine(s)"
       ]
      },
      {
       "output_type": "stream",
       "stream": "stdout",
       "text": [
        "\n"
       ]
      }
     ],
     "prompt_number": 4
    },
    {
     "cell_type": "markdown",
     "metadata": {},
     "source": [
      "Matplotilb tweaks"
     ]
    },
    {
     "cell_type": "code",
     "collapsed": false,
     "input": [
      "matplotlib.rcParams.update({'font.size': 20})\n",
      "matplotlib.rcParams.update({'figure.figsize': (10.0, 8.0)})"
     ],
     "language": "python",
     "metadata": {},
     "outputs": [],
     "prompt_number": 5
    },
    {
     "cell_type": "heading",
     "level": 2,
     "metadata": {},
     "source": [
      "Create directorty map"
     ]
    },
    {
     "cell_type": "code",
     "collapsed": false,
     "input": [
      "!ls -d ./pilatus/InAs0799/*/"
     ],
     "language": "python",
     "metadata": {},
     "outputs": [
      {
       "output_type": "stream",
       "stream": "stdout",
       "text": [
        "./pilatus/InAs0799/InAs0799time1/   ./pilatus/InAs0799/InAs0799time3/\r\n",
        "./pilatus/InAs0799/InAs0799time1a/  ./pilatus/InAs0799/InAs0799time4/\r\n",
        "./pilatus/InAs0799/InAs0799time2/   ./pilatus/InAs0799/RSM/\r\n"
       ]
      }
     ],
     "prompt_number": 6
    },
    {
     "cell_type": "code",
     "collapsed": false,
     "input": [
      "name = 'InAs0799time1a'\n",
      "files = !ls ./pilatus/InAs0799/$name/*.tif\n",
      "puhsed_files = dview.push(dict(files=files))\n",
      "pushed_functions = dview.push(dict(SPring8_image=SPring8_image,\n",
      "                                   gauss_function=gauss_function,\n",
      "                                   parse_sample_parallel=parse_sample_parallel))"
     ],
     "language": "python",
     "metadata": {},
     "outputs": [],
     "prompt_number": 7
    },
    {
     "cell_type": "heading",
     "level": 2,
     "metadata": {},
     "source": [
      "Define ROIs"
     ]
    },
    {
     "cell_type": "code",
     "collapsed": false,
     "input": [
      "create_new = 'no'\n",
      "file_roi= 'pilatus/InAs0799/InAs0799time3/InAs0799time3_1_171.tif'\n",
      "name_roi = 'InAs0799'\n",
      "roi = define_roi(file_roi, name_roi, create_new)\n",
      "if create_new == 'yes': \n",
      "    message = 'testing new roi for {0}'.format(name)\n",
      "    print 'committing...'\n",
      "    !git add *.p\n",
      "    !git commit -m 'new ROI' "
     ],
     "language": "python",
     "metadata": {},
     "outputs": [
      {
       "output_type": "stream",
       "stream": "stdout",
       "text": [
        "- ROI dump found, using it !\n",
        "- using loaded ROIs\n",
        "saving to disk\n",
        "ROI found, dump it to disk\n"
       ]
      }
     ],
     "prompt_number": 8
    },
    {
     "cell_type": "heading",
     "level": 2,
     "metadata": {},
     "source": [
      "Push roi to engines"
     ]
    },
    {
     "cell_type": "code",
     "collapsed": false,
     "input": [
      "dview.block = False\n",
      "dview.push(dict(roi=roi))\n",
      "ar = dview.pull('roi', block=False)\n",
      "ar.get()"
     ],
     "language": "python",
     "metadata": {},
     "outputs": [
      {
       "metadata": {},
       "output_type": "pyout",
       "prompt_number": 9,
       "text": [
        "[{'TW': [340.0, 370.0, 60.0, 150.0],\n",
        "  'WZ': [210.0, 270.0, 60.0, 150.0],\n",
        "  'ZB': [80.0, 160.0, 60.0, 150.0]},\n",
        " {'TW': [340.0, 370.0, 60.0, 150.0],\n",
        "  'WZ': [210.0, 270.0, 60.0, 150.0],\n",
        "  'ZB': [80.0, 160.0, 60.0, 150.0]},\n",
        " {'TW': [340.0, 370.0, 60.0, 150.0],\n",
        "  'WZ': [210.0, 270.0, 60.0, 150.0],\n",
        "  'ZB': [80.0, 160.0, 60.0, 150.0]},\n",
        " {'TW': [340.0, 370.0, 60.0, 150.0],\n",
        "  'WZ': [210.0, 270.0, 60.0, 150.0],\n",
        "  'ZB': [80.0, 160.0, 60.0, 150.0]}]"
       ]
      }
     ],
     "prompt_number": 9
    },
    {
     "cell_type": "markdown",
     "metadata": {},
     "source": [
      "Check version of the loaded modules"
     ]
    },
    {
     "cell_type": "code",
     "collapsed": false,
     "input": [
      "print Version()"
     ],
     "language": "python",
     "metadata": {},
     "outputs": [
      {
       "output_type": "stream",
       "stream": "stdout",
       "text": [
        "date 2014-01-17 tale III no filter \n"
       ]
      }
     ],
     "prompt_number": 10
    },
    {
     "cell_type": "code",
     "collapsed": false,
     "input": [
      "dview.map_sync(lambda x: Version(),[1])"
     ],
     "language": "python",
     "metadata": {},
     "outputs": [
      {
       "metadata": {},
       "output_type": "pyout",
       "prompt_number": 11,
       "text": [
        "['date 2014-01-17 tale III no filter ']"
       ]
      }
     ],
     "prompt_number": 11
    },
    {
     "cell_type": "heading",
     "level": 1,
     "metadata": {},
     "source": [
      "Start parallel analysis"
     ]
    },
    {
     "cell_type": "code",
     "collapsed": false,
     "input": [
      "do_parallel_calculation = False"
     ],
     "language": "python",
     "metadata": {},
     "outputs": [],
     "prompt_number": 12
    },
    {
     "cell_type": "code",
     "collapsed": false,
     "input": [
      "if do_parallel_calculation:\n",
      "    start_time = tm.time()\n",
      "    samples = {}\n",
      "    #\n",
      "    %px i = 0 # first roi\n",
      "    i = 0\n",
      "    std = 4\n",
      "    print roi.keys()[i]\n",
      "    samples[roi.keys()[i]] = list( flatten( dview.map_sync(lambda x: parse_sample_parallel(x,roi[roi.keys()[i]],2),files)))\n",
      "    elapsed_time = tm.time() - start_time\n",
      "    print elapsed_time\n",
      "    #"
     ],
     "language": "python",
     "metadata": {},
     "outputs": [],
     "prompt_number": 13
    },
    {
     "cell_type": "code",
     "collapsed": false,
     "input": [
      "if do_parallel_calculation:\n",
      "    split_time = tm.time()\n",
      "    %px i = 1 # second roi\n",
      "    i = 1\n",
      "    %px std = 4\n",
      "    print roi.keys()[i]\n",
      "    samples[roi.keys()[i]] = list( flatten( dview.map_sync(lambda x: parse_sample_parallel(x,roi[roi.keys()[i]],2,std),files)))\n",
      "    elapsed_time = tm.time() - split_time\n",
      "    print elapsed_time\n",
      "    #"
     ],
     "language": "python",
     "metadata": {},
     "outputs": [],
     "prompt_number": 14
    },
    {
     "cell_type": "code",
     "collapsed": false,
     "input": [
      "if do_parallel_calculation:\n",
      "    split_time = tm.time()\n",
      "    %px i = 2 # third roi\n",
      "    i =2 \n",
      "    %px std = 15\n",
      "    print roi.keys()[i]\n",
      "    samples[roi.keys()[i]] = list( flatten( dview.map_sync(lambda x: parse_sample_parallel(x,roi[roi.keys()[i]],2,std),files)))\n",
      "    \n",
      "    elapsed_time = tm.time() - split_time\n",
      "    print elapsed_time\n",
      "    total_elapsed_time = tm.time() - start_time\n",
      "    print 'Total time used %s miuntes'%(total_elapsed_time/60.)"
     ],
     "language": "python",
     "metadata": {},
     "outputs": [],
     "prompt_number": 15
    },
    {
     "cell_type": "heading",
     "level": 2,
     "metadata": {},
     "source": [
      "Pand-ify data"
     ]
    },
    {
     "cell_type": "code",
     "collapsed": true,
     "input": [
      "load_from_disk = True"
     ],
     "language": "python",
     "metadata": {},
     "outputs": [],
     "prompt_number": 16
    },
    {
     "cell_type": "code",
     "collapsed": false,
     "input": [
      "spec_df = load_spec_log(name)"
     ],
     "language": "python",
     "metadata": {},
     "outputs": [],
     "prompt_number": 17
    },
    {
     "cell_type": "code",
     "collapsed": false,
     "input": [
      "if load_from_disk:\n",
      "    print 'loading from disk'\n",
      "    data = load_data_frame(name)\n",
      "    if not data:\n",
      "        print 'not found on disk, loading from memory'\n",
      "        data = pandify(samples,roi,name)\n",
      "if not load_from_disk:\n",
      "    print 'loading from memory'\n",
      "    data = pandify(samples, roi,name)\n",
      "    !git commit -a -m 'added new dataframe'"
     ],
     "language": "python",
     "metadata": {},
     "outputs": [
      {
       "output_type": "stream",
       "stream": "stdout",
       "text": [
        "loading from disk\n",
        "data frame loaded\n"
       ]
      }
     ],
     "prompt_number": 18
    },
    {
     "cell_type": "code",
     "collapsed": false,
     "input": [
      "on_off = save_suhtters(name)"
     ],
     "language": "python",
     "metadata": {},
     "outputs": [
      {
       "output_type": "stream",
       "stream": "stdout",
       "text": [
        "on_off dump found, using it !\n"
       ]
      }
     ],
     "prompt_number": 19
    },
    {
     "cell_type": "code",
     "collapsed": false,
     "input": [
      "parameters_dict = {'TW': 1000, 'WZ':300, 'ZB': 28.8}  \n",
      "save_spline_par(parameters_dict, name)\n",
      "filename = str(name) + 'spline_parameters' + \".p\"\n",
      "!git commit -m 'new spline dict' -- $filename;"
     ],
     "language": "python",
     "metadata": {},
     "outputs": [
      {
       "output_type": "stream",
       "stream": "stdout",
       "text": [
        "searching parameters_dict object\n",
        "parameters_dict object found, dumping it to disk\n"
       ]
      },
      {
       "output_type": "stream",
       "stream": "stdout",
       "text": [
        "# On branch fit_testing\r\n",
        "# Your branch is ahead of 'origin/fit_testing' by 4 commits.\r\n",
        "#   (use \"git push\" to publish your local commits)\r\n",
        "#\r\n",
        "# Changes not staged for commit:\r\n",
        "#   (use \"git add <file>...\" to update what will be committed)\r\n",
        "#   (use \"git checkout -- <file>...\" to discard changes in working directory)\r\n",
        "#\r\n",
        "#\tmodified:   0799-Time3.ipynb\r\n",
        "#\r\n",
        "# Untracked files:\r\n",
        "#   (use \"git add <file>...\" to include in what will be committed)\r\n",
        "#\r\n",
        "#\t\".\\res\\\\InAs0799time1a\"\r\n",
        "#\t.1a.png\r\n",
        "#\t.Functions.py.swp\r\n",
        "#\t\".\\\\Results\\\\InAs0799time1a\"\r\n",
        "#\t.doplot.py.swo\r\n",
        "#\t.ipynb_checkpoints/\r\n",
        "#\t.ropeproject/\r\n",
        "#\t0798time2.ipynb\r\n",
        "#\t0798time4.ipynb\r\n",
        "#\t0799-Time4.ipynb\r\n",
        "#\t0799.png\r\n",
        "#\t1.pdf\r\n",
        "#\t2.pdf\r\n",
        "#\tFunctions.pyc\r\n",
        "#\tInAs0798data_frame.csv\r\n",
        "#\tInAs0798time4shutter.p\r\n",
        "#\tInAs0798time4spline_parameters.p\r\n",
        "#\tInAs0799time1a\r\n",
        "#\tInAs0799time1adata_frame.csv\r\n",
        "#\tInAs0799time2data_frame.csv\r\n",
        "#\tInAs0799time2shutter.p_bkg\r\n",
        "#\tInAs0799time3data_frame.csv\r\n",
        "#\tInAs0799time4data_frame.csv\r\n",
        "#\tInAs0801time2adata_frame.csv\r\n",
        "#\tInAs0801time2bdata_frame.csv\r\n",
        "#\tInAs0801time3adata_frame.csv\r\n",
        "#\tMBelogs.ipynb\r\n",
        "#\tPlot for article.ipynb\r\n",
        "#\tRHEED/\r\n",
        "#\tResults/\r\n",
        "#\tSEM/\r\n",
        "#\tSPring8.sublime-project\r\n",
        "#\tSPring8.sublime-workspace\r\n",
        "#\tSpring8.sublime-project\r\n",
        "#\tSpring8.sublime-workspace\r\n",
        "#\tTEM/\r\n",
        "#\tasd.png\r\n",
        "#\tasd_deleteME\r\n",
        "#\tccd/\r\n",
        "#\tdata.csv\r\n",
        "#\tdata_frame.csv\r\n",
        "#\tdoplot.pyc\r\n",
        "#\tdrafts.ipynb\r\n",
        "#\tlog.pyc\r\n",
        "#\tlogs/\r\n",
        "#\tmatplotlibrc\r\n",
        "#\tmisc/\r\n",
        "#\told/\r\n",
        "#\tpilatus/\r\n",
        "#\tplot.pyc\r\n",
        "#\tquickplot.pyc\r\n",
        "#\tspec/\r\n",
        "#\tstrain.pdf\r\n",
        "#\tstrain_5x5.pdf\r\n",
        "#\tstyles/\r\n",
        "#\ttest.py\r\n",
        "#\ttime1data_frame.csv\r\n",
        "#\ttime2adata_frame.csv\r\n",
        "no changes added to commit (use \"git add\" and/or \"git commit -a\")\r\n"
       ]
      }
     ],
     "prompt_number": 20
    },
    {
     "cell_type": "code",
     "collapsed": false,
     "input": [
      "fig = do(data, 'WZ', parameters_dict,name)"
     ],
     "language": "python",
     "metadata": {},
     "outputs": [
      {
       "ename": "TypeError",
       "evalue": "'bool' object is not callable",
       "output_type": "pyerr",
       "traceback": [
        "\u001b[1;31m---------------------------------------------------------------------------\u001b[0m\n\u001b[1;31mTypeError\u001b[0m                                 Traceback (most recent call last)",
        "\u001b[1;32m<ipython-input-21-18dedf34c837>\u001b[0m in \u001b[0;36m<module>\u001b[1;34m()\u001b[0m\n\u001b[1;32m----> 1\u001b[1;33m \u001b[0mfig\u001b[0m \u001b[1;33m=\u001b[0m \u001b[0mdo\u001b[0m\u001b[1;33m(\u001b[0m\u001b[0mdata\u001b[0m\u001b[1;33m,\u001b[0m \u001b[1;34m'WZ'\u001b[0m\u001b[1;33m,\u001b[0m \u001b[0mparameters_dict\u001b[0m\u001b[1;33m,\u001b[0m\u001b[0mname\u001b[0m\u001b[1;33m)\u001b[0m\u001b[1;33m\u001b[0m\u001b[0m\n\u001b[0m",
        "\u001b[1;31mTypeError\u001b[0m: 'bool' object is not callable"
       ]
      }
     ],
     "prompt_number": 21
    },
    {
     "cell_type": "code",
     "collapsed": false,
     "input": [
      "fig = do(data, 'TW', parameters_dict,name)"
     ],
     "language": "python",
     "metadata": {},
     "outputs": []
    },
    {
     "cell_type": "code",
     "collapsed": false,
     "input": [
      "fig = do(data, 'ZB', parameters_dict,name)"
     ],
     "language": "python",
     "metadata": {},
     "outputs": []
    },
    {
     "cell_type": "heading",
     "level": 2,
     "metadata": {},
     "source": [
      "Strain dynamics"
     ]
    },
    {
     "cell_type": "code",
     "collapsed": false,
     "input": [
      "fig, ax = subplots(figsize=(15,10))\n",
      "ax1 = ax.twinx()\n",
      "ax2 = ax.twinx()\n",
      "ax1.plot(spec_df.Time, data.COM_x_WZ,'.', label='WZ Peak Position $\\parallel $ ', c='#FECEA8')\n",
      "ax2.plot(spec_df.Time, data.COM_y_WZ,'.', label = 'WZ Peak Position $\\perp $', c='#E84A5F')\n",
      "ax.plot(spec_df.Time, data.Int_TW, '.',label= '$I_{TW}$', c='#99B898')\n",
      "ax3 = ax.twinx()\n",
      "ax3.plot(spec_df.Time, savitzky_golay(data.Int_TW.values,15,2,1),label= r'$\\frac{dI_{TW}}{dt}$', c='#556270' ) \n",
      "update_legend(fig,7)\n",
      "\n",
      "make_spine_invisible(ax2, \"right\")\n",
      "offset_axis(ax2,1.1)\n",
      "make_spine_invisible(ax3, \"left\")\n",
      "\n",
      "offset_axis(ax3,-0.1, \"left\")\n",
      "\n",
      "ax2.grid('off')\n",
      "ax1.grid('off')\n",
      "ax.tick_params(axis='x', pad=15)\n",
      "color_ticks(fig)\n",
      "shade(on_off,ax)\n",
      "ax.set_xlabel('Time(s)')\n",
      "ax2.set_ylabel('Peak Position (pixel)')\n",
      "ax3.set_ylabel('Intensity (a.u.)')\n",
      "#ax.set_xticks(xrange(300,900,50),minor=True)\n",
      "ax.grid(True, which='both')\n",
      "\n",
      "\n",
      "tight_layout()\n",
      "\n",
      "# fig.savefig('strain.pdf')"
     ],
     "language": "python",
     "metadata": {},
     "outputs": []
    },
    {
     "cell_type": "heading",
     "level": 2,
     "metadata": {},
     "source": [
      "Growth dynamics"
     ]
    },
    {
     "cell_type": "markdown",
     "metadata": {},
     "source": [
      "WZ"
     ]
    },
    {
     "cell_type": "code",
     "collapsed": false,
     "input": [
      "fig, ax = subplots(figsize=(15,10))\n",
      "ax2 = ax.twinx()\n",
      "ax.plot(spec_df.Time, data.Int_WZ,'.', label='Int WZ ', c='#547980')\n",
      "\n",
      "#ax2.plot(spec_df.Time, smooth_deriv(data.Int_WZ.values), label = 'WZ diff ', c='#E84A5F')\n",
      "\n",
      "ax2.plot(spec_df.Time, savitzky_golay(data.Int_WZ, 15, 2, 1), label = r'$\\frac{dI_{WZ}}{dt}$', c='#DE813E')\n",
      "\n",
      "# ax2.plot(spec_df.Time, savitzky_golay(data.Int_WZ, 25, 3, 1), label = 'WZ diff ', c='#E84A5F')\n",
      "\n",
      "# ax.plot(spec_df.Time, data.Int_TW, '.',label= '$I_{TW}$', c='#99B898')\n",
      "# ax3 = ax.twinx()\n",
      "# ax3.plot(spec_df.Time, savitzky_golay(data.Int_TW.values,15,3,1),label= r'$\\frac{dI_{TW}}{dt}$', c='#556270' ) \n",
      "update_legend(fig,7)\n",
      "\n",
      "# make_spine_invisible(ax2, \"right\")\n",
      "# offset_axis(ax2,1.1)\n",
      "# make_spine_invisible(ax3, \"left\")\n",
      "\n",
      "# offset_axis(ax3,-0.1, \"left\")\n",
      "\n",
      "ax2.grid('off')\n",
      "# ax1.grid('off')\n",
      "# ax.tick_params(axis='x', pad=15)\n",
      "color_ticks(fig)\n",
      "shade(on_off,ax)\n",
      "ax.set_xlabel('Time(s)')\n",
      "ax2.set_ylabel('Peak Position (pixel)')\n",
      "ax.set_ylabel('Intensity (a.u.)')\n",
      "#ax.set_xticks(xrange(300,900,50),minor=True)\n",
      "ax2.plot(spec_df.Time, zeros(len(data)),'k--')\n",
      "ax2.axhline(y=0, ls='k')\n",
      "ax.grid(True, which='both')\n",
      "\n",
      "tight_layout()\n",
      "\n",
      "# fig.savefig('strain.pdf')"
     ],
     "language": "python",
     "metadata": {},
     "outputs": []
    },
    {
     "cell_type": "code",
     "collapsed": false,
     "input": [
      "fig, ax = subplots(figsize=(15,10))\n",
      "ax2 = ax.twinx()\n",
      "ax.plot(spec_df.Time, data.Int_TW,'.', label='Int TW ', c='#99B898')\n",
      "\n",
      "#ax2.plot(spec_df.Time, smooth_deriv(data.Int_WZ.values), label = 'WZ diff ', c='#E84A5F')\n",
      "\n",
      "ax2.plot(spec_df.Time, savitzky_golay(data.Int_TW, 15, 2, 1), label = r'$\\frac{dI_{TWZ}}{dt}$', c='#556270')\n",
      "\n",
      "# ax2.plot(spec_df.Time, savitzky_golay(data.Int_WZ, 25, 3, 1), label = 'WZ diff ', c='#E84A5F')\n",
      "\n",
      "# ax.plot(spec_df.Time, data.Int_TW, '.',label= '$I_{TW}$', c='#99B898')\n",
      "# ax3 = ax.twinx()\n",
      "# ax3.plot(spec_df.Time, savitzky_golay(data.Int_TW.values,15,3,1),label= r'$\\frac{dI_{TW}}{dt}$', c='#556270' ) \n",
      "update_legend(fig,7)\n",
      "\n",
      "# make_spine_invisible(ax2, \"right\")\n",
      "# offset_axis(ax2,1.1)\n",
      "# make_spine_invisible(ax3, \"left\")\n",
      "\n",
      "# offset_axis(ax3,-0.1, \"left\")\n",
      "\n",
      "ax2.grid('off')\n",
      "# ax1.grid('off')\n",
      "# ax.tick_params(axis='x', pad=15)\n",
      "color_ticks(fig)\n",
      "shade(on_off,ax)\n",
      "ax.set_xlabel('Time(s)')\n",
      "ax2.set_ylabel('Peak Position (pixel)')\n",
      "ax.set_ylabel('Intensity (a.u.)')\n",
      "#ax.set_xticks(xrange(300,900,50),minor=True)\n",
      "ax2.plot(spec_df.Time, zeros(len(data)),'k--')\n",
      "ax2.axhline(y=0, ls='k')\n",
      "ax.grid(True, which='both')\n",
      "\n",
      "tight_layout()\n",
      "\n",
      "# fig.savefig('strain.pdf')"
     ],
     "language": "python",
     "metadata": {},
     "outputs": []
    },
    {
     "cell_type": "code",
     "collapsed": false,
     "input": [
      "# fig, ax = subplots(figsize=(15,10))\n",
      "# ax2 = ax.twinx()\n",
      "# ax.plot(spec_df.Time, data.Int_ZB,'.', label='Int ZB ', c='#556270')\n",
      "# ax2.plot(spec_df.Time, savitzky_golay(data.Int_ZB, 15, 3, 1), label = r'$\\frac{dI_{ZB}}{dt}$', c='#E84A5F')\n",
      "# update_legend(fig,7)\n",
      "\n",
      "# ax2.grid('off')\n",
      "\n",
      "# color_ticks(fig)\n",
      "# shade(on_off,ax)\n",
      "# ax.set_xlabel('Time(s)')\n",
      "# ax2.set_ylabel('Peak Position (pixel)')\n",
      "# ax.set_ylabel('Intensity (a.u.)')\n",
      "# ax2.plot(spec_df.Time, zeros(len(data)),'k--')\n",
      "# ax2.axhline(y=0, ls='k')\n",
      "# ax.grid(True, which='both')\n",
      "\n",
      "# tight_layout()\n",
      "\n",
      "# fig.savefig('strain.pdf')"
     ],
     "language": "python",
     "metadata": {},
     "outputs": []
    },
    {
     "cell_type": "markdown",
     "metadata": {},
     "source": [
      "Comparision WZ - TW"
     ]
    },
    {
     "cell_type": "code",
     "collapsed": false,
     "input": [
      "fig, ax = subplots(figsize=(15,10))\n",
      "ax2 = ax.twinx()\n",
      "\n",
      "ax.plot(spec_df.Time, savitzky_golay(data.Int_WZ, 15, 3, 1), label = r'$\\frac{dI_{WZ}}{dt}$', c='#DE813E')\n",
      "ax2.plot(spec_df.Time, savitzky_golay(data.Int_TW, 15, 3, 1), label = r'$\\frac{dI_{TW}}{dt}$', c='#556270')\n",
      "\n",
      "update_legend(fig,7)\n",
      "\n",
      "\n",
      "ax2.grid('off')\n",
      "color_ticks(fig)\n",
      "shade(on_off,ax, lim=10)\n",
      "ax.set_xlabel('Time(s)')\n",
      "ax2.set_ylabel('Intensity (a.u.)')\n",
      "ax.set_ylabel('Intensity (a.u.)')\n",
      "ax2.plot(spec_df.Time, zeros(len(data)),'k--')\n",
      "ax2.axhline(y=0, ls='k')\n",
      "ax.grid(True, which='both')\n",
      "\n",
      "tight_layout()\n"
     ],
     "language": "python",
     "metadata": {},
     "outputs": []
    },
    {
     "cell_type": "code",
     "collapsed": false,
     "input": [
      "! git commit -m '0799-Time1a.ipynb updated '  0799-Time1a.ipynb"
     ],
     "language": "python",
     "metadata": {},
     "outputs": []
    }
   ],
   "metadata": {}
  }
 ]
}