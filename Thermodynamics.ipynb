{
 "metadata": {
  "name": ""
 },
 "nbformat": 3,
 "nbformat_minor": 0,
 "worksheets": [
  {
   "cells": [
    {
     "cell_type": "code",
     "collapsed": false,
     "input": [
      "%pylab inline\n",
      "import sympy as sym\n",
      "import numpy as np\n",
      "import quantities as pq\n",
      "from IPython.display import display, Math, Latex\n",
      "from sympy import init_printing\n",
      "init_printing() "
     ],
     "language": "python",
     "metadata": {},
     "outputs": [
      {
       "output_type": "stream",
       "stream": "stdout",
       "text": [
        "Populating the interactive namespace from numpy and matplotlib\n"
       ]
      }
     ],
     "prompt_number": 204
    },
    {
     "cell_type": "heading",
     "level": 2,
     "metadata": {},
     "source": [
      "Hertz-Knudsen Equation"
     ]
    },
    {
     "cell_type": "markdown",
     "metadata": {},
     "source": [
      "This equation can be obatained  BLA BLA BLA"
     ]
    },
    {
     "cell_type": "code",
     "collapsed": false,
     "input": [
      "F,P,M,K,T = sym.symbols(['F','P_eq','K_b','M','T'])"
     ],
     "language": "python",
     "metadata": {},
     "outputs": [],
     "prompt_number": 239
    },
    {
     "cell_type": "code",
     "collapsed": false,
     "input": [
      "eq = P / sym.sqrt(2 * M * K * T * sym.pi)\n",
      "sym.Eq(F,eq) "
     ],
     "language": "python",
     "metadata": {},
     "outputs": [
      {
       "latex": [
        "$$F = \\frac{\\sqrt{2} P_{eq}}{2 \\sqrt{\\pi} \\sqrt{K_{b} M T}}$$"
       ],
       "metadata": {},
       "output_type": "pyout",
       "png": "[encoded data removed]",
       "prompt_number": 240,
       "text": [
        "           ___         \n",
        "         \u2572\u2571 2 \u22c5P_eq    \n",
        "F = \u2500\u2500\u2500\u2500\u2500\u2500\u2500\u2500\u2500\u2500\u2500\u2500\u2500\u2500\u2500\u2500\u2500\u2500\u2500\n",
        "        ___   _________\n",
        "    2\u22c5\u2572\u2571 \u03c0 \u22c5\u2572\u2571 K_b\u22c5M\u22c5T "
       ]
      }
     ],
     "prompt_number": 240
    },
    {
     "cell_type": "markdown",
     "metadata": {},
     "source": [
      "where:\n",
      "\n",
      " - P is the pressure of the gas in Torr (BEP)\n",
      " - M is the  mass of the gas in  atomic mass unit \n",
      " - T is the absolute temperature in kelvin\n",
      " - $K_b$ is the Boltzmann constant"
     ]
    },
    {
     "cell_type": "heading",
     "level": 1,
     "metadata": {},
     "source": [
      "Indium"
     ]
    },
    {
     "cell_type": "markdown",
     "metadata": {},
     "source": [
      "Suppose a pure gas of indidum with a BEP of:"
     ]
    },
    {
     "cell_type": "code",
     "collapsed": false,
     "input": [
      "BEP = 3  * 10**(-5)   * pq.Pa  # from SPRing 8 calibratation \n",
      "BEP =  BEP.rescale(pq.torr)\n",
      "print BEP"
     ],
     "language": "python",
     "metadata": {},
     "outputs": [
      {
       "output_type": "stream",
       "stream": "stdout",
       "text": [
        "2.25018504811e-07 torr\n"
       ]
      }
     ],
     "prompt_number": 207
    },
    {
     "cell_type": "markdown",
     "metadata": {},
     "source": [
      "at absolute temperature of"
     ]
    },
    {
     "cell_type": "code",
     "collapsed": false,
     "input": [
      "T  = (855. + 274.15) * pq.degK # from SPRing 8 calibratation \n",
      "print T"
     ],
     "language": "python",
     "metadata": {},
     "outputs": [
      {
       "output_type": "stream",
       "stream": "stdout",
       "text": [
        "1129.15 K\n"
       ]
      }
     ],
     "prompt_number": 229
    },
    {
     "cell_type": "markdown",
     "metadata": {},
     "source": [
      "with a molar mass of :"
     ]
    },
    {
     "cell_type": "code",
     "collapsed": false,
     "input": [
      "# M_value = 114.82 *pq.g / pq.mol \n",
      "M_value = 114.818  * pq.atomic_mass_unit\n",
      "print M_value"
     ],
     "language": "python",
     "metadata": {},
     "outputs": [
      {
       "output_type": "stream",
       "stream": "stdout",
       "text": [
        "114.818 u\n"
       ]
      }
     ],
     "prompt_number": 230
    },
    {
     "cell_type": "code",
     "collapsed": false,
     "input": [
      "denominator =  ( 2 * M_value * \n",
      "                pq.constants.Boltzmann_constant *\n",
      "                T * np.pi )\n"
     ],
     "language": "python",
     "metadata": {},
     "outputs": [],
     "prompt_number": 231
    },
    {
     "cell_type": "code",
     "collapsed": false,
     "input": [
      "flux_in = BEP / np.sqrt( denominator)"
     ],
     "language": "python",
     "metadata": {},
     "outputs": [],
     "prompt_number": 232
    },
    {
     "cell_type": "markdown",
     "metadata": {},
     "source": [
      "then the atomic flux is"
     ]
    },
    {
     "cell_type": "code",
     "collapsed": false,
     "input": [
      "string = 'Indium~flux: %e(%s)'%(flux_in.simplified,\n",
      "                    flux_in.simplified.dimensionality.latex[1:-1])\n",
      "\n",
      "display(Math(string))"
     ],
     "language": "python",
     "metadata": {},
     "outputs": [
      {
       "latex": [
        "$$Indium~flux: 1.756201e+17(\\mathrm{\\frac{1}{(m^{2}{\\cdot}s)}})$$"
       ],
       "metadata": {},
       "output_type": "display_data",
       "text": [
        "<IPython.core.display.Math at 0x5486410>"
       ]
      }
     ],
     "prompt_number": 233
    },
    {
     "cell_type": "heading",
     "level": 1,
     "metadata": {},
     "source": [
      "Arsenic"
     ]
    },
    {
     "cell_type": "code",
     "collapsed": false,
     "input": [
      "BEP = 2.4  * 10**(-4)   * pq.Pa  # from SPRing 8 calibratation \n",
      "BEP =  BEP.rescale(pq.torr)\n",
      "print BEP\n",
      "\n",
      "\n",
      "T  = (445. + 274.15) * pq.degK # from SPRing 8 calibratation \n",
      "print T\n",
      "\n",
      "\n",
      "# M_value = 114.82 *pq.g / pq.mol \n",
      "M_value = 74.9216  * pq.atomic_mass_unit\n",
      "print M_value\n",
      "\n",
      "denominator =  ( 2 * M_value * \n",
      "                pq.constants.Boltzmann_constant *\n",
      "                T * np.pi )\n",
      "\n",
      "\n",
      "flux_as = BEP / np.sqrt( denominator)\n",
      "\n",
      "\n",
      "string = 'Arsenic~flux: %e(%s)'%(flux_as.simplified,\n",
      "                    flux_as.simplified.dimensionality.latex[1:-1])\n",
      "\n",
      "display(Math(string))"
     ],
     "language": "python",
     "metadata": {},
     "outputs": [
      {
       "output_type": "stream",
       "stream": "stdout",
       "text": [
        "1.80014803849e-06 torr\n",
        "719.15 K\n",
        "74.9216 u"
       ]
      },
      {
       "output_type": "stream",
       "stream": "stdout",
       "text": [
        "\n"
       ]
      },
      {
       "latex": [
        "$$Arsenic~flux: 2.724217e+18(\\mathrm{\\frac{1}{(m^{2}{\\cdot}s)}})$$"
       ],
       "metadata": {},
       "output_type": "display_data",
       "text": [
        "<IPython.core.display.Math at 0x5f78450>"
       ]
      }
     ],
     "prompt_number": 237
    },
    {
     "cell_type": "markdown",
     "metadata": {},
     "source": [
      "V / III ratio "
     ]
    },
    {
     "cell_type": "code",
     "collapsed": false,
     "input": [
      "print  flux_as/(flux_in)"
     ],
     "language": "python",
     "metadata": {},
     "outputs": [
      {
       "output_type": "stream",
       "stream": "stdout",
       "text": [
        "15.5119910021 dimensionless\n"
       ]
      }
     ],
     "prompt_number": 238
    },
    {
     "cell_type": "code",
     "collapsed": false,
     "input": [
      "plot([flux_as/(flux_in / i ) for i in [1,1.5,2,4,5]],'o')"
     ],
     "language": "python",
     "metadata": {},
     "outputs": [
      {
       "metadata": {},
       "output_type": "pyout",
       "prompt_number": 236,
       "text": [
        "[<matplotlib.lines.Line2D at 0x6158050>]"
       ]
      },
      {
       "metadata": {},
       "output_type": "display_data",
       "png": "[encoded data removed]",
       "text": [
        "<matplotlib.figure.Figure at 0x5f5cc50>"
       ]
      }
     ],
     "prompt_number": 236
    },
    {
     "cell_type": "markdown",
     "metadata": {},
     "source": [
      "so the V/III ratio:\n",
      "\n",
      "**goes up** when the shutter **closes ** \n",
      "\n",
      "and\n",
      "\n",
      "**goes down** when the shutter **open**"
     ]
    },
    {
     "cell_type": "code",
     "collapsed": false,
     "input": [
      "from IPython.core.display import HTML\n",
      "def css_styling():\n",
      "    styles = open(\"styles/custom.css\", \"r\").read()\n",
      "    return HTML(styles)\n",
      "css_styling()"
     ],
     "language": "python",
     "metadata": {},
     "outputs": [
      {
       "html": [
        "<style>\n",
        "    @font-face {\n",
        "                font-family: 'HelveticaNeue-UltraLight', 'Helvetica Neue UltraLight', 'Helvetica Neue', Arial, Helvetica, sans-serif; font-weight: 100; letter-spacing: 1px;\n",
        "    }\n",
        "    div.cell{\n",
        "        width: 90%;\n",
        "        margin-left:auto;\n",
        "        margin-right:auto;\n",
        "    }\n",
        "    ul {\n",
        "        line-height: 145%;\n",
        "        font-size: 90%;\n",
        "    }\n",
        "    li {\n",
        "        margin-bottom: 1em;\n",
        "    }\n",
        "    h1 {\n",
        "        font-family: 'HelveticaNeue-UltraLight', 'Helvetica Neue UltraLight', 'Helvetica Neue', Arial, Helvetica, sans-serif; font-weight: 500; letter-spacing: 1px;\n",
        "    }\n",
        "    h4{\n",
        "        margin-top: 12px;\n",
        "        margin-bottom: 3px;\n",
        "       }\n",
        "    div.text_cell_render{\n",
        "        font-family: 'HelveticaNeue-Light', 'Helvetica Neue Light', 'Helvetica Neue', Arial, Helvetica, sans-serif; font-weight: 100; letter-spacing: 1px;       \n",
        "        line-height: 105%;\n",
        "        font-size: 11pt;\n",
        "        width: 90%;\n",
        "        margin-left:auto;\n",
        "        margin-right:auto;\n",
        "    }\n",
        "    .CodeMirror{\n",
        "family    }\n",
        "/*    .prompt{\n",
        "        display: None;\n",
        "    }*/\n",
        "    .text_cell_render h5 {\n",
        "        font-weight: 300;\n",
        "        font-size: 16pt;\n",
        "        color: #4057A1;\n",
        "        font-style: italic;\n",
        "        margin-bottom: 0.5em;\n",
        "        margin-top: 0.5em;\n",
        "        display: block;\n",
        "    }\n",
        "\n",
        "    div.text_cell_render h1 {\n",
        "        font-family: 'HelveticaNeue-UltraLight', 'Helvetica Neue UltraLight', 'Helvetica Neue', Arial, Helvetica, sans-serif; font-weight: 500; letter-spacing: 1px;       \n",
        "        line-height: 145%;\n",
        "        font-size: 30pt;\n",
        "        color: #333333;\n",
        "        width: 90%;\n",
        "        margin-left:auto;\n",
        "        margin-right:auto;   \n",
        "    }\n",
        "\n",
        "    div.text_cell_render h2{\n",
        "        font-family: 'HelveticaNeue-UltraLight', 'Helvetica Neue UltraLight', 'Helvetica Neue', Arial, Helvetica, sans-serif; font-weight: 500; letter-spacing: 1px;       \n",
        "        color:#FF5200;\n",
        "\n",
        "    }\n",
        "    .warning{\n",
        "        color: rgb( 240, 20, 20 )\n",
        "        }\n",
        "\n",
        "    div.output {\n",
        "        /*max-width:900px;*/\n",
        "        /*width: 99%;*/\n",
        "        text-align: center;\n",
        "        width: 90%;\n",
        "        margin-left:auto;\n",
        "        margin-right:auto;\n",
        "\n",
        "    }\n",
        "</style>\n",
        "<script>\n",
        "    MathJax.Hub.Config({\n",
        "                        TeX: {\n",
        "                           extensions: [\"AMSmath.js\"]\n",
        "                           },\n",
        "                tex2jax: {\n",
        "                    inlineMath: [ ['$','$'], [\"\\\\(\",\"\\\\)\"] ],\n",
        "                    displayMath: [ ['$$','$$'], [\"\\\\[\",\"\\\\]\"] ]\n",
        "                },\n",
        "                displayAlign: 'center', // Change this to 'center' to center equations.\n",
        "                \"HTML-CSS\": {\n",
        "                    styles: {'.MathJax_Display': {\"margin\": 4}}\n",
        "                }\n",
        "        });\n",
        "</script>"
       ],
       "metadata": {},
       "output_type": "pyout",
       "prompt_number": 214,
       "text": [
        "<IPython.core.display.HTML at 0x2e8ea50>"
       ]
      }
     ],
     "prompt_number": 214
    },
    {
     "cell_type": "code",
     "collapsed": false,
     "input": [],
     "language": "python",
     "metadata": {},
     "outputs": []
    }
   ],
   "metadata": {}
  }
 ]
}