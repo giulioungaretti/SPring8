{
 "metadata": {
  "name": ""
 },
 "nbformat": 3,
 "nbformat_minor": 0,
 "worksheets": [
  {
   "cells": [
    {
     "cell_type": "code",
     "collapsed": false,
     "input": [
      "%pylab inline"
     ],
     "language": "python",
     "metadata": {},
     "outputs": [
      {
       "output_type": "stream",
       "stream": "stdout",
       "text": [
        "Populating the interactive namespace from numpy and matplotlib\n"
       ]
      }
     ],
     "prompt_number": 1
    },
    {
     "cell_type": "code",
     "collapsed": false,
     "input": [
      "from Functions import *\n",
      "from quickplot import *\n",
      "import plotly "
     ],
     "language": "python",
     "metadata": {},
     "outputs": [],
     "prompt_number": 2
    },
    {
     "cell_type": "code",
     "collapsed": false,
     "input": [
      "ply = plotly.plotly('giulio','622ge3l1ww')"
     ],
     "language": "python",
     "metadata": {},
     "outputs": [],
     "prompt_number": 3
    },
    {
     "cell_type": "code",
     "collapsed": false,
     "input": [
      "data, parameters_dict, on_off, offset_list = loadme('time2a')"
     ],
     "language": "python",
     "metadata": {},
     "outputs": [
      {
       "output_type": "stream",
       "stream": "stdout",
       "text": [
        "data frame loaded\n",
        "parameters_dict loaded\n",
        "on_off dump found, using it !\n",
        "on off loaded\n",
        "offset_list done\n"
       ]
      }
     ],
     "prompt_number": 4
    },
    {
     "cell_type": "code",
     "collapsed": false,
     "input": [
      "# http://www.colourlovers.com/palette/1930/cheer_up_emo_kid \n",
      "c = [\n",
      "    '#556270',  # mighty slate\n",
      "    '#4ECDC4',  # Pacificaa\n",
      "    '#C7F464',  # apple chic\n",
      "    '#FF6B6B',  # cherry pink\n",
      "    ]\n"
     ],
     "language": "python",
     "metadata": {},
     "outputs": [],
     "prompt_number": 5
    },
    {
     "cell_type": "code",
     "collapsed": false,
     "input": [
      "layout = {\n",
      "          'xaxis':{'showgrid':True,'zeroline':False, 'title': 'Time(s)'},\n",
      "    'yaxis': {\n",
      "        'domain': [0, 1],\n",
      "        \"title\": \"NIG  (Pa)\",\n",
      "#         'gridcolor': 'white',\n",
      "        \"titlefont\": {\"color\": c[1]},\n",
      "        \"tickfont\": {\"color\": c[1]}},\n",
      "    'yaxis2': {\n",
      "        \"overlaying\": \"y\",\n",
      "        \"side\": \"right\",\n",
      "        \"anchor\": \"x\",\n",
      "        'gridcolor': 'white',\n",
      "        \"title\": \"Normalized intensity  (a.u.)\",\n",
      "        \"titlefont\": {\"color\": c[3]},\n",
      "        \"tickfont\": {\"color\": c[3]}},\n",
      "    'plot_bgcolor': 'rgb(233,233,233)',\n",
      "}"
     ],
     "language": "python",
     "metadata": {},
     "outputs": [],
     "prompt_number": 41
    },
    {
     "cell_type": "code",
     "collapsed": false,
     "input": [
      "x = data.index"
     ],
     "language": "python",
     "metadata": {},
     "outputs": [],
     "prompt_number": 42
    },
    {
     "cell_type": "code",
     "collapsed": false,
     "input": [
      "y = data.Int_WZ\n",
      "xs_WZ, ys_WZ, d_ys_WZ, dd_ys_WZ = spline_do(\n",
      "        x, y, [None], n=3, s=parameters_dict['WZ'], k=3, plot=False)\n",
      "y = data.Int_TW\n",
      "xs_TW, ys_TW, d_ys_TW, dd_ys_TW = spline_do(\n",
      "        x, y, [None], n=3, s=parameters_dict['TW'], k=3, plot=False)"
     ],
     "language": "python",
     "metadata": {},
     "outputs": [],
     "prompt_number": 43
    },
    {
     "cell_type": "code",
     "collapsed": false,
     "input": [
      "diff = (norm(d_ys_WZ) - norm(d_ys_TW))"
     ],
     "language": "python",
     "metadata": {},
     "outputs": [],
     "prompt_number": 44
    },
    {
     "cell_type": "code",
     "collapsed": false,
     "input": [
      "data_plot = [{'x': x[data.NIG != 1].values,\n",
      "          'y':data.NIG[data.NIG != 1].values,\n",
      "          'name': data.NIG.name,\n",
      "          'line':{'color':c[1]},\n",
      "          'yaxis':'y'}]\n",
      "data_plot.append({'x':xs_TW,\n",
      "                  'y': diff,\n",
      "                  'name' :'$\\delta I_{WZ} - \\delta I_{TW}$',\n",
      "                  'line':{'color':c[3]},\n",
      "                  'yaxis':'y2'\n",
      "                  })"
     ],
     "language": "python",
     "metadata": {},
     "outputs": [],
     "prompt_number": 45
    },
    {
     "cell_type": "code",
     "collapsed": false,
     "input": [
      "ply.iplot(data_plot,layout=layout)"
     ],
     "language": "python",
     "metadata": {},
     "outputs": [
      {
       "output_type": "stream",
       "stream": "stdout",
       "text": [
        "\n",
        "\n",
        "\n"
       ]
      },
      {
       "html": [
        "<iframe height=\"650\" id=\"igraph\" scrolling=\"no\" seamless=\"seamless\" src=\"https://plot.ly/~giulio/49/600/600\" width=\"650\"></iframe>"
       ],
       "metadata": {},
       "output_type": "pyout",
       "prompt_number": 46,
       "text": [
        "<IPython.core.display.HTML at 0x4c83390>"
       ]
      }
     ],
     "prompt_number": 46
    }
   ],
   "metadata": {}
  }
 ]
}