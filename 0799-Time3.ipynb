{
 "metadata": {
  "name": ""
 },
 "nbformat": 3,
 "nbformat_minor": 0,
 "worksheets": [
  {
   "cells": [
    {
     "cell_type": "heading",
     "level": 1,
     "metadata": {},
     "source": [
      "0799-Time3"
     ]
    },
    {
     "cell_type": "markdown",
     "metadata": {},
     "source": [
      "Autoreload modules locally "
     ]
    },
    {
     "cell_type": "code",
     "collapsed": false,
     "input": [
      "### magics\n",
      "%pylab \n",
      "%reload_ext autoreload\n",
      "%autoreload  2\n",
      "%px clear\n",
      "####\n",
      "\n",
      "from Functions import *\n",
      "from IPython.parallel import Client\n",
      "import style\n",
      "css_styling()\n",
      "rc = Client()\n",
      "dview = rc[:]\n"
     ],
     "language": "python",
     "metadata": {},
     "outputs": [
      {
       "output_type": "stream",
       "stream": "stdout",
       "text": [
        "Using matplotlib backend: Qt4Agg\n",
        "Populating the interactive namespace from numpy and matplotlib\n"
       ]
      },
      {
       "output_type": "stream",
       "stream": "stderr",
       "text": [
        "ERROR: Line magic function `%px` not found.\n"
       ]
      }
     ],
     "prompt_number": 2
    },
    {
     "cell_type": "code",
     "collapsed": false,
     "input": [
      "with dview.sync_imports():\n",
      "    import time as tm\n",
      "    import numpy as np\n",
      "    import matplotlib.pyplot as plt \n",
      "    import pandas as pd\n",
      "    from scipy.ndimage import measurements as meas\n",
      "    from scipy.ndimage import center_of_mass\n",
      "    from scipy.ndimage import median_filter\n",
      "    from scipy.signal import medfilt\n",
      "    import os\n",
      "    from scipy.optimize import curve_fit\n",
      "    from matplotlib.patches import Ellipse\n",
      "    import Image\n",
      "    %px %load_ext autoreload\n",
      "    %px %autoreload 2 \n",
      "    from Functions import  SPring8_image, gauss_function, parse_sample_parallel, Version"
     ],
     "language": "python",
     "metadata": {},
     "outputs": [
      {
       "output_type": "stream",
       "stream": "stdout",
       "text": [
        "importing time on engine(s)\n",
        "importing numpy on engine(s)\n",
        "importing matplotlib.pyplot on engine(s)\n",
        "importing pandas on engine(s)\n",
        "importing measurements from scipy.ndimage on engine(s)\n",
        "importing center_of_mass from scipy.ndimage on engine(s)\n",
        "importing median_filter from scipy.ndimage on engine(s)\n",
        "importing medfilt from scipy.signal on engine(s)"
       ]
      },
      {
       "output_type": "stream",
       "stream": "stdout",
       "text": [
        "\n",
        "importing os on engine(s)\n",
        "importing curve_fit from scipy.optimize on engine(s)\n",
        "importing Ellipse from matplotlib.patches on engine(s)\n",
        "importing Image on engine(s)\n",
        "importing Again from zmq.error on engine(s)\n",
        "importing strerror,zmq_errno from zmq.backend on engine(s)\n",
        "[stdout:0] \n",
        "The autoreload extension is already loaded. To reload it, use:\n",
        "  %reload_ext autoreload\n"
       ]
      },
      {
       "output_type": "stream",
       "stream": "stdout",
       "text": [
        "[stdout:1] \n",
        "The autoreload extension is already loaded. To reload it, use:\n",
        "  %reload_ext autoreload\n",
        "[stdout:2] \n",
        "The autoreload extension is already loaded. To reload it, use:\n",
        "  %reload_ext autoreload\n",
        "[stdout:3] \n",
        "The autoreload extension is already loaded. To reload it, use:\n",
        "  %reload_ext autoreload\n",
        "importing SPring8_image,gauss_function,parse_sample_parallel,Version from Functions on engine(s)\n"
       ]
      }
     ],
     "prompt_number": 3
    },
    {
     "cell_type": "code",
     "collapsed": false,
     "input": [
      "matplotlib.rcParams.update({'font.size': 20})\n",
      "matplotlib.rcParams.update({'figure.figsize': (10.0, 8.0)})"
     ],
     "language": "python",
     "metadata": {},
     "outputs": [],
     "prompt_number": 5
    },
    {
     "cell_type": "heading",
     "level": 2,
     "metadata": {},
     "source": [
      "Create directorty map"
     ]
    },
    {
     "cell_type": "code",
     "collapsed": false,
     "input": [
      "!ls -d ./pilatus/InAs0799/*/"
     ],
     "language": "python",
     "metadata": {},
     "outputs": [
      {
       "output_type": "stream",
       "stream": "stdout",
       "text": [
        "./pilatus/InAs0799/InAs0799time1/   ./pilatus/InAs0799/InAs0799time3/\r\n",
        "./pilatus/InAs0799/InAs0799time1a/  ./pilatus/InAs0799/InAs0799time4/\r\n",
        "./pilatus/InAs0799/InAs0799time2/   ./pilatus/InAs0799/RSM/\r\n"
       ]
      }
     ],
     "prompt_number": 6
    },
    {
     "cell_type": "code",
     "collapsed": false,
     "input": [
      "name = 'InAs0799time3'\n",
      "files = !ls ./pilatus/InAs0799/$name/*.tif\n"
     ],
     "language": "python",
     "metadata": {},
     "outputs": [],
     "prompt_number": 7
    },
    {
     "cell_type": "code",
     "collapsed": false,
     "input": [
      "len(files)"
     ],
     "language": "python",
     "metadata": {},
     "outputs": [
      {
       "metadata": {},
       "output_type": "pyout",
       "prompt_number": 8,
       "text": [
        "771"
       ]
      }
     ],
     "prompt_number": 8
    },
    {
     "cell_type": "heading",
     "level": 2,
     "metadata": {},
     "source": [
      "Push to Engines"
     ]
    },
    {
     "cell_type": "code",
     "collapsed": false,
     "input": [
      "puhsed_files = dview.push(dict(files=files))\n",
      "\n",
      "pushed_functions = dview.push(dict(SPring8_image = SPring8_image,\n",
      "                                    gauss_function = gauss_function,\n",
      "                                    parse_sample_parallel = parse_sample_parallel,\n",
      "                                    Version = Version ))"
     ],
     "language": "python",
     "metadata": {},
     "outputs": [],
     "prompt_number": 9
    },
    {
     "cell_type": "heading",
     "level": 2,
     "metadata": {},
     "source": [
      "Define ROIs"
     ]
    },
    {
     "cell_type": "code",
     "collapsed": false,
     "input": [
      "roi = define_roi(files,name)"
     ],
     "language": "python",
     "metadata": {},
     "outputs": [
      {
       "output_type": "stream",
       "stream": "stdout",
       "text": [
        "- ROI dump found, using it !\n",
        "- using loaded ROIs\n",
        "- ROI-dump-file found\n",
        "---------------------\n",
        "done\n"
       ]
      }
     ],
     "prompt_number": 10
    },
    {
     "cell_type": "heading",
     "level": 2,
     "metadata": {},
     "source": [
      "Push roi to engines"
     ]
    },
    {
     "cell_type": "code",
     "collapsed": false,
     "input": [
      "dview.block = False\n",
      "dview.push(dict(roi=roi))\n",
      "ar = dview.pull('roi', block=False)\n",
      "ar.get()"
     ],
     "language": "python",
     "metadata": {},
     "outputs": [
      {
       "metadata": {},
       "output_type": "pyout",
       "prompt_number": 11,
       "text": [
        "[{'TW': [320.0, 370.0, 70.0, 125.0],\n",
        "  'WZ': [220.0, 260.0, 70.0, 120.0],\n",
        "  'ZB': [90.0, 140.0, 70.0, 120.0]},\n",
        " {'TW': [320.0, 370.0, 70.0, 125.0],\n",
        "  'WZ': [220.0, 260.0, 70.0, 120.0],\n",
        "  'ZB': [90.0, 140.0, 70.0, 120.0]},\n",
        " {'TW': [320.0, 370.0, 70.0, 125.0],\n",
        "  'WZ': [220.0, 260.0, 70.0, 120.0],\n",
        "  'ZB': [90.0, 140.0, 70.0, 120.0]},\n",
        " {'TW': [320.0, 370.0, 70.0, 125.0],\n",
        "  'WZ': [220.0, 260.0, 70.0, 120.0],\n",
        "  'ZB': [90.0, 140.0, 70.0, 120.0]}]"
       ]
      }
     ],
     "prompt_number": 11
    },
    {
     "cell_type": "markdown",
     "metadata": {},
     "source": [
      "Check version of the loaded modules."
     ]
    },
    {
     "cell_type": "code",
     "collapsed": false,
     "input": [
      "print Version()"
     ],
     "language": "python",
     "metadata": {},
     "outputs": [
      {
       "output_type": "stream",
       "stream": "stdout",
       "text": [
        "date 2014-01-17 tale II \n"
       ]
      }
     ],
     "prompt_number": 12
    },
    {
     "cell_type": "code",
     "collapsed": false,
     "input": [
      "dview.map_sync(lambda x: Version(),[1])"
     ],
     "language": "python",
     "metadata": {},
     "outputs": [
      {
       "metadata": {},
       "output_type": "pyout",
       "prompt_number": 13,
       "text": [
        "['date 2014-01-17 tale II ']"
       ]
      }
     ],
     "prompt_number": 13
    },
    {
     "cell_type": "heading",
     "level": 1,
     "metadata": {},
     "source": [
      "Start parallel analysis"
     ]
    },
    {
     "cell_type": "code",
     "collapsed": false,
     "input": [
      "start_time = tm.time()\n",
      "samples = {}\n",
      "#\n",
      "%px i = 0 # first roi\n",
      "i = 0\n",
      "std = 10\n",
      "print roi.keys()[i]\n",
      "samples[roi.keys()[i]] = list( flatten( dview.map_sync(lambda x: parse_sample_parallel(x,roi[roi.keys()[i]],2),files)))\n",
      "elapsed_time = tm.time() - start_time\n",
      "print elapsed_time\n",
      "#"
     ],
     "language": "python",
     "metadata": {},
     "outputs": [
      {
       "output_type": "stream",
       "stream": "stdout",
       "text": [
        "TW\n",
        "40.6119990349"
       ]
      },
      {
       "output_type": "stream",
       "stream": "stdout",
       "text": [
        "\n"
       ]
      }
     ],
     "prompt_number": 14
    },
    {
     "cell_type": "code",
     "collapsed": false,
     "input": [
      "#\n",
      "split_time = tm.time()\n",
      "%px i = 1 # second roi\n",
      "i = 1\n",
      "%px std = 4\n",
      "print roi.keys()[i]\n",
      "samples[roi.keys()[i]] = list( flatten( dview.map_sync(lambda x: parse_sample_parallel(x,roi[roi.keys()[i]],2,std),files)))\n",
      "elapsed_time = tm.time() - split_time\n",
      "print elapsed_time\n",
      "#"
     ],
     "language": "python",
     "metadata": {},
     "outputs": [
      {
       "output_type": "stream",
       "stream": "stdout",
       "text": [
        "WZ\n",
        "39.5638511181"
       ]
      },
      {
       "output_type": "stream",
       "stream": "stdout",
       "text": [
        "\n"
       ]
      }
     ],
     "prompt_number": 15
    },
    {
     "cell_type": "code",
     "collapsed": false,
     "input": [
      "split_time = tm.time()\n",
      "%px i = 2 # third roi\n",
      "i =2 \n",
      "%px std = 10\n",
      "print roi.keys()[i]\n",
      "samples[roi.keys()[i]] = list( flatten( dview.map_sync(lambda x: parse_sample_parallel(x,roi[roi.keys()[i]],2,std),files)))\n",
      "\n",
      "elapsed_time = tm.time() - split_time\n",
      "print elapsed_time\n",
      "total_elapsed_time = tm.time() - start_time\n",
      "print 'Total time used %s miuntes'%(total_elapsed_time/60.)"
     ],
     "language": "python",
     "metadata": {},
     "outputs": [
      {
       "output_type": "stream",
       "stream": "stdout",
       "text": [
        "ZB\n",
        "41.9538691044"
       ]
      },
      {
       "output_type": "stream",
       "stream": "stdout",
       "text": [
        "\n",
        "Total time used 2.0367956837 miuntes\n"
       ]
      }
     ],
     "prompt_number": 16
    },
    {
     "cell_type": "heading",
     "level": 2,
     "metadata": {},
     "source": [
      "Pand-ify data"
     ]
    },
    {
     "cell_type": "code",
     "collapsed": false,
     "input": [
      "load = False"
     ],
     "language": "python",
     "metadata": {},
     "outputs": [],
     "prompt_number": 28
    },
    {
     "cell_type": "code",
     "collapsed": false,
     "input": [
      "if load:\n",
      "    data = load_data_frame(name)\n",
      "    if not data:\n",
      "        print 'not found, loading from memory'\n",
      "        data = pandify(samples,roi,name)\n",
      "if not load:\n",
      "    print 'loading from memory'\n",
      "    data = pandify(samples,roi,name)"
     ],
     "language": "python",
     "metadata": {},
     "outputs": [
      {
       "output_type": "stream",
       "stream": "stdout",
       "text": [
        "loading from memory\n"
       ]
      }
     ],
     "prompt_number": 29
    },
    {
     "cell_type": "code",
     "collapsed": false,
     "input": [
      "on_off = save_suhtters(name)"
     ],
     "language": "python",
     "metadata": {},
     "outputs": [
      {
       "output_type": "stream",
       "stream": "stdout",
       "text": [
        "on_off dump found, using it !\n"
       ]
      }
     ],
     "prompt_number": 21
    },
    {
     "cell_type": "markdown",
     "metadata": {},
     "source": [
      "Define an off_set for the shutter opening/closing effect. very empirical !"
     ]
    },
    {
     "cell_type": "code",
     "collapsed": false,
     "input": [
      "parameters_dict = {'TW': 200, 'WZ':2.1, 'ZB': 28.8} # 2,200,28.8\n",
      "save_spline_par(parameters_dict, name)"
     ],
     "language": "python",
     "metadata": {},
     "outputs": [
      {
       "output_type": "stream",
       "stream": "stdout",
       "text": [
        "searching parameters_dict object\n",
        "parameters_dict object found, dumping it to disk\n"
       ]
      }
     ],
     "prompt_number": 22
    },
    {
     "cell_type": "code",
     "collapsed": false,
     "input": [
      "fig = do(data, 'WZ', parameters_dict,name)"
     ],
     "language": "python",
     "metadata": {},
     "outputs": [
      {
       "output_type": "stream",
       "stream": "stdout",
       "text": [
        "on_off dump found, using it !\n",
        "ok"
       ]
      },
      {
       "output_type": "stream",
       "stream": "stdout",
       "text": [
        "\n"
       ]
      }
     ],
     "prompt_number": 23
    },
    {
     "cell_type": "code",
     "collapsed": false,
     "input": [
      "fig = do(data, 'TW', parameters_dict,name)"
     ],
     "language": "python",
     "metadata": {},
     "outputs": [
      {
       "output_type": "stream",
       "stream": "stdout",
       "text": [
        "on_off dump found, using it !\n",
        "ok"
       ]
      },
      {
       "output_type": "stream",
       "stream": "stdout",
       "text": [
        "\n"
       ]
      }
     ],
     "prompt_number": 24
    },
    {
     "cell_type": "code",
     "collapsed": false,
     "input": [
      "fig = do(data, 'ZB', parameters_dict,name)"
     ],
     "language": "python",
     "metadata": {},
     "outputs": [
      {
       "output_type": "stream",
       "stream": "stdout",
       "text": [
        "on_off dump found, using it !\n",
        "ok"
       ]
      },
      {
       "output_type": "stream",
       "stream": "stdout",
       "text": [
        "\n"
       ]
      }
     ],
     "prompt_number": 25
    },
    {
     "cell_type": "code",
     "collapsed": false,
     "input": [
      "fig, ax = subplots(figsize=(15,10))\n",
      "ax1 = ax.twinx()\n",
      "ax2 = ax.twinx()\n",
      "ax1.plot(data.index, data.COM_x_WZ,'.', label='WZ Peak Position $\\parallel $ ', c='#FECEA8')\n",
      "ax2.plot(data.index, data.COM_y_WZ,'.', label = 'WZ Peak Position $\\perp $', c='#E84A5F')\n",
      "ax.plot(data.index, data.Int_TW, '.',label= '$I_{TW}$', c='#99B898')\n",
      "ax3 = ax.twinx()\n",
      "ax3.plot(data.index, smooth_deriv(savitzky_golay(data.Int_TW.values,3,1),15),label= r'$\\frac{dI_{TW}}{dt}$', c='#556270' ) \n",
      "update_legend(fig,7)\n",
      "\n",
      "make_spine_invisible(ax2, \"right\")\n",
      "offset_axis(ax2,1.1)\n",
      "make_spine_invisible(ax3, \"left\")\n",
      "\n",
      "offset_axis(ax3,-0.1, \"left\")\n",
      "\n",
      "ax2.grid('off')\n",
      "ax1.grid('off')\n",
      "ax.tick_params(axis='x', pad=15)\n",
      "color_ticks(fig)\n",
      "shade(on_off,ax,data)\n",
      "ax.set_xlabel('Time(s)')\n",
      "ax2.set_ylabel('Peak Position (pixel)')\n",
      "ax3.set_ylabel('Intensity (a.u.)')\n",
      "ax.set_xticks(xrange(300,900,50),minor=True)\n",
      "ax.grid(True, which='both')\n",
      "\n",
      "\n",
      "tight_layout()\n",
      "\n",
      "fig.savefig('strain.pdf')"
     ],
     "language": "python",
     "metadata": {},
     "outputs": [],
     "prompt_number": 38
    },
    {
     "cell_type": "code",
     "collapsed": false,
     "input": [
      "fig, ax = subplots(figsize=(15,10))\n",
      "\n",
      "ax.plot(data.index, data.Int_WZ, '.',label= '$I_{TW}$', c='#99B898')\n",
      "ax3 = ax.twinx()\n",
      "ax3.plot(data.index, smooth_deriv(data.Int_WZ.values,15),label= r'$\\frac{dI_{TW}}{dt}$', c='r' ) \n",
      "\n",
      "ax3.plot(data.index, smooth_deriv(data.Int_WZ.values,25),label= r'$\\frac{dI_{TW}}{dt}$', c='#556270' ) \n",
      "\n",
      "ax3.plot(data.index, smooth_deriv(data.Int_WZ.values,35),label= r'$\\frac{dI_{TW}}{dt}$', c='y' ) \n",
      "\n",
      "update_legend(fig,7)\n",
      "\n",
      "make_spine_invisible(ax3, \"right\")\n",
      "offset_axis(ax3,1.1)\n",
      "\n",
      "\n",
      "ax2.grid('off')\n",
      "ax1.grid('off')\n",
      "ax.tick_params(axis='x', pad=15)\n",
      "color_ticks(fig)\n",
      "shade(on_off,ax,data)\n",
      "ax.set_xlabel('Time(s)')\n",
      "ax2.set_ylabel('Peak Position (pixel)')\n",
      "ax3.set_ylabel('Intensity (a.u.)')\n",
      "ax.set_xticks(xrange(300,900,50),minor=True)\n",
      "ax.grid(True, which='both')\n",
      "\n",
      "\n",
      "tight_layout()\n",
      "\n",
      "fig.savefig('strain.pdf')"
     ],
     "language": "python",
     "metadata": {},
     "outputs": [
      {
       "output_type": "stream",
       "stream": "stdout",
       "text": [
        "check the result\n"
       ]
      }
     ],
     "prompt_number": 45
    },
    {
     "cell_type": "code",
     "collapsed": false,
     "input": [],
     "language": "python",
     "metadata": {},
     "outputs": []
    }
   ],
   "metadata": {}
  }
 ]
}