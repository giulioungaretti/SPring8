{
 "metadata": {
  "name": ""
 },
 "nbformat": 3,
 "nbformat_minor": 0,
 "worksheets": [
  {
   "cells": [
    {
     "cell_type": "heading",
     "level": 1,
     "metadata": {},
     "source": [
      "0799-Time3"
     ]
    },
    {
     "cell_type": "markdown",
     "metadata": {},
     "source": [
      "Autoreload modules locally "
     ]
    },
    {
     "cell_type": "code",
     "collapsed": false,
     "input": [
      "### magics\n",
      "%pylab \n",
      "%reload_ext autoreload\n",
      "%autoreload  2\n",
      "# %px clear\n",
      "# ####\n",
      "\n",
      "from Functions import *\n",
      "from Functions import load_spec_log\n",
      "from IPython.parallel import Client\n",
      "# import style\n",
      "# css_styling()\n",
      "rc = Client()\n",
      "dview = rc[:]\n"
     ],
     "language": "python",
     "metadata": {},
     "outputs": [
      {
       "output_type": "stream",
       "stream": "stdout",
       "text": [
        "Using matplotlib backend: Qt4Agg\n",
        "Populating the interactive namespace from numpy and matplotlib\n"
       ]
      },
      {
       "output_type": "stream",
       "stream": "stderr",
       "text": [
        "WARNING: pylab import has clobbered these variables: ['norm', 'rc', 'std']\n",
        "`%pylab --no-import-all` prevents importing * from pylab and numpy\n"
       ]
      }
     ],
     "prompt_number": 173
    },
    {
     "cell_type": "code",
     "collapsed": false,
     "input": [
      "with dview.sync_imports():\n",
      "    import time as tm\n",
      "    import numpy as np\n",
      "    import matplotlib.pyplot as plt \n",
      "    import pandas as pd\n",
      "    from scipy.ndimage import measurements as meas\n",
      "    from scipy.ndimage import center_of_mass\n",
      "    from scipy.ndimage import median_filter\n",
      "    from scipy.signal import medfilt\n",
      "    import os\n",
      "    from scipy.optimize import curve_fit\n",
      "    from matplotlib.patches import Ellipse\n",
      "    import Image\n",
      "    %px %load_ext autoreload\n",
      "    %px %autoreload 2 \n",
      "    from Functions import  SPring8_image, gauss_function, parse_sample_parallel, Version"
     ],
     "language": "python",
     "metadata": {},
     "outputs": [
      {
       "output_type": "stream",
       "stream": "stdout",
       "text": [
        "importing time on engine(s)\n",
        "importing numpy on engine(s)\n",
        "importing matplotlib.pyplot on engine(s)\n",
        "importing pandas on engine(s)\n",
        "importing measurements from scipy.ndimage on engine(s)\n",
        "importing center_of_mass from scipy.ndimage on engine(s)\n",
        "importing median_filter from scipy.ndimage on engine(s)\n",
        "importing medfilt from scipy.signal on engine(s)\n",
        "importing os on engine(s)\n",
        "importing curve_fit from scipy.optimize on engine(s)\n",
        "importing Ellipse from matplotlib.patches on engine(s)\n",
        "importing Image on engine(s)\n",
        "importing Again from zmq.error on engine(s)\n",
        "importing strerror,zmq_errno from zmq.backend on engine(s)\n",
        "[stdout:0] \n",
        "The autoreload extension is already loaded. To reload it, use:\n",
        "  %reload_ext autoreload\n"
       ]
      },
      {
       "output_type": "stream",
       "stream": "stdout",
       "text": [
        "[stdout:1] \n",
        "The autoreload extension is already loaded. To reload it, use:\n",
        "  %reload_ext autoreload\n",
        "[stdout:2] \n",
        "The autoreload extension is already loaded. To reload it, use:\n",
        "  %reload_ext autoreload\n",
        "[stdout:3] \n",
        "The autoreload extension is already loaded. To reload it, use:\n",
        "  %reload_ext autoreload\n",
        "importing SPring8_image,gauss_function,parse_sample_parallel,Version from Functions on engine(s)\n"
       ]
      }
     ],
     "prompt_number": 174
    },
    {
     "cell_type": "code",
     "collapsed": false,
     "input": [
      "matplotlib.rcParams.update({'font.size': 20})\n",
      "matplotlib.rcParams.update({'figure.figsize': (10.0, 8.0)})"
     ],
     "language": "python",
     "metadata": {},
     "outputs": [],
     "prompt_number": 175
    },
    {
     "cell_type": "heading",
     "level": 2,
     "metadata": {},
     "source": [
      "Create directorty map"
     ]
    },
    {
     "cell_type": "code",
     "collapsed": false,
     "input": [
      "!ls -d ./pilatus/InAs0799/*/"
     ],
     "language": "python",
     "metadata": {},
     "outputs": [
      {
       "output_type": "stream",
       "stream": "stdout",
       "text": [
        "./pilatus/InAs0799/InAs0799time1/   ./pilatus/InAs0799/InAs0799time2/  ./pilatus/InAs0799/InAs0799time4/\r\n",
        "./pilatus/InAs0799/InAs0799time1a/  ./pilatus/InAs0799/InAs0799time3/  ./pilatus/InAs0799/RSM/\r\n"
       ]
      }
     ],
     "prompt_number": 176
    },
    {
     "cell_type": "code",
     "collapsed": false,
     "input": [
      "name = 'InAs0799time3'\n",
      "files = !ls ./pilatus/InAs0799/$name/*.tif\n"
     ],
     "language": "python",
     "metadata": {},
     "outputs": [],
     "prompt_number": 177
    },
    {
     "cell_type": "code",
     "collapsed": false,
     "input": [
      "len(files)"
     ],
     "language": "python",
     "metadata": {},
     "outputs": [
      {
       "metadata": {},
       "output_type": "pyout",
       "prompt_number": 178,
       "text": [
        "771"
       ]
      }
     ],
     "prompt_number": 178
    },
    {
     "cell_type": "heading",
     "level": 2,
     "metadata": {},
     "source": [
      "Push to Engines"
     ]
    },
    {
     "cell_type": "code",
     "collapsed": false,
     "input": [
      "puhsed_files = dview.push(dict(files=files))\n",
      "\n",
      "pushed_functions = dview.push(dict(SPring8_image = SPring8_image,\n",
      "                                    gauss_function = gauss_function,\n",
      "                                    parse_sample_parallel = parse_sample_parallel,\n",
      "                                    Version = Version ))"
     ],
     "language": "python",
     "metadata": {},
     "outputs": [],
     "prompt_number": 179
    },
    {
     "cell_type": "heading",
     "level": 2,
     "metadata": {},
     "source": [
      "Define ROIs"
     ]
    },
    {
     "cell_type": "code",
     "collapsed": false,
     "input": [
      "create_new = 'no'\n",
      "file_roi= 'pilatus/InAs0799/InAs0799time3/InAs0799time3_1_171.tif'\n",
      "name_roi = 'InAs0799'\n",
      "roi = define_roi(file_roi, name_roi, create_new)\n",
      "if create_new == 'yes': \n",
      "    message = 'testing new roi for {0}'.format(name)\n",
      "    print 'committing...'\n",
      "    !git add *.p\n",
      "    !git commit -m 'new ROI' "
     ],
     "language": "python",
     "metadata": {},
     "outputs": [
      {
       "output_type": "stream",
       "stream": "stdout",
       "text": [
        "- ROI dump found, using it !\n",
        "- using loaded ROIs\n",
        "saving to disk\n",
        "ROI found, dump it to disk\n"
       ]
      }
     ],
     "prompt_number": 180
    },
    {
     "cell_type": "heading",
     "level": 2,
     "metadata": {},
     "source": [
      "Push roi to engines"
     ]
    },
    {
     "cell_type": "code",
     "collapsed": false,
     "input": [
      "dview.block = False\n",
      "dview.push(dict(roi=roi))\n",
      "ar = dview.pull('roi', block=False)\n",
      "ar.get()"
     ],
     "language": "python",
     "metadata": {},
     "outputs": [
      {
       "metadata": {},
       "output_type": "pyout",
       "prompt_number": 181,
       "text": [
        "[{'TW': [340.0, 370.0, 60.0, 150.0],\n",
        "  'WZ': [210.0, 270.0, 60.0, 150.0],\n",
        "  'ZB': [80.0, 160.0, 60.0, 150.0]},\n",
        " {'TW': [340.0, 370.0, 60.0, 150.0],\n",
        "  'WZ': [210.0, 270.0, 60.0, 150.0],\n",
        "  'ZB': [80.0, 160.0, 60.0, 150.0]},\n",
        " {'TW': [340.0, 370.0, 60.0, 150.0],\n",
        "  'WZ': [210.0, 270.0, 60.0, 150.0],\n",
        "  'ZB': [80.0, 160.0, 60.0, 150.0]},\n",
        " {'TW': [340.0, 370.0, 60.0, 150.0],\n",
        "  'WZ': [210.0, 270.0, 60.0, 150.0],\n",
        "  'ZB': [80.0, 160.0, 60.0, 150.0]}]"
       ]
      }
     ],
     "prompt_number": 181
    },
    {
     "cell_type": "markdown",
     "metadata": {},
     "source": [
      "Check version of the loaded modules."
     ]
    },
    {
     "cell_type": "code",
     "collapsed": false,
     "input": [
      "print Version()"
     ],
     "language": "python",
     "metadata": {},
     "outputs": [
      {
       "output_type": "stream",
       "stream": "stdout",
       "text": [
        "date 2014-01-17 tale III no filter \n"
       ]
      }
     ],
     "prompt_number": 182
    },
    {
     "cell_type": "code",
     "collapsed": false,
     "input": [
      "dview.map_sync(lambda x: Version(),[1])"
     ],
     "language": "python",
     "metadata": {},
     "outputs": [
      {
       "metadata": {},
       "output_type": "pyout",
       "prompt_number": 183,
       "text": [
        "['date 2014-01-17 tale III no filter ']"
       ]
      }
     ],
     "prompt_number": 183
    },
    {
     "cell_type": "heading",
     "level": 1,
     "metadata": {},
     "source": [
      "Start parallel analysis"
     ]
    },
    {
     "cell_type": "code",
     "collapsed": false,
     "input": [
      "start_time = tm.time()\n",
      "samples = {}\n",
      "#\n",
      "%px i = 0 # first roi\n",
      "i = 0\n",
      "std = 10\n",
      "print roi.keys()[i]\n",
      "samples[roi.keys()[i]] = list( flatten( dview.map_sync(lambda x: parse_sample_parallel(x,roi[roi.keys()[i]],2),files)))\n",
      "elapsed_time = tm.time() - start_time\n",
      "print elapsed_time\n",
      "#"
     ],
     "language": "python",
     "metadata": {},
     "outputs": [
      {
       "output_type": "stream",
       "stream": "stdout",
       "text": [
        "TW\n",
        "35.9767549038"
       ]
      },
      {
       "output_type": "stream",
       "stream": "stdout",
       "text": [
        "\n"
       ]
      }
     ],
     "prompt_number": 184
    },
    {
     "cell_type": "code",
     "collapsed": false,
     "input": [
      "#\n",
      "split_time = tm.time()\n",
      "%px i = 1 # second roi\n",
      "i = 1\n",
      "%px std = 4\n",
      "print roi.keys()[i]\n",
      "samples[roi.keys()[i]] = list( flatten( dview.map_sync(lambda x: parse_sample_parallel(x,roi[roi.keys()[i]],2,std),files)))\n",
      "elapsed_time = tm.time() - split_time\n",
      "print elapsed_time\n",
      "#"
     ],
     "language": "python",
     "metadata": {},
     "outputs": [
      {
       "output_type": "stream",
       "stream": "stdout",
       "text": [
        "WZ\n",
        "36.2517859936"
       ]
      },
      {
       "output_type": "stream",
       "stream": "stdout",
       "text": [
        "\n"
       ]
      }
     ],
     "prompt_number": 185
    },
    {
     "cell_type": "code",
     "collapsed": false,
     "input": [
      "split_time = tm.time()\n",
      "%px i = 2 # third roi\n",
      "i =2 \n",
      "%px std = 10\n",
      "print roi.keys()[i]\n",
      "samples[roi.keys()[i]] = list( flatten( dview.map_sync(lambda x: parse_sample_parallel(x,roi[roi.keys()[i]],2,std),files)))\n",
      "\n",
      "elapsed_time = tm.time() - split_time\n",
      "print elapsed_time\n",
      "total_elapsed_time = tm.time() - start_time\n",
      "print 'Total time used %s miuntes'%(total_elapsed_time/60.)"
     ],
     "language": "python",
     "metadata": {},
     "outputs": [
      {
       "output_type": "stream",
       "stream": "stdout",
       "text": [
        "ZB\n",
        "37.2774071693"
       ]
      },
      {
       "output_type": "stream",
       "stream": "stdout",
       "text": [
        "\n",
        "Total time used 1.82638496558 miuntes\n"
       ]
      }
     ],
     "prompt_number": 186
    },
    {
     "cell_type": "heading",
     "level": 2,
     "metadata": {},
     "source": [
      "Pand-ify data"
     ]
    },
    {
     "cell_type": "code",
     "collapsed": false,
     "input": [
      "load_from_diks = False"
     ],
     "language": "python",
     "metadata": {},
     "outputs": [],
     "prompt_number": 187
    },
    {
     "cell_type": "code",
     "collapsed": false,
     "input": [
      "spec_df = load_spec_log(name)\n",
      "spec_df"
     ],
     "language": "python",
     "metadata": {},
     "outputs": [
      {
       "html": [
        "<pre>\n",
        "&lt;class 'pandas.core.frame.DataFrame'&gt;\n",
        "Int64Index: 803 entries, 0 to 802\n",
        "Data columns (total 11 columns):\n",
        "Time        771  non-null values\n",
        "Epoch       771  non-null values\n",
        "Seconds     771  non-null values\n",
        "F.M.        771  non-null values\n",
        "bg          771  non-null values\n",
        "pico1       771  non-null values\n",
        "roi0        771  non-null values\n",
        "roi1        771  non-null values\n",
        "roi2        771  non-null values\n",
        "Monitor     771  non-null values\n",
        "Detector    771  non-null values\n",
        "dtypes: float64(11)\n",
        "</pre>"
       ],
       "metadata": {},
       "output_type": "pyout",
       "prompt_number": 249,
       "text": [
        "<class 'pandas.core.frame.DataFrame'>\n",
        "Int64Index: 803 entries, 0 to 802\n",
        "Data columns (total 11 columns):\n",
        "Time        771  non-null values\n",
        "Epoch       771  non-null values\n",
        "Seconds     771  non-null values\n",
        "F.M.        771  non-null values\n",
        "bg          771  non-null values\n",
        "pico1       771  non-null values\n",
        "roi0        771  non-null values\n",
        "roi1        771  non-null values\n",
        "roi2        771  non-null values\n",
        "Monitor     771  non-null values\n",
        "Detector    771  non-null values\n",
        "dtypes: float64(11)"
       ]
      }
     ],
     "prompt_number": 249
    },
    {
     "cell_type": "code",
     "collapsed": false,
     "input": [
      "if load_from_diks:\n",
      "    print 'loading from disk'\n",
      "    data = load_data_frame(name)\n",
      "    if not data:\n",
      "        print 'not found on disk, loading from memory'\n",
      "        data = pandify(samples,roi,name)\n",
      "if not load_from_diks:\n",
      "    print 'loading from memory'\n",
      "    data = pandify(samples, roi,name)\n",
      "    !git commit -a -m 'added new dataframe'"
     ],
     "language": "python",
     "metadata": {},
     "outputs": [
      {
       "output_type": "stream",
       "stream": "stdout",
       "text": [
        "loading from memory\n"
       ]
      },
      {
       "output_type": "stream",
       "stream": "stdout",
       "text": [
        "[fit_testing 929551d] added new dataframe\r\n",
        " 2 files changed, 23 insertions(+), 21 deletions(-)\r\n"
       ]
      }
     ],
     "prompt_number": 189
    },
    {
     "cell_type": "code",
     "collapsed": false,
     "input": [
      "on_off2 = [\n",
      " 185.0,\n",
      " 213.0,\n",
      " 253.0,\n",
      " 283.0,\n",
      " 311.0,\n",
      " 340.0,\n",
      " 390.0,\n",
      " 440.0,\n",
      " 498.0,\n",
      " 540.0,\n",
      " 600,\n",
      " 700,\n",
      " 835, #on\n",
      " 885, #off\n",
      " 895, #on\n",
      " 916, #off\n",
      " 983,\n",
      " 1005, # off???\n",
      " 1099, #on\n",
      " 1129, # off\n",
      " 1150, # on\n",
      " 1180,\n",
      " spec_df.Time.max()-439,\n",
      " spec_df.Time.max()] #off"
     ],
     "language": "python",
     "metadata": {},
     "outputs": [],
     "prompt_number": 190
    },
    {
     "cell_type": "code",
     "collapsed": false,
     "input": [
      "# pickle.dump(on_off, open(str(name) + 'shutter' + \".p\", \"wb\"))"
     ],
     "language": "python",
     "metadata": {},
     "outputs": [],
     "prompt_number": 191
    },
    {
     "cell_type": "code",
     "collapsed": false,
     "input": [
      "# on_off = save_suhtters(name)"
     ],
     "language": "python",
     "metadata": {},
     "outputs": [],
     "prompt_number": 192
    },
    {
     "cell_type": "code",
     "collapsed": false,
     "input": [
      "parameters_dict = {'TW': 200, 'WZ':100, 'ZB': 28.8} # 2,200,28.8\n",
      "save_spline_par(parameters_dict, name)\n",
      "filename = str(name) + 'spline_parameters' + \".p\"\n",
      "!git commit -m 'new spline dict' -- $filename"
     ],
     "language": "python",
     "metadata": {},
     "outputs": [
      {
       "output_type": "stream",
       "stream": "stdout",
       "text": [
        "searching parameters_dict object\n",
        "parameters_dict object found, dumping it to disk\n"
       ]
      },
      {
       "output_type": "stream",
       "stream": "stdout",
       "text": [
        "# On branch fit_testing\r\n",
        "# Your branch is ahead of 'origin/fit_testing' by 13 commits.\r\n",
        "#   (use \"git push\" to publish your local commits)\r\n",
        "#\r\n",
        "# Untracked files:\r\n",
        "#   (use \"git add <file>...\" to include in what will be committed)\r\n",
        "#\r\n",
        "#\t\".\\res\\\\InAs0799time1a\"\r\n",
        "#\t.1a.png\r\n",
        "#\t.Functions.py.swp\r\n",
        "#\t\".\\\\Results\\\\InAs0799time1a\"\r\n",
        "#\t.doplot.py.swo\r\n",
        "#\t.ipynb_checkpoints/\r\n",
        "#\t.ropeproject/\r\n",
        "#\t0799-Time4.ipynb\r\n",
        "#\t0799.png\r\n",
        "#\t1.pdf\r\n",
        "#\t2.pdf\r\n",
        "#\tFunctions.pyc\r\n",
        "#\tInAs0798data_frame.csv\r\n",
        "#\tInAs0799time1a\r\n",
        "#\tInAs0799time1adata_frame.csv\r\n",
        "#\tInAs0799time2data_frame.csv\r\n",
        "#\tInAs0799time2shutter.p_bkg\r\n",
        "#\tInAs0799time3data_frame.csv\r\n",
        "#\tInAs0799time4data_frame.csv\r\n",
        "#\tInAs0801time2adata_frame.csv\r\n",
        "#\tInAs0801time2bdata_frame.csv\r\n",
        "#\tInAs0801time3adata_frame.csv\r\n",
        "#\tMBelogs.ipynb\r\n",
        "#\tPlot for article.ipynb\r\n",
        "#\tRHEED/\r\n",
        "#\tResults/\r\n",
        "#\tSEM/\r\n",
        "#\tSPring8.sublime-project\r\n",
        "#\tSPring8.sublime-workspace\r\n",
        "#\tSpring8.sublime-project\r\n",
        "#\tSpring8.sublime-workspace\r\n",
        "#\tTEM/\r\n",
        "#\tasd.png\r\n",
        "#\tasd_deleteME\r\n",
        "#\tccd/\r\n",
        "#\tdata.csv\r\n",
        "#\tdata_frame.csv\r\n",
        "#\tdoplot.pyc\r\n",
        "#\tdrafts.ipynb\r\n",
        "#\tlog.pyc\r\n",
        "#\tlogs/\r\n",
        "#\tmatplotlibrc\r\n",
        "#\tmisc/\r\n",
        "#\told/\r\n",
        "#\tpilatus/\r\n",
        "#\tplot.pyc\r\n",
        "#\tquickplot.pyc\r\n",
        "#\tspec/\r\n",
        "#\tstrain.pdf\r\n",
        "#\tstrain_5x5.pdf\r\n",
        "#\tstyles/\r\n",
        "#\ttest.py\r\n",
        "#\ttime1data_frame.csv\r\n",
        "#\ttime2adata_frame.csv\r\n",
        "nothing added to commit but untracked files present (use \"git add\" to track)\r\n"
       ]
      }
     ],
     "prompt_number": 193
    },
    {
     "cell_type": "code",
     "collapsed": false,
     "input": [
      "fig = do(data, 'WZ', parameters_dict,name)"
     ],
     "language": "python",
     "metadata": {},
     "outputs": [
      {
       "output_type": "stream",
       "stream": "stdout",
       "text": [
        "on_off dump found, using it !\n",
        "ok"
       ]
      },
      {
       "output_type": "stream",
       "stream": "stdout",
       "text": [
        "\n"
       ]
      }
     ],
     "prompt_number": 194
    },
    {
     "cell_type": "code",
     "collapsed": false,
     "input": [
      "fig = do(data, 'TW', parameters_dict,name)"
     ],
     "language": "python",
     "metadata": {},
     "outputs": [
      {
       "output_type": "stream",
       "stream": "stdout",
       "text": [
        "on_off dump found, using it !\n",
        "ok"
       ]
      },
      {
       "output_type": "stream",
       "stream": "stdout",
       "text": [
        "\n"
       ]
      }
     ],
     "prompt_number": 195
    },
    {
     "cell_type": "code",
     "collapsed": false,
     "input": [
      "fig = do(data, 'ZB', parameters_dict,name)"
     ],
     "language": "python",
     "metadata": {},
     "outputs": [
      {
       "output_type": "stream",
       "stream": "stdout",
       "text": [
        "on_off dump found, using it !\n",
        "ok"
       ]
      },
      {
       "output_type": "stream",
       "stream": "stdout",
       "text": [
        "\n"
       ]
      }
     ],
     "prompt_number": 196
    },
    {
     "cell_type": "heading",
     "level": 2,
     "metadata": {},
     "source": [
      "Strain dynamics"
     ]
    },
    {
     "cell_type": "code",
     "collapsed": false,
     "input": [
      "fig, ax = subplots(figsize=(15,10))\n",
      "ax1 = ax.twinx()\n",
      "ax2 = ax.twinx()\n",
      "ax1.plot(spec_df.Time, data.COM_x_WZ, '.', label='WZ Peak Position $\\parallel $ ', c='#FECEA8')\n",
      "ax2.plot(spec_df.Time,  data.COM_y_WZ, '.', label = 'WZ Peak Position $\\perp $', c='#E84A5F')\n",
      "ax.plot(spec_df.Time, data.Int_TW, '.',label= '$I_{TW}$', c='#99B898')\n",
      "ax3 = ax.twinx()\n",
      "#ax3.plot(spec_df.Time, savitzky_golay(data.Int_TW.values,15,3,1),label= r'$\\frac{dI_{TW}}{dt}$', c='#556270' ) \n",
      "update_legend(fig,0)\n",
      "\n",
      "make_spine_invisible(ax2, \"right\")\n",
      "offset_axis(ax2,1.1)\n",
      "make_spine_invisible(ax3, \"left\")\n",
      "\n",
      "offset_axis(ax3,-0.1, \"left\")\n",
      "\n",
      "ax2.grid('off')\n",
      "ax1.grid('off')\n",
      "ax.tick_params(axis='x', pad=15)\n",
      "color_ticks(fig)\n",
      "shade(on_off2,ax)\n",
      "ax.set_xlabel('Time(s)')\n",
      "ax2.set_ylabel('Peak Position (pixel)')\n",
      "ax3.set_ylabel('Intensity (a.u.)')\n",
      "#ax.set_xticks(xrange(300,900,50),minor=True)\n",
      "ax.grid(True, which='both')\n",
      "\n",
      "\n",
      "tight_layout()\n",
      "\n",
      "# fig.savefig('strain.pdf')"
     ],
     "language": "python",
     "metadata": {},
     "outputs": [],
     "prompt_number": 197
    },
    {
     "cell_type": "heading",
     "level": 2,
     "metadata": {},
     "source": [
      "Growth dynamics"
     ]
    },
    {
     "cell_type": "code",
     "collapsed": false,
     "input": [
      "fig, ax = subplots(figsize=(15,10))\n",
      "ax2 = ax.twinx()\n",
      "ax3 = ax.twinx()\n",
      "ax3.plot(spec_df.Time[data.NIG!=1], data.NIG[data.NIG !=1])\n",
      "\n",
      "\n",
      "\n",
      "ax.plot(spec_df.Time, data.Int_WZ,'o',label= '$I_{WZ}$', c='#EA9E4B')\n",
      "\n",
      "ax2.plot(spec_df.Time, savitzky_golay(data.Int_WZ,15,3,1),label='15,3')\n",
      "# ax2.plot(spec_df.Time, savitzky_golay(data.Int_WZ,25,3,1),label='25,3')\n",
      "\n",
      "ax2.plot(spec_df.Time, savitzky_golay(data.Int_WZ,15,2,1),label='15,2')\n",
      "# ax2.plot(spec_df.Time, savitzky_golay(data.Int_WZ,25,2,1),label='25,2')\n",
      "\n",
      "\n",
      "ax2.plot(spec_df.Time, savitzky_golay(data.Int_WZ,15,4,1),'o',label='15,4')\n",
      "# ax2.plot(spec_df.Time, savitzky_golay(data.Int_WZ,25,4,1),label='25,4')\n",
      "\n",
      "# ax properties \n",
      "\n",
      "ax.tick_params(axis='x', pad=15)\n",
      "ax.set_xlabel('Time(s)')\n",
      "ax.set_ylabel('Intensity (a.u.)')\n",
      "# ax.set_xticks(xrange(300,900,50),minor=True)\n",
      "ax.grid(True, which='both')\n",
      "\n",
      "# ax2 propr\n",
      "\n",
      "ax2.legend()\n",
      "\n",
      "#global prop\n",
      "\n",
      "shade(on_off2,ax, lim = 300)\n",
      "color_ticks(fig)\n",
      "tight_layout()\n"
     ],
     "language": "python",
     "metadata": {},
     "outputs": [
      {
       "ename": "AssertionError",
       "evalue": "Index length did not match values",
       "output_type": "pyerr",
       "traceback": [
        "\u001b[1;31m---------------------------------------------------------------------------\u001b[0m\n\u001b[1;31mAssertionError\u001b[0m                            Traceback (most recent call last)",
        "\u001b[1;32m<ipython-input-246-28ba5c37eb17>\u001b[0m in \u001b[0;36m<module>\u001b[1;34m()\u001b[0m\n\u001b[0;32m      2\u001b[0m \u001b[0max2\u001b[0m \u001b[1;33m=\u001b[0m \u001b[0max\u001b[0m\u001b[1;33m.\u001b[0m\u001b[0mtwinx\u001b[0m\u001b[1;33m(\u001b[0m\u001b[1;33m)\u001b[0m\u001b[1;33m\u001b[0m\u001b[0m\n\u001b[0;32m      3\u001b[0m \u001b[0max3\u001b[0m \u001b[1;33m=\u001b[0m \u001b[0max\u001b[0m\u001b[1;33m.\u001b[0m\u001b[0mtwinx\u001b[0m\u001b[1;33m(\u001b[0m\u001b[1;33m)\u001b[0m\u001b[1;33m\u001b[0m\u001b[0m\n\u001b[1;32m----> 4\u001b[1;33m \u001b[0max3\u001b[0m\u001b[1;33m.\u001b[0m\u001b[0mplot\u001b[0m\u001b[1;33m(\u001b[0m\u001b[0mspec_df\u001b[0m\u001b[1;33m.\u001b[0m\u001b[0mTime\u001b[0m\u001b[1;33m[\u001b[0m\u001b[0mdata\u001b[0m\u001b[1;33m.\u001b[0m\u001b[0mNIG\u001b[0m\u001b[1;33m!=\u001b[0m\u001b[1;36m1\u001b[0m\u001b[1;33m]\u001b[0m\u001b[1;33m,\u001b[0m \u001b[0mdata\u001b[0m\u001b[1;33m.\u001b[0m\u001b[0mNIG\u001b[0m\u001b[1;33m[\u001b[0m\u001b[0mdata\u001b[0m\u001b[1;33m.\u001b[0m\u001b[0mNIG\u001b[0m \u001b[1;33m!=\u001b[0m\u001b[1;36m1\u001b[0m\u001b[1;33m]\u001b[0m\u001b[1;33m)\u001b[0m\u001b[1;33m\u001b[0m\u001b[0m\n\u001b[0m\u001b[0;32m      5\u001b[0m \u001b[1;33m\u001b[0m\u001b[0m\n\u001b[0;32m      6\u001b[0m \u001b[1;33m\u001b[0m\u001b[0m\n",
        "\u001b[1;32m/usr/local/lib/python2.7/dist-packages/pandas/core/series.pyc\u001b[0m in \u001b[0;36m__getitem__\u001b[1;34m(self, key)\u001b[0m\n\u001b[0;32m    637\u001b[0m         \u001b[1;31m# arrays. Since we can't represent NA with dtype=bool\u001b[0m\u001b[1;33m\u001b[0m\u001b[1;33m\u001b[0m\u001b[0m\n\u001b[0;32m    638\u001b[0m         \u001b[1;32mif\u001b[0m \u001b[0m_is_bool_indexer\u001b[0m\u001b[1;33m(\u001b[0m\u001b[0mkey\u001b[0m\u001b[1;33m)\u001b[0m\u001b[1;33m:\u001b[0m\u001b[1;33m\u001b[0m\u001b[0m\n\u001b[1;32m--> 639\u001b[1;33m             \u001b[0mkey\u001b[0m \u001b[1;33m=\u001b[0m \u001b[0m_check_bool_indexer\u001b[0m\u001b[1;33m(\u001b[0m\u001b[0mself\u001b[0m\u001b[1;33m.\u001b[0m\u001b[0mindex\u001b[0m\u001b[1;33m,\u001b[0m \u001b[0mkey\u001b[0m\u001b[1;33m)\u001b[0m\u001b[1;33m\u001b[0m\u001b[0m\n\u001b[0m\u001b[0;32m    640\u001b[0m \u001b[1;33m\u001b[0m\u001b[0m\n\u001b[0;32m    641\u001b[0m         \u001b[1;32mreturn\u001b[0m \u001b[0mself\u001b[0m\u001b[1;33m.\u001b[0m\u001b[0m_get_with\u001b[0m\u001b[1;33m(\u001b[0m\u001b[0mkey\u001b[0m\u001b[1;33m)\u001b[0m\u001b[1;33m\u001b[0m\u001b[0m\n",
        "\u001b[1;32m/usr/local/lib/python2.7/dist-packages/pandas/core/indexing.pyc\u001b[0m in \u001b[0;36m_check_bool_indexer\u001b[1;34m(ax, key)\u001b[0m\n\u001b[0;32m   1012\u001b[0m     \u001b[0mresult\u001b[0m \u001b[1;33m=\u001b[0m \u001b[0mkey\u001b[0m\u001b[1;33m\u001b[0m\u001b[0m\n\u001b[0;32m   1013\u001b[0m     \u001b[1;32mif\u001b[0m \u001b[0m_is_series\u001b[0m\u001b[1;33m(\u001b[0m\u001b[0mkey\u001b[0m\u001b[1;33m)\u001b[0m \u001b[1;32mand\u001b[0m \u001b[1;32mnot\u001b[0m \u001b[0mkey\u001b[0m\u001b[1;33m.\u001b[0m\u001b[0mindex\u001b[0m\u001b[1;33m.\u001b[0m\u001b[0mequals\u001b[0m\u001b[1;33m(\u001b[0m\u001b[0max\u001b[0m\u001b[1;33m)\u001b[0m\u001b[1;33m:\u001b[0m\u001b[1;33m\u001b[0m\u001b[0m\n\u001b[1;32m-> 1014\u001b[1;33m         \u001b[0mresult\u001b[0m \u001b[1;33m=\u001b[0m \u001b[0mresult\u001b[0m\u001b[1;33m.\u001b[0m\u001b[0mreindex\u001b[0m\u001b[1;33m(\u001b[0m\u001b[0max\u001b[0m\u001b[1;33m)\u001b[0m\u001b[1;33m\u001b[0m\u001b[0m\n\u001b[0m\u001b[0;32m   1015\u001b[0m         \u001b[0mmask\u001b[0m \u001b[1;33m=\u001b[0m \u001b[0mcom\u001b[0m\u001b[1;33m.\u001b[0m\u001b[0misnull\u001b[0m\u001b[1;33m(\u001b[0m\u001b[0mresult\u001b[0m\u001b[1;33m)\u001b[0m\u001b[1;33m\u001b[0m\u001b[0m\n\u001b[0;32m   1016\u001b[0m         \u001b[1;32mif\u001b[0m \u001b[0mmask\u001b[0m\u001b[1;33m.\u001b[0m\u001b[0many\u001b[0m\u001b[1;33m(\u001b[0m\u001b[1;33m)\u001b[0m\u001b[1;33m:\u001b[0m\u001b[1;33m\u001b[0m\u001b[0m\n",
        "\u001b[1;32m/usr/local/lib/python2.7/dist-packages/pandas/core/series.pyc\u001b[0m in \u001b[0;36mreindex\u001b[1;34m(self, index, method, level, fill_value, limit, copy, takeable)\u001b[0m\n\u001b[0;32m   2644\u001b[0m \u001b[1;33m\u001b[0m\u001b[0m\n\u001b[0;32m   2645\u001b[0m         \u001b[1;31m# GH4246 (dispatch to a common method with frame to handle possibly duplicate index)\u001b[0m\u001b[1;33m\u001b[0m\u001b[1;33m\u001b[0m\u001b[0m\n\u001b[1;32m-> 2646\u001b[1;33m         \u001b[1;32mreturn\u001b[0m \u001b[0mself\u001b[0m\u001b[1;33m.\u001b[0m\u001b[0m_reindex_with_indexers\u001b[0m\u001b[1;33m(\u001b[0m\u001b[0mnew_index\u001b[0m\u001b[1;33m,\u001b[0m \u001b[0mindexer\u001b[0m\u001b[1;33m,\u001b[0m \u001b[0mcopy\u001b[0m\u001b[1;33m=\u001b[0m\u001b[0mcopy\u001b[0m\u001b[1;33m,\u001b[0m \u001b[0mfill_value\u001b[0m\u001b[1;33m=\u001b[0m\u001b[0mfill_value\u001b[0m\u001b[1;33m)\u001b[0m\u001b[1;33m\u001b[0m\u001b[0m\n\u001b[0m\u001b[0;32m   2647\u001b[0m \u001b[1;33m\u001b[0m\u001b[0m\n\u001b[0;32m   2648\u001b[0m     \u001b[1;32mdef\u001b[0m \u001b[0m_reindex_with_indexers\u001b[0m\u001b[1;33m(\u001b[0m\u001b[0mself\u001b[0m\u001b[1;33m,\u001b[0m \u001b[0mindex\u001b[0m\u001b[1;33m,\u001b[0m \u001b[0mindexer\u001b[0m\u001b[1;33m,\u001b[0m \u001b[0mcopy\u001b[0m\u001b[1;33m,\u001b[0m \u001b[0mfill_value\u001b[0m\u001b[1;33m)\u001b[0m\u001b[1;33m:\u001b[0m\u001b[1;33m\u001b[0m\u001b[0m\n",
        "\u001b[1;32m/usr/local/lib/python2.7/dist-packages/pandas/core/series.pyc\u001b[0m in \u001b[0;36m_reindex_with_indexers\u001b[1;34m(self, index, indexer, copy, fill_value)\u001b[0m\n\u001b[0;32m   2648\u001b[0m     \u001b[1;32mdef\u001b[0m \u001b[0m_reindex_with_indexers\u001b[0m\u001b[1;33m(\u001b[0m\u001b[0mself\u001b[0m\u001b[1;33m,\u001b[0m \u001b[0mindex\u001b[0m\u001b[1;33m,\u001b[0m \u001b[0mindexer\u001b[0m\u001b[1;33m,\u001b[0m \u001b[0mcopy\u001b[0m\u001b[1;33m,\u001b[0m \u001b[0mfill_value\u001b[0m\u001b[1;33m)\u001b[0m\u001b[1;33m:\u001b[0m\u001b[1;33m\u001b[0m\u001b[0m\n\u001b[0;32m   2649\u001b[0m         \u001b[0mnew_values\u001b[0m \u001b[1;33m=\u001b[0m \u001b[0mcom\u001b[0m\u001b[1;33m.\u001b[0m\u001b[0mtake_1d\u001b[0m\u001b[1;33m(\u001b[0m\u001b[0mself\u001b[0m\u001b[1;33m.\u001b[0m\u001b[0mvalues\u001b[0m\u001b[1;33m,\u001b[0m \u001b[0mindexer\u001b[0m\u001b[1;33m,\u001b[0m \u001b[0mfill_value\u001b[0m\u001b[1;33m=\u001b[0m\u001b[0mfill_value\u001b[0m\u001b[1;33m)\u001b[0m\u001b[1;33m\u001b[0m\u001b[0m\n\u001b[1;32m-> 2650\u001b[1;33m         \u001b[1;32mreturn\u001b[0m \u001b[0mSeries\u001b[0m\u001b[1;33m(\u001b[0m\u001b[0mnew_values\u001b[0m\u001b[1;33m,\u001b[0m \u001b[0mindex\u001b[0m\u001b[1;33m=\u001b[0m\u001b[0mindex\u001b[0m\u001b[1;33m,\u001b[0m \u001b[0mname\u001b[0m\u001b[1;33m=\u001b[0m\u001b[0mself\u001b[0m\u001b[1;33m.\u001b[0m\u001b[0mname\u001b[0m\u001b[1;33m)\u001b[0m\u001b[1;33m\u001b[0m\u001b[0m\n\u001b[0m\u001b[0;32m   2651\u001b[0m \u001b[1;33m\u001b[0m\u001b[0m\n\u001b[0;32m   2652\u001b[0m     \u001b[1;32mdef\u001b[0m \u001b[0mreindex_axis\u001b[0m\u001b[1;33m(\u001b[0m\u001b[0mself\u001b[0m\u001b[1;33m,\u001b[0m \u001b[0mlabels\u001b[0m\u001b[1;33m,\u001b[0m \u001b[0maxis\u001b[0m\u001b[1;33m=\u001b[0m\u001b[1;36m0\u001b[0m\u001b[1;33m,\u001b[0m \u001b[1;33m**\u001b[0m\u001b[0mkwargs\u001b[0m\u001b[1;33m)\u001b[0m\u001b[1;33m:\u001b[0m\u001b[1;33m\u001b[0m\u001b[0m\n",
        "\u001b[1;32m/usr/local/lib/python2.7/dist-packages/pandas/core/series.pyc\u001b[0m in \u001b[0;36m__new__\u001b[1;34m(cls, data, index, dtype, name, copy)\u001b[0m\n\u001b[0;32m    490\u001b[0m         \u001b[1;32melse\u001b[0m\u001b[1;33m:\u001b[0m\u001b[1;33m\u001b[0m\u001b[0m\n\u001b[0;32m    491\u001b[0m             \u001b[0msubarr\u001b[0m \u001b[1;33m=\u001b[0m \u001b[0msubarr\u001b[0m\u001b[1;33m.\u001b[0m\u001b[0mview\u001b[0m\u001b[1;33m(\u001b[0m\u001b[0mSeries\u001b[0m\u001b[1;33m)\u001b[0m\u001b[1;33m\u001b[0m\u001b[0m\n\u001b[1;32m--> 492\u001b[1;33m         \u001b[0msubarr\u001b[0m\u001b[1;33m.\u001b[0m\u001b[0mindex\u001b[0m \u001b[1;33m=\u001b[0m \u001b[0mindex\u001b[0m\u001b[1;33m\u001b[0m\u001b[0m\n\u001b[0m\u001b[0;32m    493\u001b[0m         \u001b[0msubarr\u001b[0m\u001b[1;33m.\u001b[0m\u001b[0mname\u001b[0m \u001b[1;33m=\u001b[0m \u001b[0mname\u001b[0m\u001b[1;33m\u001b[0m\u001b[0m\n\u001b[0;32m    494\u001b[0m \u001b[1;33m\u001b[0m\u001b[0m\n",
        "\u001b[1;32m/usr/local/lib/python2.7/dist-packages/pandas/lib.so\u001b[0m in \u001b[0;36mpandas.lib.SeriesIndex.__set__ (pandas/lib.c:29541)\u001b[1;34m()\u001b[0m\n",
        "\u001b[1;31mAssertionError\u001b[0m: Index length did not match values"
       ]
      }
     ],
     "prompt_number": 246
    },
    {
     "cell_type": "code",
     "collapsed": false,
     "input": [],
     "language": "python",
     "metadata": {},
     "outputs": []
    }
   ],
   "metadata": {}
  }
 ]
}