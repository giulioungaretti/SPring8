{
 "metadata": {
  "name": ""
 },
 "nbformat": 3,
 "nbformat_minor": 0,
 "worksheets": [
  {
   "cells": [
    {
     "cell_type": "heading",
     "level": 1,
     "metadata": {},
     "source": [
      "0799-Time3"
     ]
    },
    {
     "cell_type": "markdown",
     "metadata": {},
     "source": [
      "Autoreload modules locally "
     ]
    },
    {
     "cell_type": "code",
     "collapsed": false,
     "input": [
      "### magics\n",
      "%pylab inline\n",
      "%reload_ext autoreload\n",
      "%autoreload  2\n",
      "# %px clear\n",
      "# ####\n",
      "\n",
      "from Functions import *\n",
      "from Functions import load_spec_log\n",
      "from IPython.parallel import Client\n",
      "# import style\n",
      "# css_styling()\n",
      "rc = Client()\n",
      "dview = rc[:]\n"
     ],
     "language": "python",
     "metadata": {},
     "outputs": [
      {
       "output_type": "stream",
       "stream": "stdout",
       "text": [
        "Populating the interactive namespace from numpy and matplotlib\n"
       ]
      },
      {
       "output_type": "stream",
       "stream": "stderr",
       "text": [
        "WARNING: pylab import has clobbered these variables: ['norm', 'rc', 'std']\n",
        "`%pylab --no-import-all` prevents importing * from pylab and numpy\n"
       ]
      }
     ],
     "prompt_number": 323
    },
    {
     "cell_type": "code",
     "collapsed": false,
     "input": [
      "with dview.sync_imports():\n",
      "    import time as tm\n",
      "    import numpy as np\n",
      "    import matplotlib.pyplot as plt \n",
      "    import pandas as pd\n",
      "    from scipy.ndimage import measurements as meas\n",
      "    from scipy.ndimage import center_of_mass\n",
      "    from scipy.ndimage import median_filter\n",
      "    from scipy.signal import medfilt\n",
      "    import os\n",
      "    from scipy.optimize import curve_fit\n",
      "    from matplotlib.patches import Ellipse\n",
      "    import Image\n",
      "    %px %load_ext autoreload\n",
      "    %px %autoreload 2 \n",
      "    from Functions import  SPring8_image, gauss_function, parse_sample_parallel, Version"
     ],
     "language": "python",
     "metadata": {},
     "outputs": [
      {
       "output_type": "stream",
       "stream": "stdout",
       "text": [
        "importing time on engine(s)\n",
        "importing numpy on engine(s)\n",
        "importing matplotlib.pyplot on engine(s)\n",
        "importing pandas on engine(s)\n",
        "importing measurements from scipy.ndimage on engine(s)\n",
        "importing center_of_mass from scipy.ndimage on engine(s)\n",
        "importing median_filter from scipy.ndimage on engine(s)\n",
        "importing medfilt from scipy.signal on engine(s)\n",
        "importing os on engine(s)\n",
        "importing curve_fit from scipy.optimize on engine(s)\n",
        "importing Ellipse from matplotlib.patches on engine(s)\n",
        "importing Image on engine(s)\n",
        "importing Again from zmq.error on engine(s)\n",
        "importing strerror,zmq_errno from zmq.backend on engine(s)\n",
        "[stdout:0] \n",
        "The autoreload extension is already loaded. To reload it, use:\n",
        "  %reload_ext autoreload\n"
       ]
      },
      {
       "output_type": "stream",
       "stream": "stdout",
       "text": [
        "[stdout:1] \n",
        "The autoreload extension is already loaded. To reload it, use:\n",
        "  %reload_ext autoreload\n",
        "[stdout:2] \n",
        "The autoreload extension is already loaded. To reload it, use:\n",
        "  %reload_ext autoreload\n",
        "[stdout:3] \n",
        "The autoreload extension is already loaded. To reload it, use:\n",
        "  %reload_ext autoreload\n",
        "importing SPring8_image,gauss_function,parse_sample_parallel,Version from Functions on engine(s)\n"
       ]
      }
     ],
     "prompt_number": 324
    },
    {
     "cell_type": "code",
     "collapsed": false,
     "input": [
      "matplotlib.rcParams.update({'font.size': 20})\n",
      "matplotlib.rcParams.update({'figure.figsize': (10.0, 8.0)})"
     ],
     "language": "python",
     "metadata": {},
     "outputs": [],
     "prompt_number": 325
    },
    {
     "cell_type": "heading",
     "level": 2,
     "metadata": {},
     "source": [
      "Create directorty map"
     ]
    },
    {
     "cell_type": "code",
     "collapsed": false,
     "input": [
      "!ls -d ./pilatus/InAs0799/*/"
     ],
     "language": "python",
     "metadata": {},
     "outputs": [
      {
       "output_type": "stream",
       "stream": "stdout",
       "text": [
        "./pilatus/InAs0799/InAs0799time1/   ./pilatus/InAs0799/InAs0799time2/  ./pilatus/InAs0799/InAs0799time4/\r\n",
        "./pilatus/InAs0799/InAs0799time1a/  ./pilatus/InAs0799/InAs0799time3/  ./pilatus/InAs0799/RSM/\r\n"
       ]
      }
     ],
     "prompt_number": 326
    },
    {
     "cell_type": "code",
     "collapsed": false,
     "input": [
      "name = 'InAs0799time3'\n",
      "files = !ls ./pilatus/InAs0799/$name/*.tif\n"
     ],
     "language": "python",
     "metadata": {},
     "outputs": [],
     "prompt_number": 327
    },
    {
     "cell_type": "code",
     "collapsed": false,
     "input": [
      "len(files)"
     ],
     "language": "python",
     "metadata": {},
     "outputs": [
      {
       "metadata": {},
       "output_type": "pyout",
       "prompt_number": 328,
       "text": [
        "771"
       ]
      }
     ],
     "prompt_number": 328
    },
    {
     "cell_type": "heading",
     "level": 2,
     "metadata": {},
     "source": [
      "Push to Engines"
     ]
    },
    {
     "cell_type": "code",
     "collapsed": false,
     "input": [
      "puhsed_files = dview.push(dict(files=files))\n",
      "\n",
      "pushed_functions = dview.push(dict(SPring8_image = SPring8_image,\n",
      "                                    gauss_function = gauss_function,\n",
      "                                    parse_sample_parallel = parse_sample_parallel,\n",
      "                                    Version = Version ))"
     ],
     "language": "python",
     "metadata": {},
     "outputs": [],
     "prompt_number": 329
    },
    {
     "cell_type": "heading",
     "level": 2,
     "metadata": {},
     "source": [
      "Define ROIs"
     ]
    },
    {
     "cell_type": "code",
     "collapsed": false,
     "input": [
      "create_new = 'no'\n",
      "file_roi= 'pilatus/InAs0799/InAs0799time3/InAs0799time3_1_171.tif'\n",
      "name_roi = 'InAs0799'\n",
      "roi = define_roi(file_roi, name_roi, create_new)\n",
      "if create_new == 'yes': \n",
      "    message = 'testing new roi for {0}'.format(name)\n",
      "    print 'committing...'\n",
      "    !git add *.p\n",
      "    !git commit -m 'new ROI' "
     ],
     "language": "python",
     "metadata": {},
     "outputs": [
      {
       "output_type": "stream",
       "stream": "stdout",
       "text": [
        "- ROI dump found, using it !\n",
        "- using loaded ROIs\n",
        "saving to disk\n",
        "ROI found, dump it to disk\n"
       ]
      }
     ],
     "prompt_number": 330
    },
    {
     "cell_type": "heading",
     "level": 2,
     "metadata": {},
     "source": [
      "Push roi to engines"
     ]
    },
    {
     "cell_type": "code",
     "collapsed": false,
     "input": [
      "dview.block = False\n",
      "dview.push(dict(roi=roi))\n",
      "ar = dview.pull('roi', block=False)\n",
      "ar.get()"
     ],
     "language": "python",
     "metadata": {},
     "outputs": [
      {
       "metadata": {},
       "output_type": "pyout",
       "prompt_number": 331,
       "text": [
        "[{'TW': [340.0, 370.0, 60.0, 150.0],\n",
        "  'WZ': [210.0, 270.0, 60.0, 150.0],\n",
        "  'ZB': [80.0, 160.0, 60.0, 150.0]},\n",
        " {'TW': [340.0, 370.0, 60.0, 150.0],\n",
        "  'WZ': [210.0, 270.0, 60.0, 150.0],\n",
        "  'ZB': [80.0, 160.0, 60.0, 150.0]},\n",
        " {'TW': [340.0, 370.0, 60.0, 150.0],\n",
        "  'WZ': [210.0, 270.0, 60.0, 150.0],\n",
        "  'ZB': [80.0, 160.0, 60.0, 150.0]},\n",
        " {'TW': [340.0, 370.0, 60.0, 150.0],\n",
        "  'WZ': [210.0, 270.0, 60.0, 150.0],\n",
        "  'ZB': [80.0, 160.0, 60.0, 150.0]}]"
       ]
      }
     ],
     "prompt_number": 331
    },
    {
     "cell_type": "markdown",
     "metadata": {},
     "source": [
      "Check version of the loaded modules."
     ]
    },
    {
     "cell_type": "code",
     "collapsed": false,
     "input": [
      "print Version()"
     ],
     "language": "python",
     "metadata": {},
     "outputs": [
      {
       "output_type": "stream",
       "stream": "stdout",
       "text": [
        "date 2014-01-17 tale III no filter \n"
       ]
      }
     ],
     "prompt_number": 332
    },
    {
     "cell_type": "code",
     "collapsed": false,
     "input": [
      "dview.map_sync(lambda x: Version(),[1])"
     ],
     "language": "python",
     "metadata": {},
     "outputs": [
      {
       "metadata": {},
       "output_type": "pyout",
       "prompt_number": 333,
       "text": [
        "['date 2014-01-17 tale III no filter ']"
       ]
      }
     ],
     "prompt_number": 333
    },
    {
     "cell_type": "heading",
     "level": 1,
     "metadata": {},
     "source": [
      "Start parallel analysis"
     ]
    },
    {
     "cell_type": "code",
     "collapsed": false,
     "input": [
      "start_time = tm.time()\n",
      "samples = {}\n",
      "#\n",
      "%px i = 0 # first roi\n",
      "i = 0\n",
      "std = 10\n",
      "print roi.keys()[i]\n",
      "samples[roi.keys()[i]] = list( flatten( dview.map_sync(lambda x: parse_sample_parallel(x,roi[roi.keys()[i]],2),files)))\n",
      "elapsed_time = tm.time() - start_time\n",
      "print elapsed_time\n",
      "#"
     ],
     "language": "python",
     "metadata": {},
     "outputs": []
    },
    {
     "cell_type": "code",
     "collapsed": false,
     "input": [
      "#\n",
      "split_time = tm.time()\n",
      "%px i = 1 # second roi\n",
      "i = 1\n",
      "%px std = 4\n",
      "print roi.keys()[i]\n",
      "samples[roi.keys()[i]] = list( flatten( dview.map_sync(lambda x: parse_sample_parallel(x,roi[roi.keys()[i]],2,std),files)))\n",
      "elapsed_time = tm.time() - split_time\n",
      "print elapsed_time\n",
      "#"
     ],
     "language": "python",
     "metadata": {},
     "outputs": []
    },
    {
     "cell_type": "code",
     "collapsed": false,
     "input": [
      "split_time = tm.time()\n",
      "%px i = 2 # third roi\n",
      "i =2 \n",
      "%px std = 10\n",
      "print roi.keys()[i]\n",
      "samples[roi.keys()[i]] = list( flatten( dview.map_sync(lambda x: parse_sample_parallel(x,roi[roi.keys()[i]],2,std),files)))\n",
      "\n",
      "elapsed_time = tm.time() - split_time\n",
      "print elapsed_time\n",
      "total_elapsed_time = tm.time() - start_time\n",
      "print 'Total time used %s miuntes'%(total_elapsed_time/60.)"
     ],
     "language": "python",
     "metadata": {},
     "outputs": []
    },
    {
     "cell_type": "heading",
     "level": 2,
     "metadata": {},
     "source": [
      "Pand-ify data"
     ]
    },
    {
     "cell_type": "code",
     "collapsed": false,
     "input": [
      "load_from_diks = False"
     ],
     "language": "python",
     "metadata": {},
     "outputs": []
    },
    {
     "cell_type": "code",
     "collapsed": false,
     "input": [
      "spec_df = load_spec_log(name)\n",
      "data['Time'] = spec_df.Time.values"
     ],
     "language": "python",
     "metadata": {},
     "outputs": []
    },
    {
     "cell_type": "code",
     "collapsed": false,
     "input": [
      "if load_from_diks:\n",
      "    print 'loading from disk'\n",
      "    data = load_data_frame(name)\n",
      "    if not data:\n",
      "        print 'not found on disk, loading from memory'\n",
      "        data = pandify(samples,roi,name)\n",
      "if not load_from_diks:\n",
      "    print 'loading from memory'\n",
      "    data = pandify(samples, roi,name)\n",
      "    !git commit -a -m 'added new dataframe'"
     ],
     "language": "python",
     "metadata": {},
     "outputs": []
    },
    {
     "cell_type": "code",
     "collapsed": false,
     "input": [
      "on_off2 = [\n",
      " 185.0,\n",
      " 213.0,\n",
      " 253.0,\n",
      " 283.0,\n",
      " 311.0,\n",
      " 340.0,\n",
      " 390.0,\n",
      " 440.0,\n",
      " 498.0,\n",
      " 540.0,\n",
      " 600,\n",
      " 700,\n",
      " 824, #on\n",
      " 885, #off\n",
      " 895, #on\n",
      " 916, #off\n",
      " 983,\n",
      " 1005, # off???\n",
      " 1099, #on\n",
      " 1129, # off\n",
      " 1150, # on\n",
      " 1180,\n",
      " spec_df.Time.max()-439,\n",
      " spec_df.Time.max()] #off"
     ],
     "language": "python",
     "metadata": {},
     "outputs": []
    },
    {
     "cell_type": "code",
     "collapsed": false,
     "input": [
      "filename = str(name) + 'shutter' + \".p\""
     ],
     "language": "python",
     "metadata": {},
     "outputs": []
    },
    {
     "cell_type": "code",
     "collapsed": false,
     "input": [
      "pickle.dump(on_off2, open(filename, \"wb\"))\n",
      "!git commit -m 'testing new on offs for 0799time ' $filename\n"
     ],
     "language": "python",
     "metadata": {},
     "outputs": []
    },
    {
     "cell_type": "code",
     "collapsed": false,
     "input": [
      "# on_off = save_suhtters(name)"
     ],
     "language": "python",
     "metadata": {},
     "outputs": []
    },
    {
     "cell_type": "code",
     "collapsed": false,
     "input": [
      "parameters_dict = {'TW': 200, 'WZ':100, 'ZB': 28.8} # 2,200,28.8\n",
      "save_spline_par(parameters_dict, name)\n",
      "filename = str(name) + 'spline_parameters' + \".p\"\n",
      "!git commit -m 'new spline dict' -- $filename"
     ],
     "language": "python",
     "metadata": {},
     "outputs": []
    },
    {
     "cell_type": "code",
     "collapsed": false,
     "input": [
      "fig = do(data, 'WZ', parameters_dict,name)"
     ],
     "language": "python",
     "metadata": {},
     "outputs": []
    },
    {
     "cell_type": "code",
     "collapsed": false,
     "input": [
      "fig = do(data, 'TW', parameters_dict,name)"
     ],
     "language": "python",
     "metadata": {},
     "outputs": []
    },
    {
     "cell_type": "code",
     "collapsed": false,
     "input": [
      "fig = do(data, 'ZB', parameters_dict,name)"
     ],
     "language": "python",
     "metadata": {},
     "outputs": []
    },
    {
     "cell_type": "heading",
     "level": 2,
     "metadata": {},
     "source": [
      "Data devide in two sets"
     ]
    },
    {
     "cell_type": "code",
     "collapsed": false,
     "input": [
      "dataI = data[data.Time < 858]\n",
      "dataII = data[data.Time > 855]"
     ],
     "language": "python",
     "metadata": {},
     "outputs": []
    },
    {
     "cell_type": "markdown",
     "metadata": {},
     "source": [
      "data I "
     ]
    },
    {
     "cell_type": "code",
     "collapsed": false,
     "input": [
      "fig, ax = subplots(figsize=(15,10))\n",
      "ax2 = ax.twinx()\n",
      "ax.plot(dataI.Time, dataI.Int_TW, '.',label= '$I_{TW}$', c='#789048')\n",
      "ax2.plot(dataI.Time, dataI.Int_WZ, '.',label= '$I_{WZ}$', c='#604848')\n",
      "shade(on_off2,ax)\n",
      "color_ticks(fig)\n",
      "update_legend(fig)\n",
      "fig"
     ],
     "language": "python",
     "metadata": {},
     "outputs": []
    },
    {
     "cell_type": "markdown",
     "metadata": {},
     "source": [
      "data II"
     ]
    },
    {
     "cell_type": "code",
     "collapsed": false,
     "input": [
      "fig, ax = subplots(figsize=(15,10))\n",
      "ax2 = ax.twinx()\n",
      "dataI = data[data.Time < 858]\n",
      "ax.plot(dataII.Time, dataII.Int_TW, '.',label= '$I_{TW}$', c='#789048')\n",
      "ax2.plot(dataII.Time, dataII.Int_WZ, '.',label= '$I_{WZ}$', c='#604848')\n",
      "update_legend(fig)\n",
      "color_ticks(fig)\n",
      "shade(on_off2,ax)\n",
      "fig"
     ],
     "language": "python",
     "metadata": {},
     "outputs": []
    },
    {
     "cell_type": "heading",
     "level": 2,
     "metadata": {},
     "source": [
      "Strain dynamics"
     ]
    },
    {
     "cell_type": "markdown",
     "metadata": {},
     "source": [
      "part I"
     ]
    },
    {
     "cell_type": "code",
     "collapsed": false,
     "input": [
      "fig, ax = subplots(figsize=(15,10))\n",
      "ax1 = ax.twinx()\n",
      "ax2 = ax.twinx()\n",
      "ax1.plot(dataI.Time, dataI.COM_x_WZ, '.', label='WZ Peak Position $\\parallel $ ', c='#FECEA8')\n",
      "ax2.plot(dataI.Time,  dataI.COM_y_WZ, '.', label = 'WZ Peak Position $\\perp $', c='#E84A5F')\n",
      "ax.plot(dataI.Time, dataI.Int_TW, '.',label= '$I_{TW}$', c='#789048')\n",
      "update_legend(fig,0)\n",
      "\n",
      "make_spine_invisible(ax2, \"right\")\n",
      "offset_axis(ax2,1.1)\n",
      "make_spine_invisible(ax3, \"left\")\n",
      "\n",
      "offset_axis(ax3,-0.1, \"left\")\n",
      "\n",
      "ax2.grid('off')\n",
      "ax1.grid('off')\n",
      "\n",
      "ax.tick_params(axis='x', pad=15)\n",
      "\n",
      "color_ticks(fig)\n",
      "shade(on_off2,ax)\n",
      "\n",
      "ax.set_xlabel('Time(s)')\n",
      "ax2.set_ylabel('Peak Position (pixel)')\n",
      "ax.set_ylabel('Intensity (a.u.)')\n",
      "ax.grid(True, which='both')\n",
      "\n",
      "\n",
      "tight_layout()\n",
      "fig\n",
      "# fig.savefig('strain.pdf')"
     ],
     "language": "python",
     "metadata": {},
     "outputs": []
    },
    {
     "cell_type": "markdown",
     "metadata": {},
     "source": [
      "part II"
     ]
    },
    {
     "cell_type": "code",
     "collapsed": false,
     "input": [
      "fig, ax = subplots(figsize=(15,10))\n",
      "ax1 = ax.twinx()\n",
      "ax2 = ax.twinx()\n",
      "ax1.plot(dataII.Time, dataII.COM_x_WZ, '.', label='WZ Peak Position $\\parallel $ ', c='#FECEA8')\n",
      "ax2.plot(dataII.Time,  dataII.COM_y_WZ, '.', label = 'WZ Peak Position $\\perp $', c='#E84A5F')\n",
      "ax.plot(dataII.Time, dataII.Int_TW, '.',label= '$I_{TW}$', c='#789048')\n",
      "update_legend(fig,0)\n",
      "\n",
      "make_spine_invisible(ax2, \"right\")\n",
      "offset_axis(ax2,1.1)\n",
      "make_spine_invisible(ax3, \"left\")\n",
      "\n",
      "offset_axis(ax3,-0.1, \"left\")\n",
      "\n",
      "ax2.grid('off')\n",
      "ax1.grid('off')\n",
      "\n",
      "ax.tick_params(axis='x', pad=15)\n",
      "\n",
      "color_ticks(fig)\n",
      "shade(on_off2,ax)\n",
      "\n",
      "ax.set_xlabel('Time(s)')\n",
      "ax2.set_ylabel('Peak Position (pixel)')\n",
      "ax.set_ylabel('Intensity (a.u.)')\n",
      "ax.grid(True, which='both')\n",
      "\n",
      "\n",
      "tight_layout()\n",
      "fig\n",
      "# fig.savefig('strain.pdf')"
     ],
     "language": "python",
     "metadata": {},
     "outputs": []
    },
    {
     "cell_type": "heading",
     "level": 2,
     "metadata": {},
     "source": [
      "Growth dynamics"
     ]
    },
    {
     "cell_type": "markdown",
     "metadata": {},
     "source": [
      "part I"
     ]
    },
    {
     "cell_type": "code",
     "collapsed": false,
     "input": [
      "fig, ax = subplots(figsize=(15,10))\n",
      "ax2 = ax.twinx()\n",
      "\n",
      "\n",
      "ax.plot(dataI.Time, dataI.Int_WZ,'o',label= '$I_{WZ}$', c='#EA9E4B')\n",
      "\n",
      "# ax2.plot(dataI.Time, savitzky_golay(dataI.Int_WZ,15,3,1),label='15,3')\n",
      "# ax2.plot(dataI.Time, savitzky_golay(dataI.Int_WZ,25,3,1),label='25,3')\n",
      "\n",
      "ax2.plot(dataI.Time, savitzky_golay(dataI.Int_WZ,15,2,1),'--',label='15,2')\n",
      "# ax2.plot(dataI.Time, savitzky_golay(dataI.Int_WZ,25,2,1),label='25,2')\n",
      "\n",
      "\n",
      "# ax2.plot(dataI.Time, savitzky_golay(dataI.Int_WZ,15,4,1),'o',label='15,4')\n",
      "# ax2.plot(dataI.Time, savitzky_golay(dataI.Int_WZ,25,4,1),label='25,4')\n",
      "\n",
      "# ax properties \n",
      "\n",
      "ax.tick_params(axis='x', pad=15)\n",
      "ax.set_xlabel('Time(s)')\n",
      "ax.set_ylabel('Intensity (a.u.)')\n",
      "# ax.set_xticks(xrange(300,900,50),minor=True)\n",
      "ax.grid(True, which='both')\n",
      "\n",
      "# ax2 propr\n",
      "\n",
      "ax2.legend()\n",
      "\n",
      "#global prop\n",
      "ax2.plot(dataI.Time, zeros(len(dataI)),'k--')\n",
      "\n",
      "shade(on_off2,ax, lim = 300)\n",
      "color_ticks(fig)\n",
      "tight_layout()\n",
      "fig"
     ],
     "language": "python",
     "metadata": {},
     "outputs": []
    },
    {
     "cell_type": "markdown",
     "metadata": {},
     "source": [
      "Part II"
     ]
    },
    {
     "cell_type": "code",
     "collapsed": false,
     "input": [
      "fig, ax = subplots(figsize=(15,10))\n",
      "ax2 = ax.twinx()\n",
      "\n",
      "\n",
      "ax.plot(dataII.Time, dataII.Int_WZ,'o',label= '$I_{WZ}$', c='#EA9E4B')\n",
      "\n",
      "# ax2.plot(dataII.Time, savitzky_golay(dataII.Int_WZ,15,3,1),label='15,3')\n",
      "# ax2.plot(dataII.Time, savitzky_golay(dataII.Int_WZ,25,3,1),label='25,3')\n",
      "\n",
      "ax2.plot(dataII.Time, savitzky_golay(dataII.Int_WZ,25,4,1),'--',label='15,2')\n",
      "# ax2.plot(dataII.Time, savitzky_golay(dataII.Int_WZ,25,2,1),label='25,2')\n",
      "\n",
      "\n",
      "# ax2.plot(dataII.Time, savitzky_golay(dataII.Int_WZ,15,4,1),'o',label='15,4')\n",
      "# ax2.plot(dataII.Time, savitzky_golay(dataII.Int_WZ,25,4,1),label='25,4')\n",
      "\n",
      "# ax properties \n",
      "\n",
      "ax.tick_params(axis='x', pad=15)\n",
      "ax.set_xlabel('Time(s)')\n",
      "ax.set_ylabel('Intensity (a.u.)')\n",
      "# ax.set_xticks(xrange(300,900,50),minor=True)\n",
      "ax.grid(True, which='both')\n",
      "\n",
      "# ax2 propr\n",
      "\n",
      "ax2.legend()\n",
      "\n",
      "#global prop\n",
      "ax2.plot(dataII.Time, zeros(len(dataII)),'k--')\n",
      "\n",
      "shade(on_off2,ax, lim = 300)\n",
      "color_ticks(fig)\n",
      "tight_layout()\n",
      "fig"
     ],
     "language": "python",
     "metadata": {},
     "outputs": []
    }
   ],
   "metadata": {}
  }
 ]
}